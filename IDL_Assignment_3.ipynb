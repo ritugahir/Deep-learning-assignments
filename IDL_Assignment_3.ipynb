{
  "nbformat": 4,
  "nbformat_minor": 0,
  "metadata": {
    "colab": {
      "name": "IDL_Assignment_3.ipynb",
      "provenance": [],
      "collapsed_sections": [
        "Z7knhoNJlWQM"
      ]
    },
    "kernelspec": {
      "name": "python3",
      "display_name": "Python 3"
    },
    "accelerator": "GPU"
  },
  "cells": [
    {
      "cell_type": "markdown",
      "metadata": {
        "id": "AQkaVumugg3_",
        "colab_type": "text"
      },
      "source": [
        "# **Assignment 3**\n",
        "\n",
        "**Submitted by : Ritu Gahir**\n",
        "\n",
        "**Team Members :**\n",
        "\n",
        "1.   Ritu Gahir - Group 3\n",
        "\n",
        "2.   Libin Kutty - Group 2\n",
        "\n",
        "1.   Viju Sudhi - Group 10\n",
        "\n",
        "\n",
        "---\n",
        "\n",
        "\n",
        "\n",
        "\n",
        "\n",
        "\n",
        "\n",
        "\n",
        "\n"
      ]
    },
    {
      "cell_type": "code",
      "metadata": {
        "id": "eLM9ypxbvOFA",
        "colab_type": "code",
        "colab": {}
      },
      "source": [
        "%tensorflow_version 2.x"
      ],
      "execution_count": 0,
      "outputs": []
    },
    {
      "cell_type": "code",
      "metadata": {
        "id": "J3ft_OZNhemJ",
        "colab_type": "code",
        "colab": {}
      },
      "source": [
        "import tensorflow as tf\n",
        "from tensorflow import keras\n",
        "import numpy as np\n",
        "import os"
      ],
      "execution_count": 0,
      "outputs": []
    },
    {
      "cell_type": "code",
      "metadata": {
        "id": "7xnhyb0uvSmF",
        "colab_type": "code",
        "outputId": "f383efbb-d351-4f21-e83c-23691684ff94",
        "colab": {
          "base_uri": "https://localhost:8080/",
          "height": 33
        }
      },
      "source": [
        "tf.__version__"
      ],
      "execution_count": 0,
      "outputs": [
        {
          "output_type": "execute_result",
          "data": {
            "text/plain": [
              "'2.2.0'"
            ]
          },
          "metadata": {
            "tags": []
          },
          "execution_count": 26
        }
      ]
    },
    {
      "cell_type": "code",
      "metadata": {
        "id": "3EU-kkL-vj6I",
        "colab_type": "code",
        "outputId": "68889e40-93f7-47d6-e19a-be15d7b1f8a8",
        "colab": {
          "base_uri": "https://localhost:8080/",
          "height": 33
        }
      },
      "source": [
        "os.getcwd()"
      ],
      "execution_count": 0,
      "outputs": [
        {
          "output_type": "execute_result",
          "data": {
            "text/plain": [
              "'/content'"
            ]
          },
          "metadata": {
            "tags": []
          },
          "execution_count": 28
        }
      ]
    },
    {
      "cell_type": "markdown",
      "metadata": {
        "id": "3d-p8bYlA7V9",
        "colab_type": "text"
      },
      "source": [
        "# **CNN on MNIST**\n",
        "\n",
        "---\n"
      ]
    },
    {
      "cell_type": "code",
      "metadata": {
        "id": "djNP4o4wA_2v",
        "colab_type": "code",
        "colab": {}
      },
      "source": [
        "import tensorflow as tf\n",
        "import numpy as np\n",
        "import matplotlib.pyplot as plt"
      ],
      "execution_count": 0,
      "outputs": []
    },
    {
      "cell_type": "code",
      "metadata": {
        "id": "6REEZOPJDT1_",
        "colab_type": "code",
        "outputId": "a3b4c1ba-d8c0-485e-a011-663f30a6af62",
        "colab": {
          "base_uri": "https://localhost:8080/",
          "height": 33
        }
      },
      "source": [
        "mnist = tf.keras.datasets.mnist\n",
        "(train_images, train_labels), (test_images, test_labels) = mnist.load_data()\n",
        "\n",
        "train_images.shape"
      ],
      "execution_count": 0,
      "outputs": [
        {
          "output_type": "execute_result",
          "data": {
            "text/plain": [
              "(60000, 28, 28)"
            ]
          },
          "metadata": {
            "tags": []
          },
          "execution_count": 21
        }
      ]
    },
    {
      "cell_type": "code",
      "metadata": {
        "id": "0ZsZdSMIcUg9",
        "colab_type": "code",
        "colab": {}
      },
      "source": [
        "data = tf.data.Dataset.from_tensor_slices(\n",
        "    (train_images.reshape([-1,28,28,1]).astype(np.float32) / 255, train_labels.astype(np.int32)))\n",
        "train_data = data.shuffle(buffer_size=60000).batch(128).repeat(3)\n",
        "\n",
        "# note: we batch the test data, but do not shuffle/repeat\n",
        "test_data = tf.data.Dataset.from_tensor_slices(\n",
        "    (test_images.reshape([-1,28,28,1]).astype(np.float32)/ 255, test_labels.astype(np.int32))).batch(128)\n",
        "\n",
        "#.reshape([-1,28,28,1]).astype(np.float32)\n"
      ],
      "execution_count": 0,
      "outputs": []
    },
    {
      "cell_type": "code",
      "metadata": {
        "id": "mbj4HKIUDWqP",
        "colab_type": "code",
        "outputId": "560178a0-aac1-45ce-d61f-c753e1a38ce3",
        "colab": {
          "base_uri": "https://localhost:8080/",
          "height": 472
        }
      },
      "source": [
        "#Model \n",
        "n_h = 256\n",
        "model=tf.keras.models.Sequential(\n",
        "    [\n",
        "     tf.keras.layers.Conv2D(28 , (3,3) , activation='relu',input_shape=(28,28,1)),\n",
        "     tf.keras.layers.MaxPooling2D(2,2),\n",
        "     tf.keras.layers.Conv2D(28 , (3,3) , activation='relu'),\n",
        "     tf.keras.layers.MaxPooling2D(2,2),\n",
        "     tf.keras.layers.Conv2D(28 , (3,3) , activation='relu'),\n",
        "     tf.keras.layers.MaxPooling2D(2,2),\n",
        "     tf.keras.layers.Flatten(),\n",
        "     tf.keras.layers.Dense(n_h , activation=tf.nn.relu),\n",
        "     tf.keras.layers.Dense(n_h//2, activation=tf.nn.relu),\n",
        "     tf.keras.layers.Dense(10)\n",
        "    ])\n",
        "model.summary()"
      ],
      "execution_count": 0,
      "outputs": [
        {
          "output_type": "stream",
          "text": [
            "Model: \"sequential_1\"\n",
            "_________________________________________________________________\n",
            "Layer (type)                 Output Shape              Param #   \n",
            "=================================================================\n",
            "conv2d (Conv2D)              (None, 26, 26, 28)        280       \n",
            "_________________________________________________________________\n",
            "max_pooling2d (MaxPooling2D) (None, 13, 13, 28)        0         \n",
            "_________________________________________________________________\n",
            "conv2d_1 (Conv2D)            (None, 11, 11, 28)        7084      \n",
            "_________________________________________________________________\n",
            "max_pooling2d_1 (MaxPooling2 (None, 5, 5, 28)          0         \n",
            "_________________________________________________________________\n",
            "conv2d_2 (Conv2D)            (None, 3, 3, 28)          7084      \n",
            "_________________________________________________________________\n",
            "max_pooling2d_2 (MaxPooling2 (None, 1, 1, 28)          0         \n",
            "_________________________________________________________________\n",
            "flatten (Flatten)            (None, 28)                0         \n",
            "_________________________________________________________________\n",
            "dense_3 (Dense)              (None, 256)               7424      \n",
            "_________________________________________________________________\n",
            "dense_4 (Dense)              (None, 128)               32896     \n",
            "_________________________________________________________________\n",
            "dense_5 (Dense)              (None, 10)                1290      \n",
            "=================================================================\n",
            "Total params: 56,058\n",
            "Trainable params: 56,058\n",
            "Non-trainable params: 0\n",
            "_________________________________________________________________\n"
          ],
          "name": "stdout"
        }
      ]
    },
    {
      "cell_type": "code",
      "metadata": {
        "id": "fz1BvMquSWCS",
        "colab_type": "code",
        "colab": {}
      },
      "source": [
        "optimizer = keras.optimizers.Adam(learning_rate=1e-3)\n",
        "loss_fn = keras.losses.SparseCategoricalCrossentropy(from_logits=True)"
      ],
      "execution_count": 0,
      "outputs": []
    },
    {
      "cell_type": "code",
      "metadata": {
        "id": "-H2fLSFSg5Os",
        "colab_type": "code",
        "colab": {}
      },
      "source": [
        "train_acc_metric = keras.metrics.SparseCategoricalAccuracy()\n",
        "test_acc_metric = keras.metrics.SparseCategoricalAccuracy()"
      ],
      "execution_count": 0,
      "outputs": []
    },
    {
      "cell_type": "code",
      "metadata": {
        "id": "yY6c5edGRx2I",
        "colab_type": "code",
        "outputId": "7d8f238a-ef79-4bc6-88b9-05cffe43ab34",
        "colab": {
          "base_uri": "https://localhost:8080/",
          "height": 407
        }
      },
      "source": [
        "epochs = 3\n",
        "for epoch in range(epochs):\n",
        "  print('Start of epoch %d' % (epoch,))\n",
        "\n",
        "  for step, (x_batch_train, y_batch_train) in enumerate(train_data):\n",
        "\n",
        "    with tf.GradientTape() as tape:\n",
        "      logits = model(x_batch_train, training=True)\n",
        "      loss_value = loss_fn(y_batch_train, logits)\n",
        "\n",
        "    grads = tape.gradient(loss_value, model.trainable_weights)\n",
        "    optimizer.apply_gradients(zip(grads, model.trainable_weights))\n",
        "\n",
        "    train_acc_metric(y_batch_train, logits)\n",
        "\n",
        "    # Log every 200 batches.\n",
        "    if step % 500 == 0:\n",
        "        print('Training loss (for one batch) at step %s: %s' % (step, float(loss_value)))\n",
        "        print('Seen so far: %s samples' % ((step + 1) * 64))\n",
        "\n",
        "  train_acc = train_acc_metric.result()\n",
        "  print('Training acc over epoch: %s' % (float(train_acc),))"
      ],
      "execution_count": 0,
      "outputs": [
        {
          "output_type": "stream",
          "text": [
            "Start of epoch 0\n",
            "Training loss (for one batch) at step 0: 2.3004422187805176\n",
            "Seen so far: 64 samples\n",
            "Training loss (for one batch) at step 500: 0.1309630423784256\n",
            "Seen so far: 32064 samples\n",
            "Training loss (for one batch) at step 1000: 0.10333317518234253\n",
            "Seen so far: 64064 samples\n",
            "Training acc over epoch: 0.9360777735710144\n",
            "Start of epoch 1\n",
            "Training loss (for one batch) at step 0: 0.0715174749493599\n",
            "Seen so far: 64 samples\n",
            "Training loss (for one batch) at step 500: 0.07514865696430206\n",
            "Seen so far: 32064 samples\n",
            "Training loss (for one batch) at step 1000: 0.036931272596120834\n",
            "Seen so far: 64064 samples\n",
            "Training acc over epoch: 0.957925021648407\n",
            "Start of epoch 2\n",
            "Training loss (for one batch) at step 0: 0.08261911571025848\n",
            "Seen so far: 64 samples\n",
            "Training loss (for one batch) at step 500: 0.024450715631246567\n",
            "Seen so far: 32064 samples\n",
            "Training loss (for one batch) at step 1000: 0.023984048515558243\n",
            "Seen so far: 64064 samples\n",
            "Training acc over epoch: 0.9673018455505371\n"
          ],
          "name": "stdout"
        }
      ]
    },
    {
      "cell_type": "code",
      "metadata": {
        "id": "d7k6tfPigARb",
        "colab_type": "code",
        "outputId": "6eee5990-f97a-4920-d5d6-65043decc2e3",
        "colab": {
          "base_uri": "https://localhost:8080/",
          "height": 33
        }
      },
      "source": [
        "for x_batch_test, y_batch_test in test_data:\n",
        "  test_logits = model(x_batch_test)\n",
        "    # Update val metrics\n",
        "  test_acc_metric(y_batch_test, test_logits)\n",
        "test_acc = test_acc_metric.result()\n",
        "test_acc_metric.reset_states()\n",
        "print('Test acc: %s' % (float(test_acc),))"
      ],
      "execution_count": 0,
      "outputs": [
        {
          "output_type": "stream",
          "text": [
            "Test acc: 0.9836000204086304\n"
          ],
          "name": "stdout"
        }
      ]
    },
    {
      "cell_type": "markdown",
      "metadata": {
        "id": "6lpIIyo-h3yj",
        "colab_type": "text"
      },
      "source": [
        "**Observations** :\n",
        "\n",
        "---\n",
        "\n",
        "\n",
        "\n",
        "\n",
        "*   With only one convolution layer followed by max pooling , SGd as optimiser :\n",
        "    Training accuracy : 90.90      Test Accuracy : 92.28\n",
        "\n",
        "*   With only one convolution layer followed by max pooling , SGd as optimiser :\n",
        "    Training accuracy : 90.90      Test Accuracy : 92.28\n",
        "\n",
        "*   With only one convolution layer followed by max pooling and Adam Optimiser :\n",
        "    Training Accuracy : 98.76      Test Accuracy : 98.65\n",
        "\n",
        "\n",
        "*   With 3 convolution and maxpooling layers and Adam optimiser :\n",
        "    Training Accuracy : 96.73      Test Accuracy : 98.36\n",
        "\n",
        "\n",
        "\n",
        "\n",
        "\n",
        "\n",
        "\n",
        "\n",
        "\n",
        "\n"
      ]
    },
    {
      "cell_type": "markdown",
      "metadata": {
        "id": "Z7knhoNJlWQM",
        "colab_type": "text"
      },
      "source": [
        "# **CNN on Fashion MNIST**\n",
        "\n",
        "---\n",
        "\n"
      ]
    },
    {
      "cell_type": "code",
      "metadata": {
        "id": "unCSR6bHlyxT",
        "colab_type": "code",
        "colab": {}
      },
      "source": [
        "import tensorflow as tf\n",
        "import numpy as np\n",
        "import matplotlib.pyplot as plt"
      ],
      "execution_count": 0,
      "outputs": []
    },
    {
      "cell_type": "code",
      "metadata": {
        "id": "W5RlV52Il7FE",
        "colab_type": "code",
        "outputId": "a66a96e1-3bb6-4408-a6a8-7549b80a9458",
        "colab": {
          "base_uri": "https://localhost:8080/",
          "height": 33
        }
      },
      "source": [
        "fashion_mnist = tf.keras.datasets.fashion_mnist\n",
        "(train_images_fashion_mnist, train_labels_fashion_mnist), (test_images_fashion_mnist, test_labels_fashion_mnist) = fashion_mnist.load_data()\n",
        "\n",
        "train_images_fashion_mnist.shape"
      ],
      "execution_count": 0,
      "outputs": [
        {
          "output_type": "execute_result",
          "data": {
            "text/plain": [
              "(60000, 28, 28)"
            ]
          },
          "metadata": {
            "tags": []
          },
          "execution_count": 84
        }
      ]
    },
    {
      "cell_type": "code",
      "metadata": {
        "id": "xTJQLZnau3CC",
        "colab_type": "code",
        "colab": {}
      },
      "source": [
        "data_fashion_mnist = tf.data.Dataset.from_tensor_slices(\n",
        "    (train_images_fashion_mnist.reshape([-1,28,28,1]).astype(np.float32) / 255, train_labels_fashion_mnist.astype(np.int32)))\n",
        "train_data_fashion_mnist = data_fashion_mnist.shuffle(buffer_size=60000).batch(128).repeat(3)\n",
        "\n",
        "# note: we batch the test data, but do not shuffle/repeat\n",
        "test_data_fashion_mnist = tf.data.Dataset.from_tensor_slices(\n",
        "    (test_images_fashion_mnist.reshape([-1,28,28,1]).astype(np.float32)/ 255, test_labels_fashion_mnist.astype(np.int32))).batch(128)\n",
        "\n",
        "#.reshape([-1,28,28,1]).astype(np.float32)"
      ],
      "execution_count": 0,
      "outputs": []
    },
    {
      "cell_type": "code",
      "metadata": {
        "id": "q1TGH9Psu8lC",
        "colab_type": "code",
        "outputId": "b773c848-8ce2-414d-9933-6ce716668b10",
        "colab": {
          "base_uri": "https://localhost:8080/",
          "height": 342
        }
      },
      "source": [
        "#Model \n",
        "n_h = 256\n",
        "model_fashion_mnist=tf.keras.models.Sequential(\n",
        "    [\n",
        "     tf.keras.layers.Conv2D(28 , (3,3) , activation='relu',input_shape=(28,28,1)),\n",
        "     tf.keras.layers.MaxPooling2D(2,2),\n",
        "     #tf.keras.layers.Conv2D(56 , (3,3) , activation='relu'),\n",
        "     #tf.keras.layers.MaxPooling2D(2,2),\n",
        "     #tf.keras.layers.Conv2D(112 , (3,3) , activation='relu'),\n",
        "     #tf.keras.layers.MaxPooling2D(2,2),\n",
        "     tf.keras.layers.Flatten(),\n",
        "     tf.keras.layers.Dense(n_h , activation=tf.nn.relu),\n",
        "     tf.keras.layers.Dense(n_h//2, activation=tf.nn.relu),\n",
        "     tf.keras.layers.Dense(10)\n",
        "    ])\n",
        "model_fashion_mnist.summary()"
      ],
      "execution_count": 0,
      "outputs": [
        {
          "output_type": "stream",
          "text": [
            "Model: \"sequential_17\"\n",
            "_________________________________________________________________\n",
            "Layer (type)                 Output Shape              Param #   \n",
            "=================================================================\n",
            "conv2d_41 (Conv2D)           (None, 26, 26, 28)        280       \n",
            "_________________________________________________________________\n",
            "max_pooling2d_41 (MaxPooling (None, 13, 13, 28)        0         \n",
            "_________________________________________________________________\n",
            "flatten_16 (Flatten)         (None, 4732)              0         \n",
            "_________________________________________________________________\n",
            "dense_51 (Dense)             (None, 256)               1211648   \n",
            "_________________________________________________________________\n",
            "dense_52 (Dense)             (None, 128)               32896     \n",
            "_________________________________________________________________\n",
            "dense_53 (Dense)             (None, 10)                1290      \n",
            "=================================================================\n",
            "Total params: 1,246,114\n",
            "Trainable params: 1,246,114\n",
            "Non-trainable params: 0\n",
            "_________________________________________________________________\n"
          ],
          "name": "stdout"
        }
      ]
    },
    {
      "cell_type": "code",
      "metadata": {
        "id": "_n3UyYYbvAZV",
        "colab_type": "code",
        "colab": {}
      },
      "source": [
        "optimizer_fashion_mnist = keras.optimizers.SGD(learning_rate=1e-3)\n",
        "loss_fn_fashion_mnist = keras.losses.SparseCategoricalCrossentropy(from_logits=True)"
      ],
      "execution_count": 0,
      "outputs": []
    },
    {
      "cell_type": "code",
      "metadata": {
        "id": "0TUgc5RxvDYY",
        "colab_type": "code",
        "colab": {}
      },
      "source": [
        "train_acc_metric_fashion_mnist = keras.metrics.SparseCategoricalAccuracy()\n",
        "test_acc_metric_fashion_mnist = keras.metrics.SparseCategoricalAccuracy()"
      ],
      "execution_count": 0,
      "outputs": []
    },
    {
      "cell_type": "code",
      "metadata": {
        "id": "qW0miE31vGcu",
        "colab_type": "code",
        "outputId": "db4e27a0-15aa-419d-9ae3-d64577c67d99",
        "colab": {
          "base_uri": "https://localhost:8080/",
          "height": 407
        }
      },
      "source": [
        "epochs = 3\n",
        "for epoch in range(epochs):\n",
        "  print('Start of epoch %d' % (epoch,))\n",
        "\n",
        "  for step, (x_batch_train, y_batch_train) in enumerate(train_data_fashion_mnist):\n",
        "\n",
        "    with tf.GradientTape() as tape:\n",
        "      logits = model_fashion_mnist(x_batch_train, training=True)\n",
        "      loss_value = loss_fn_fashion_mnist(y_batch_train, logits)\n",
        "\n",
        "    grads = tape.gradient(loss_value, model_fashion_mnist.trainable_weights)\n",
        "    optimizer_fashion_mnist.apply_gradients(zip(grads, model_fashion_mnist.trainable_weights))\n",
        "\n",
        "    train_acc_metric_fashion_mnist(y_batch_train, logits)\n",
        "\n",
        "    # Log every 500 batches.\n",
        "    if step % 500 == 0:\n",
        "        print('Training loss (for one batch) at step %s: %s' % (step, float(loss_value)))\n",
        "        print('Seen so far: %s samples' % ((step + 1) * 64))\n",
        "\n",
        "  train_acc_fashion_mnist = train_acc_metric_fashion_mnist.result()\n",
        "  print('Training acc over epoch: %s' % (float(train_acc_fashion_mnist),))"
      ],
      "execution_count": 0,
      "outputs": [
        {
          "output_type": "stream",
          "text": [
            "Start of epoch 0\n",
            "Training loss (for one batch) at step 0: 0.05330808833241463\n",
            "Seen so far: 64 samples\n",
            "Training loss (for one batch) at step 500: 0.14208944141864777\n",
            "Seen so far: 32064 samples\n",
            "Training loss (for one batch) at step 1000: 0.07391132414340973\n",
            "Seen so far: 64064 samples\n",
            "Training acc over epoch: 0.9417096972465515\n",
            "Start of epoch 1\n",
            "Training loss (for one batch) at step 0: 0.04321150854229927\n",
            "Seen so far: 64 samples\n",
            "Training loss (for one batch) at step 500: 0.021154409274458885\n",
            "Seen so far: 32064 samples\n",
            "Training loss (for one batch) at step 1000: 0.06504204124212265\n",
            "Seen so far: 64064 samples\n",
            "Training acc over epoch: 0.9498777985572815\n",
            "Start of epoch 2\n",
            "Training loss (for one batch) at step 0: 0.09974157065153122\n",
            "Seen so far: 64 samples\n",
            "Training loss (for one batch) at step 500: 0.06283340603113174\n",
            "Seen so far: 32064 samples\n",
            "Training loss (for one batch) at step 1000: 0.015153417363762856\n",
            "Seen so far: 64064 samples\n",
            "Training acc over epoch: 0.9553916454315186\n"
          ],
          "name": "stdout"
        }
      ]
    },
    {
      "cell_type": "code",
      "metadata": {
        "id": "wF34h9DzvKVL",
        "colab_type": "code",
        "outputId": "3d57b3cd-b0fa-463a-8516-71591b4b43c8",
        "colab": {
          "base_uri": "https://localhost:8080/",
          "height": 33
        }
      },
      "source": [
        "for x_batch_test, y_batch_test in test_data_fashion_mnist:\n",
        "  test_logits = model_fashion_mnist(x_batch_test)\n",
        "    # Update val metrics\n",
        "  test_acc_metric_fashion_mnist(y_batch_test, test_logits)\n",
        "test_acc_fashion_mnist = test_acc_metric_fashion_mnist.result()\n",
        "#test_acc_metric.reset_states()\n",
        "print('Test acc: %s' % (float(test_acc_fashion_mnist),))"
      ],
      "execution_count": 0,
      "outputs": [
        {
          "output_type": "stream",
          "text": [
            "Test acc: 0.9226999878883362\n"
          ],
          "name": "stdout"
        }
      ]
    },
    {
      "cell_type": "markdown",
      "metadata": {
        "id": "PIBoqMz_vWsp",
        "colab_type": "text"
      },
      "source": [
        "**Observations** :\n",
        "\n",
        "---\n",
        "\n",
        "\n",
        "\n",
        "\n",
        "\n",
        "*   With only one convolution layer followed by max pooling , SGd as optimiser :\n",
        "Training accuracy : 95.5  Test Accuracy : 92.26\n",
        "\n",
        "\n",
        "*   With only one convolution layer followed by max pooling and Adam Optimiser :\n",
        "Training Accuracy : 92.85  Test Accuracy : 92\n",
        "\n",
        "*   With 3 convolution and maxpooling layers and Adam optimiser :\n",
        "TRaining ACcuracy : 86.93  Test Accuracy : 89.12\n",
        "\n",
        "\n",
        "\n",
        "\n",
        "\n",
        "\n",
        "\n",
        "\n",
        "\n",
        "\n",
        "\n"
      ]
    },
    {
      "cell_type": "markdown",
      "metadata": {
        "id": "HoWGhN_fvxK4",
        "colab_type": "text"
      },
      "source": [
        "# **CNN on CIFAR10**"
      ]
    },
    {
      "cell_type": "code",
      "metadata": {
        "id": "2skRoZFZwsrS",
        "colab_type": "code",
        "colab": {
          "base_uri": "https://localhost:8080/",
          "height": 33
        },
        "outputId": "bd81ed06-482e-4e84-c5ff-a6163427eef0"
      },
      "source": [
        "import tensorflow as tf\n",
        "import numpy as np\n",
        "import matplotlib.pyplot as plt\n",
        "import tensorflow as tf\n",
        "from tensorflow import keras\n",
        "from keras.regularizers import l2"
      ],
      "execution_count": 7,
      "outputs": [
        {
          "output_type": "stream",
          "text": [
            "Using TensorFlow backend.\n"
          ],
          "name": "stderr"
        }
      ]
    },
    {
      "cell_type": "code",
      "metadata": {
        "id": "UOObTj_9wv70",
        "colab_type": "code",
        "outputId": "f01df432-1cd4-4e2e-ee0f-4667efefb337",
        "colab": {
          "base_uri": "https://localhost:8080/",
          "height": 50
        }
      },
      "source": [
        "cifar_10 = tf.keras.datasets.cifar10\n",
        "(train_images_cifar, train_labels_cifar), (test_images_cifar, test_labels_cifar) = cifar_10.load_data()\n",
        "\n",
        "train_labels_cifar=train_labels_cifar.reshape((-1,))\n",
        "test_labels_cifar =test_labels_cifar.reshape((-1,))\n"
      ],
      "execution_count": 2,
      "outputs": [
        {
          "output_type": "stream",
          "text": [
            "Downloading data from https://www.cs.toronto.edu/~kriz/cifar-10-python.tar.gz\n",
            "170500096/170498071 [==============================] - 2s 0us/step\n"
          ],
          "name": "stdout"
        }
      ]
    },
    {
      "cell_type": "code",
      "metadata": {
        "id": "Ip-dhxM-2hvI",
        "colab_type": "code",
        "outputId": "2a459cf2-7b53-4848-9d61-6c4e4891d46e",
        "colab": {
          "base_uri": "https://localhost:8080/",
          "height": 232
        }
      },
      "source": [
        "class_names = ['airplane', 'automobile', 'bird', 'cat', 'deer',\n",
        "               'dog', 'frog', 'horse', 'ship', 'truck']\n",
        "\n",
        "plt.figure(figsize=(20,20))\n",
        "for i in range(5):\n",
        "    plt.subplot(5,5,i+1)\n",
        "    plt.xticks([])\n",
        "    plt.yticks([])\n",
        "    plt.grid(False)\n",
        "    plt.imshow(train_images_cifar[i], cmap=plt.cm.binary)\n",
        "    # The CIFAR labels happen to be arrays, \n",
        "    # which is why you need the extra index\n",
        "    plt.xlabel(class_names[train_labels_cifar[i]])\n",
        "plt.show()"
      ],
      "execution_count": 3,
      "outputs": [
        {
          "output_type": "display_data",
          "data": {
            "image/png": "[encoded data removed]",
            "text/plain": [
              "<Figure size 1440x1440 with 5 Axes>"
            ]
          },
          "metadata": {
            "tags": []
          }
        }
      ]
    },
    {
      "cell_type": "code",
      "metadata": {
        "id": "R-iZzH62yM1V",
        "colab_type": "code",
        "outputId": "ebbb4e77-893a-40b6-e5e1-1bc9d55e589e",
        "colab": {
          "base_uri": "https://localhost:8080/",
          "height": 33
        }
      },
      "source": [
        "data_cifar = tf.data.Dataset.from_tensor_slices(\n",
        "    (train_images_cifar.reshape([-1,32,32,3]).astype(np.float32) / 255, train_labels_cifar.astype(np.int32)))\n",
        "train_data_cifar = data_cifar.shuffle(buffer_size=60000).batch(128).repeat(3)\n",
        "\n",
        "# note: we batch the test data, but do not shuffle/repeat\n",
        "test_data_cifar = tf.data.Dataset.from_tensor_slices(\n",
        "    (test_images_cifar.reshape([-1,32,32,3]).astype(np.float32)/ 255, test_labels_cifar.astype(np.int32))).batch(128)\n",
        "\n",
        "#.reshape([-1,28,28,1]).astype(np.float32)\n",
        "\n",
        "print (train_data_cifar)"
      ],
      "execution_count": 4,
      "outputs": [
        {
          "output_type": "stream",
          "text": [
            "<RepeatDataset shapes: ((None, 32, 32, 3), (None,)), types: (tf.float32, tf.int32)>\n"
          ],
          "name": "stdout"
        }
      ]
    },
    {
      "cell_type": "code",
      "metadata": {
        "id": "Qq8Yb7M_ym0X",
        "colab_type": "code",
        "outputId": "30889143-228f-4226-de3b-09d31d6bd31c",
        "colab": {
          "base_uri": "https://localhost:8080/",
          "height": 700
        }
      },
      "source": [
        "#Model \n",
        "n_h = 256\n",
        "model_cifar=tf.keras.models.Sequential(\n",
        "    [\n",
        "     tf.keras.layers.Conv2D(32 , (3,3) , activation='relu',kernel_initializer='he_uniform', padding='same',input_shape=(32,32,3)), #kernel_regularizer=l2(0.001)\n",
        "     tf.keras.layers.Conv2D(32 , (3,3) , activation='relu',kernel_initializer='he_uniform',padding='same'),\n",
        "     tf.keras.layers.MaxPooling2D(2,2),\n",
        "     tf.keras.layers.Dropout(0.2),\n",
        "\n",
        "     tf.keras.layers.Conv2D(64 , (3,3) , activation='relu',kernel_initializer='he_uniform',padding='same'),#,kernel_regularizer=l2(0.001) ),\n",
        "     tf.keras.layers.Conv2D(64 , (3,3) , activation='relu',kernel_initializer='he_uniform',padding='same'),#,kernel_regularizer=l2(0.001)),\n",
        "     tf.keras.layers.MaxPooling2D(2,2),\n",
        "     tf.keras.layers.Dropout(0.2),\n",
        "\n",
        "     tf.keras.layers.Conv2D(128 , (3,3), activation='relu',kernel_initializer='he_uniform',padding='same'),#kernel_regularizer=l2(0.001)),\n",
        "     tf.keras.layers.Conv2D(128 , (3,3) , activation='relu',kernel_initializer='he_uniform',padding='same'),\n",
        "     tf.keras.layers.MaxPooling2D(2,2),\n",
        "     tf.keras.layers.Dropout(0.2),\n",
        "\n",
        "     tf.keras.layers.Flatten(),\n",
        "     tf.keras.layers.Dense(128 , activation=tf.nn.relu,kernel_initializer='he_uniform'),#,kernel_regularizer=l2(0.001)),#kernel_regularizer=l2(0.001) Regularisation\n",
        "     tf.keras.layers.Dropout(0.2),\n",
        "     tf.keras.layers.Dense(n_h//2 , activation=tf.nn.relu),\n",
        "    \n",
        "     tf.keras.layers.Dense(10, activation=tf.nn.softmax)\n",
        "    ])\n",
        "model_cifar.summary()"
      ],
      "execution_count": 17,
      "outputs": [
        {
          "output_type": "stream",
          "text": [
            "Model: \"sequential_1\"\n",
            "_________________________________________________________________\n",
            "Layer (type)                 Output Shape              Param #   \n",
            "=================================================================\n",
            "conv2d_6 (Conv2D)            (None, 32, 32, 32)        896       \n",
            "_________________________________________________________________\n",
            "conv2d_7 (Conv2D)            (None, 32, 32, 32)        9248      \n",
            "_________________________________________________________________\n",
            "max_pooling2d_3 (MaxPooling2 (None, 16, 16, 32)        0         \n",
            "_________________________________________________________________\n",
            "dropout_1 (Dropout)          (None, 16, 16, 32)        0         \n",
            "_________________________________________________________________\n",
            "conv2d_8 (Conv2D)            (None, 16, 16, 64)        18496     \n",
            "_________________________________________________________________\n",
            "conv2d_9 (Conv2D)            (None, 16, 16, 64)        36928     \n",
            "_________________________________________________________________\n",
            "max_pooling2d_4 (MaxPooling2 (None, 8, 8, 64)          0         \n",
            "_________________________________________________________________\n",
            "dropout_2 (Dropout)          (None, 8, 8, 64)          0         \n",
            "_________________________________________________________________\n",
            "conv2d_10 (Conv2D)           (None, 8, 8, 128)         73856     \n",
            "_________________________________________________________________\n",
            "conv2d_11 (Conv2D)           (None, 8, 8, 128)         147584    \n",
            "_________________________________________________________________\n",
            "max_pooling2d_5 (MaxPooling2 (None, 4, 4, 128)         0         \n",
            "_________________________________________________________________\n",
            "dropout_3 (Dropout)          (None, 4, 4, 128)         0         \n",
            "_________________________________________________________________\n",
            "flatten_1 (Flatten)          (None, 2048)              0         \n",
            "_________________________________________________________________\n",
            "dense_2 (Dense)              (None, 128)               262272    \n",
            "_________________________________________________________________\n",
            "dropout_4 (Dropout)          (None, 128)               0         \n",
            "_________________________________________________________________\n",
            "dense_3 (Dense)              (None, 128)               16512     \n",
            "_________________________________________________________________\n",
            "dense_4 (Dense)              (None, 10)                1290      \n",
            "=================================================================\n",
            "Total params: 567,082\n",
            "Trainable params: 567,082\n",
            "Non-trainable params: 0\n",
            "_________________________________________________________________\n"
          ],
          "name": "stdout"
        }
      ]
    },
    {
      "cell_type": "code",
      "metadata": {
        "id": "saLVHVP4yvdF",
        "colab_type": "code",
        "colab": {}
      },
      "source": [
        "optimizer_cifar = keras.optimizers.SGD(lr=0.001, momentum=0.9)\n",
        "loss_fn_cifar = keras.losses.SparseCategoricalCrossentropy(from_logits=True)"
      ],
      "execution_count": 0,
      "outputs": []
    },
    {
      "cell_type": "code",
      "metadata": {
        "id": "GT-cijzByym0",
        "colab_type": "code",
        "colab": {}
      },
      "source": [
        "train_acc_metric_cifar = keras.metrics.SparseCategoricalAccuracy()\n",
        "test_acc_metric_cifar = keras.metrics.SparseCategoricalAccuracy()"
      ],
      "execution_count": 0,
      "outputs": []
    },
    {
      "cell_type": "code",
      "metadata": {
        "id": "IT4KB64wy1U9",
        "colab_type": "code",
        "outputId": "a35a6091-87ab-4112-beaa-81390d9191d8",
        "colab": {
          "base_uri": "https://localhost:8080/",
          "height": 1000
        }
      },
      "source": [
        "epochs = 100\n",
        "for epoch in range(epochs):\n",
        "  print('Start of epoch %d' % (epoch,))\n",
        "\n",
        "  for step, (x_batch_train_cifar, y_batch_train_cifar) in enumerate(train_data_cifar):\n",
        "\n",
        "    with tf.GradientTape() as tape:\n",
        "      logits = model_cifar(x_batch_train_cifar, training=True)\n",
        "      loss_value = loss_fn_cifar(y_batch_train_cifar, logits)\n",
        "\n",
        "    grads = tape.gradient(loss_value, model_cifar.trainable_weights)\n",
        "    optimizer_cifar.apply_gradients(zip(grads, model_cifar.trainable_weights))\n",
        "\n",
        "    train_acc_metric_cifar(y_batch_train_cifar, logits)\n",
        "\n",
        "    # Log every 200 batches.\n",
        "    if step % 500 == 0:\n",
        "        print('Training loss (for one batch) at step %s: %s' % (step, float(loss_value)))\n",
        "        print('Seen so far: %s samples' % ((step + 1) * 64))\n",
        "\n",
        "  train_acc_cifar = train_acc_metric_cifar.result()\n",
        "  print('Training acc over epoch: %s' % (float(train_acc_cifar),))"
      ],
      "execution_count": 22,
      "outputs": [
        {
          "output_type": "stream",
          "text": [
            "Start of epoch 0\n",
            "Training loss (for one batch) at step 0: 1.7130677700042725\n",
            "Seen so far: 64 samples\n",
            "Training loss (for one batch) at step 500: 1.7450262308120728\n",
            "Seen so far: 32064 samples\n",
            "Training loss (for one batch) at step 1000: 1.7394282817840576\n",
            "Seen so far: 64064 samples\n",
            "Training acc over epoch: 0.5904320478439331\n",
            "Start of epoch 1\n",
            "Training loss (for one batch) at step 0: 1.7611570358276367\n",
            "Seen so far: 64 samples\n",
            "Training loss (for one batch) at step 500: 1.7287757396697998\n",
            "Seen so far: 32064 samples\n",
            "Training loss (for one batch) at step 1000: 1.7214266061782837\n",
            "Seen so far: 64064 samples\n",
            "Training acc over epoch: 0.593298077583313\n",
            "Start of epoch 2\n",
            "Training loss (for one batch) at step 0: 1.7170360088348389\n",
            "Seen so far: 64 samples\n",
            "Training loss (for one batch) at step 500: 1.7393851280212402\n",
            "Seen so far: 32064 samples\n",
            "Training loss (for one batch) at step 1000: 1.662774682044983\n",
            "Seen so far: 64064 samples\n",
            "Training acc over epoch: 0.5961527228355408\n",
            "Start of epoch 3\n",
            "Training loss (for one batch) at step 0: 1.7123219966888428\n",
            "Seen so far: 64 samples\n",
            "Training loss (for one batch) at step 500: 1.6968961954116821\n",
            "Seen so far: 32064 samples\n",
            "Training loss (for one batch) at step 1000: 1.7243788242340088\n",
            "Seen so far: 64064 samples\n",
            "Training acc over epoch: 0.5989261865615845\n",
            "Start of epoch 4\n",
            "Training loss (for one batch) at step 0: 1.743659496307373\n",
            "Seen so far: 64 samples\n",
            "Training loss (for one batch) at step 500: 1.7266043424606323\n",
            "Seen so far: 32064 samples\n",
            "Training loss (for one batch) at step 1000: 1.7005105018615723\n",
            "Seen so far: 64064 samples\n",
            "Training acc over epoch: 0.6016533374786377\n",
            "Start of epoch 5\n",
            "Training loss (for one batch) at step 0: 1.7074472904205322\n",
            "Seen so far: 64 samples\n",
            "Training loss (for one batch) at step 500: 1.6606173515319824\n",
            "Seen so far: 32064 samples\n",
            "Training loss (for one batch) at step 1000: 1.683376431465149\n",
            "Seen so far: 64064 samples\n",
            "Training acc over epoch: 0.6043112874031067\n",
            "Start of epoch 6\n",
            "Training loss (for one batch) at step 0: 1.722369909286499\n",
            "Seen so far: 64 samples\n",
            "Training loss (for one batch) at step 500: 1.682769536972046\n",
            "Seen so far: 32064 samples\n",
            "Training loss (for one batch) at step 1000: 1.7349516153335571\n",
            "Seen so far: 64064 samples\n",
            "Training acc over epoch: 0.6069324016571045\n",
            "Start of epoch 7\n",
            "Training loss (for one batch) at step 0: 1.7338461875915527\n",
            "Seen so far: 64 samples\n",
            "Training loss (for one batch) at step 500: 1.7055835723876953\n",
            "Seen so far: 32064 samples\n",
            "Training loss (for one batch) at step 1000: 1.7145754098892212\n",
            "Seen so far: 64064 samples\n",
            "Training acc over epoch: 0.6095228791236877\n",
            "Start of epoch 8\n",
            "Training loss (for one batch) at step 0: 1.6312267780303955\n",
            "Seen so far: 64 samples\n",
            "Training loss (for one batch) at step 500: 1.646607756614685\n",
            "Seen so far: 32064 samples\n",
            "Training loss (for one batch) at step 1000: 1.6897666454315186\n",
            "Seen so far: 64064 samples\n",
            "Training acc over epoch: 0.6120685935020447\n",
            "Start of epoch 9\n",
            "Training loss (for one batch) at step 0: 1.7281737327575684\n",
            "Seen so far: 64 samples\n",
            "Training loss (for one batch) at step 500: 1.7333648204803467\n",
            "Seen so far: 32064 samples\n",
            "Training loss (for one batch) at step 1000: 1.7068865299224854\n",
            "Seen so far: 64064 samples\n",
            "Training acc over epoch: 0.6145461201667786\n",
            "Start of epoch 10\n",
            "Training loss (for one batch) at step 0: 1.696954607963562\n",
            "Seen so far: 64 samples\n",
            "Training loss (for one batch) at step 500: 1.7899430990219116\n",
            "Seen so far: 32064 samples\n",
            "Training loss (for one batch) at step 1000: 1.700981855392456\n",
            "Seen so far: 64064 samples\n",
            "Training acc over epoch: 0.6169957518577576\n",
            "Start of epoch 11\n",
            "Training loss (for one batch) at step 0: 1.726496696472168\n",
            "Seen so far: 64 samples\n",
            "Training loss (for one batch) at step 500: 1.74905526638031\n",
            "Seen so far: 32064 samples\n",
            "Training loss (for one batch) at step 1000: 1.6500300168991089\n",
            "Seen so far: 64064 samples\n",
            "Training acc over epoch: 0.6193956136703491\n",
            "Start of epoch 12\n",
            "Training loss (for one batch) at step 0: 1.6368017196655273\n",
            "Seen so far: 64 samples\n",
            "Training loss (for one batch) at step 500: 1.7022247314453125\n",
            "Seen so far: 32064 samples\n",
            "Training loss (for one batch) at step 1000: 1.707921028137207\n",
            "Seen so far: 64064 samples\n",
            "Training acc over epoch: 0.6217678189277649\n",
            "Start of epoch 13\n",
            "Training loss (for one batch) at step 0: 1.7487025260925293\n",
            "Seen so far: 64 samples\n",
            "Training loss (for one batch) at step 500: 1.712326169013977\n",
            "Seen so far: 32064 samples\n",
            "Training loss (for one batch) at step 1000: 1.7520806789398193\n",
            "Seen so far: 64064 samples\n",
            "Training acc over epoch: 0.6240867972373962\n",
            "Start of epoch 14\n",
            "Training loss (for one batch) at step 0: 1.7131667137145996\n",
            "Seen so far: 64 samples\n",
            "Training loss (for one batch) at step 500: 1.7054721117019653\n",
            "Seen so far: 32064 samples\n",
            "Training loss (for one batch) at step 1000: 1.6429327726364136\n",
            "Seen so far: 64064 samples\n",
            "Training acc over epoch: 0.6263638734817505\n",
            "Start of epoch 15\n",
            "Training loss (for one batch) at step 0: 1.6623988151550293\n",
            "Seen so far: 64 samples\n",
            "Training loss (for one batch) at step 500: 1.6098239421844482\n",
            "Seen so far: 32064 samples\n",
            "Training loss (for one batch) at step 1000: 1.7319204807281494\n",
            "Seen so far: 64064 samples\n",
            "Training acc over epoch: 0.6286121010780334\n",
            "Start of epoch 16\n",
            "Training loss (for one batch) at step 0: 1.6227450370788574\n",
            "Seen so far: 64 samples\n",
            "Training loss (for one batch) at step 500: 1.6256089210510254\n",
            "Seen so far: 32064 samples\n",
            "Training loss (for one batch) at step 1000: 1.6911535263061523\n",
            "Seen so far: 64064 samples\n",
            "Training acc over epoch: 0.6308109164237976\n",
            "Start of epoch 17\n",
            "Training loss (for one batch) at step 0: 1.6874274015426636\n",
            "Seen so far: 64 samples\n",
            "Training loss (for one batch) at step 500: 1.6647320985794067\n",
            "Seen so far: 32064 samples\n",
            "Training loss (for one batch) at step 1000: 1.7106363773345947\n",
            "Seen so far: 64064 samples\n",
            "Training acc over epoch: 0.6329576373100281\n",
            "Start of epoch 18\n",
            "Training loss (for one batch) at step 0: 1.6317085027694702\n",
            "Seen so far: 64 samples\n",
            "Training loss (for one batch) at step 500: 1.699457049369812\n",
            "Seen so far: 32064 samples\n",
            "Training loss (for one batch) at step 1000: 1.6893151998519897\n",
            "Seen so far: 64064 samples\n",
            "Training acc over epoch: 0.6350973844528198\n",
            "Start of epoch 19\n",
            "Training loss (for one batch) at step 0: 1.6376569271087646\n",
            "Seen so far: 64 samples\n",
            "Training loss (for one batch) at step 500: 1.6886439323425293\n",
            "Seen so far: 32064 samples\n",
            "Training loss (for one batch) at step 1000: 1.6771408319473267\n",
            "Seen so far: 64064 samples\n",
            "Training acc over epoch: 0.6371875405311584\n",
            "Start of epoch 20\n",
            "Training loss (for one batch) at step 0: 1.6809800863265991\n",
            "Seen so far: 64 samples\n",
            "Training loss (for one batch) at step 500: 1.6969819068908691\n",
            "Seen so far: 32064 samples\n",
            "Training loss (for one batch) at step 1000: 1.6338614225387573\n",
            "Seen so far: 64064 samples\n",
            "Training acc over epoch: 0.639274001121521\n",
            "Start of epoch 21\n",
            "Training loss (for one batch) at step 0: 1.6961297988891602\n",
            "Seen so far: 64 samples\n",
            "Training loss (for one batch) at step 500: 1.6540131568908691\n",
            "Seen so far: 32064 samples\n",
            "Training loss (for one batch) at step 1000: 1.648857593536377\n",
            "Seen so far: 64064 samples\n",
            "Training acc over epoch: 0.6412995457649231\n",
            "Start of epoch 22\n",
            "Training loss (for one batch) at step 0: 1.6718387603759766\n",
            "Seen so far: 64 samples\n",
            "Training loss (for one batch) at step 500: 1.6582001447677612\n",
            "Seen so far: 32064 samples\n",
            "Training loss (for one batch) at step 1000: 1.6613101959228516\n",
            "Seen so far: 64064 samples\n",
            "Training acc over epoch: 0.6432915329933167\n",
            "Start of epoch 23\n",
            "Training loss (for one batch) at step 0: 1.694399356842041\n",
            "Seen so far: 64 samples\n",
            "Training loss (for one batch) at step 500: 1.6336584091186523\n",
            "Seen so far: 32064 samples\n",
            "Training loss (for one batch) at step 1000: 1.6781309843063354\n",
            "Seen so far: 64064 samples\n",
            "Training acc over epoch: 0.6452620625495911\n",
            "Start of epoch 24\n",
            "Training loss (for one batch) at step 0: 1.6638566255569458\n",
            "Seen so far: 64 samples\n",
            "Training loss (for one batch) at step 500: 1.647031307220459\n",
            "Seen so far: 32064 samples\n",
            "Training loss (for one batch) at step 1000: 1.6687206029891968\n",
            "Seen so far: 64064 samples\n",
            "Training acc over epoch: 0.6472122073173523\n",
            "Start of epoch 25\n",
            "Training loss (for one batch) at step 0: 1.693260908126831\n",
            "Seen so far: 64 samples\n",
            "Training loss (for one batch) at step 500: 1.6858460903167725\n",
            "Seen so far: 32064 samples\n",
            "Training loss (for one batch) at step 1000: 1.6543233394622803\n",
            "Seen so far: 64064 samples\n",
            "Training acc over epoch: 0.6491146683692932\n",
            "Start of epoch 26\n",
            "Training loss (for one batch) at step 0: 1.6781001091003418\n",
            "Seen so far: 64 samples\n",
            "Training loss (for one batch) at step 500: 1.7211313247680664\n",
            "Seen so far: 32064 samples\n",
            "Training loss (for one batch) at step 1000: 1.6967744827270508\n",
            "Seen so far: 64064 samples\n",
            "Training acc over epoch: 0.6510022282600403\n",
            "Start of epoch 27\n",
            "Training loss (for one batch) at step 0: 1.6802438497543335\n",
            "Seen so far: 64 samples\n",
            "Training loss (for one batch) at step 500: 1.6768879890441895\n",
            "Seen so far: 32064 samples\n",
            "Training loss (for one batch) at step 1000: 1.6677517890930176\n",
            "Seen so far: 64064 samples\n",
            "Training acc over epoch: 0.6528636813163757\n",
            "Start of epoch 28\n",
            "Training loss (for one batch) at step 0: 1.5943292379379272\n",
            "Seen so far: 64 samples\n",
            "Training loss (for one batch) at step 500: 1.6215391159057617\n",
            "Seen so far: 32064 samples\n",
            "Training loss (for one batch) at step 1000: 1.6052310466766357\n",
            "Seen so far: 64064 samples\n",
            "Training acc over epoch: 0.6547195911407471\n",
            "Start of epoch 29\n",
            "Training loss (for one batch) at step 0: 1.6932454109191895\n",
            "Seen so far: 64 samples\n",
            "Training loss (for one batch) at step 500: 1.7229187488555908\n",
            "Seen so far: 32064 samples\n",
            "Training loss (for one batch) at step 1000: 1.6279890537261963\n",
            "Seen so far: 64064 samples\n",
            "Training acc over epoch: 0.6565296053886414\n",
            "Start of epoch 30\n",
            "Training loss (for one batch) at step 0: 1.635660171508789\n",
            "Seen so far: 64 samples\n",
            "Training loss (for one batch) at step 500: 1.658768892288208\n",
            "Seen so far: 32064 samples\n",
            "Training loss (for one batch) at step 1000: 1.6992459297180176\n",
            "Seen so far: 64064 samples\n",
            "Training acc over epoch: 0.6583207249641418\n",
            "Start of epoch 31\n",
            "Training loss (for one batch) at step 0: 1.655846357345581\n",
            "Seen so far: 64 samples\n",
            "Training loss (for one batch) at step 500: 1.6161795854568481\n",
            "Seen so far: 32064 samples\n",
            "Training loss (for one batch) at step 1000: 1.6794912815093994\n",
            "Seen so far: 64064 samples\n",
            "Training acc over epoch: 0.6600863337516785\n",
            "Start of epoch 32\n",
            "Training loss (for one batch) at step 0: 1.659061312675476\n",
            "Seen so far: 64 samples\n",
            "Training loss (for one batch) at step 500: 1.658906102180481\n",
            "Seen so far: 32064 samples\n",
            "Training loss (for one batch) at step 1000: 1.6432639360427856\n",
            "Seen so far: 64064 samples\n",
            "Training acc over epoch: 0.6618231534957886\n",
            "Start of epoch 33\n",
            "Training loss (for one batch) at step 0: 1.6556591987609863\n",
            "Seen so far: 64 samples\n",
            "Training loss (for one batch) at step 500: 1.6464407444000244\n",
            "Seen so far: 32064 samples\n",
            "Training loss (for one batch) at step 1000: 1.6693955659866333\n",
            "Seen so far: 64064 samples\n",
            "Training acc over epoch: 0.6635341048240662\n",
            "Start of epoch 34\n",
            "Training loss (for one batch) at step 0: 1.65603506565094\n",
            "Seen so far: 64 samples\n",
            "Training loss (for one batch) at step 500: 1.6332900524139404\n",
            "Seen so far: 32064 samples\n",
            "Training loss (for one batch) at step 1000: 1.589037537574768\n",
            "Seen so far: 64064 samples\n",
            "Training acc over epoch: 0.6652320623397827\n",
            "Start of epoch 35\n",
            "Training loss (for one batch) at step 0: 1.681457281112671\n",
            "Seen so far: 64 samples\n",
            "Training loss (for one batch) at step 500: 1.631811261177063\n",
            "Seen so far: 32064 samples\n",
            "Training loss (for one batch) at step 1000: 1.6578075885772705\n",
            "Seen so far: 64064 samples\n",
            "Training acc over epoch: 0.6668993234634399\n",
            "Start of epoch 36\n",
            "Training loss (for one batch) at step 0: 1.6236042976379395\n",
            "Seen so far: 64 samples\n",
            "Training loss (for one batch) at step 500: 1.6062499284744263\n",
            "Seen so far: 32064 samples\n",
            "Training loss (for one batch) at step 1000: 1.6790666580200195\n",
            "Seen so far: 64064 samples\n",
            "Training acc over epoch: 0.6685424447059631\n",
            "Start of epoch 37\n",
            "Training loss (for one batch) at step 0: 1.6575696468353271\n",
            "Seen so far: 64 samples\n",
            "Training loss (for one batch) at step 500: 1.6315734386444092\n",
            "Seen so far: 32064 samples\n",
            "Training loss (for one batch) at step 1000: 1.6491479873657227\n",
            "Seen so far: 64064 samples\n",
            "Training acc over epoch: 0.670168399810791\n",
            "Start of epoch 38\n",
            "Training loss (for one batch) at step 0: 1.6735939979553223\n",
            "Seen so far: 64 samples\n",
            "Training loss (for one batch) at step 500: 1.6586600542068481\n",
            "Seen so far: 32064 samples\n",
            "Training loss (for one batch) at step 1000: 1.65816330909729\n",
            "Seen so far: 64064 samples\n",
            "Training acc over epoch: 0.6717771291732788\n",
            "Start of epoch 39\n",
            "Training loss (for one batch) at step 0: 1.5971016883850098\n",
            "Seen so far: 64 samples\n",
            "Training loss (for one batch) at step 500: 1.6334447860717773\n",
            "Seen so far: 32064 samples\n",
            "Training loss (for one batch) at step 1000: 1.6385632753372192\n",
            "Seen so far: 64064 samples\n",
            "Training acc over epoch: 0.6733629703521729\n",
            "Start of epoch 40\n",
            "Training loss (for one batch) at step 0: 1.639331579208374\n",
            "Seen so far: 64 samples\n",
            "Training loss (for one batch) at step 500: 1.7320424318313599\n",
            "Seen so far: 32064 samples\n",
            "Training loss (for one batch) at step 1000: 1.670994520187378\n",
            "Seen so far: 64064 samples\n",
            "Training acc over epoch: 0.6749430894851685\n",
            "Start of epoch 41\n",
            "Training loss (for one batch) at step 0: 1.601594090461731\n",
            "Seen so far: 64 samples\n",
            "Training loss (for one batch) at step 500: 1.6565773487091064\n",
            "Seen so far: 32064 samples\n",
            "Training loss (for one batch) at step 1000: 1.5927680730819702\n",
            "Seen so far: 64064 samples\n",
            "Training acc over epoch: 0.6764941811561584\n",
            "Start of epoch 42\n",
            "Training loss (for one batch) at step 0: 1.6398725509643555\n",
            "Seen so far: 64 samples\n",
            "Training loss (for one batch) at step 500: 1.670825719833374\n",
            "Seen so far: 32064 samples\n",
            "Training loss (for one batch) at step 1000: 1.6495270729064941\n",
            "Seen so far: 64064 samples\n",
            "Training acc over epoch: 0.6780274510383606\n",
            "Start of epoch 43\n",
            "Training loss (for one batch) at step 0: 1.680433988571167\n",
            "Seen so far: 64 samples\n",
            "Training loss (for one batch) at step 500: 1.6601966619491577\n",
            "Seen so far: 32064 samples\n",
            "Training loss (for one batch) at step 1000: 1.6806063652038574\n",
            "Seen so far: 64064 samples\n",
            "Training acc over epoch: 0.6795321702957153\n",
            "Start of epoch 44\n",
            "Training loss (for one batch) at step 0: 1.64482843875885\n",
            "Seen so far: 64 samples\n",
            "Training loss (for one batch) at step 500: 1.637730598449707\n",
            "Seen so far: 32064 samples\n",
            "Training loss (for one batch) at step 1000: 1.6160123348236084\n",
            "Seen so far: 64064 samples\n",
            "Training acc over epoch: 0.6810277104377747\n",
            "Start of epoch 45\n",
            "Training loss (for one batch) at step 0: 1.6322132349014282\n",
            "Seen so far: 64 samples\n",
            "Training loss (for one batch) at step 500: 1.6644471883773804\n",
            "Seen so far: 32064 samples\n",
            "Training loss (for one batch) at step 1000: 1.6285299062728882\n",
            "Seen so far: 64064 samples\n",
            "Training acc over epoch: 0.6825079917907715\n",
            "Start of epoch 46\n",
            "Training loss (for one batch) at step 0: 1.6391342878341675\n",
            "Seen so far: 64 samples\n",
            "Training loss (for one batch) at step 500: 1.5968575477600098\n",
            "Seen so far: 32064 samples\n",
            "Training loss (for one batch) at step 1000: 1.5923349857330322\n",
            "Seen so far: 64064 samples\n",
            "Training acc over epoch: 0.6839607357978821\n",
            "Start of epoch 47\n",
            "Training loss (for one batch) at step 0: 1.6345195770263672\n",
            "Seen so far: 64 samples\n",
            "Training loss (for one batch) at step 500: 1.6290040016174316\n",
            "Seen so far: 32064 samples\n",
            "Training loss (for one batch) at step 1000: 1.6582262516021729\n",
            "Seen so far: 64064 samples\n",
            "Training acc over epoch: 0.6854068040847778\n",
            "Start of epoch 48\n",
            "Training loss (for one batch) at step 0: 1.5989344120025635\n",
            "Seen so far: 64 samples\n",
            "Training loss (for one batch) at step 500: 1.6105432510375977\n",
            "Seen so far: 32064 samples\n",
            "Training loss (for one batch) at step 1000: 1.6285176277160645\n",
            "Seen so far: 64064 samples\n",
            "Training acc over epoch: 0.6868429183959961\n",
            "Start of epoch 49\n",
            "Training loss (for one batch) at step 0: 1.6294441223144531\n",
            "Seen so far: 64 samples\n",
            "Training loss (for one batch) at step 500: 1.6365128755569458\n",
            "Seen so far: 32064 samples\n",
            "Training loss (for one batch) at step 1000: 1.606355905532837\n",
            "Seen so far: 64064 samples\n",
            "Training acc over epoch: 0.6882575750350952\n",
            "Start of epoch 50\n",
            "Training loss (for one batch) at step 0: 1.6551589965820312\n",
            "Seen so far: 64 samples\n",
            "Training loss (for one batch) at step 500: 1.6534497737884521\n",
            "Seen so far: 32064 samples\n",
            "Training loss (for one batch) at step 1000: 1.622664451599121\n",
            "Seen so far: 64064 samples\n",
            "Training acc over epoch: 0.689652681350708\n",
            "Start of epoch 51\n",
            "Training loss (for one batch) at step 0: 1.6314780712127686\n",
            "Seen so far: 64 samples\n",
            "Training loss (for one batch) at step 500: 1.5986343622207642\n",
            "Seen so far: 32064 samples\n",
            "Training loss (for one batch) at step 1000: 1.6173057556152344\n",
            "Seen so far: 64064 samples\n",
            "Training acc over epoch: 0.6910364031791687\n",
            "Start of epoch 52\n",
            "Training loss (for one batch) at step 0: 1.717494249343872\n",
            "Seen so far: 64 samples\n",
            "Training loss (for one batch) at step 500: 1.5911531448364258\n",
            "Seen so far: 32064 samples\n",
            "Training loss (for one batch) at step 1000: 1.6127326488494873\n",
            "Seen so far: 64064 samples\n",
            "Training acc over epoch: 0.6924036741256714\n",
            "Start of epoch 53\n",
            "Training loss (for one batch) at step 0: 1.5601781606674194\n",
            "Seen so far: 64 samples\n",
            "Training loss (for one batch) at step 500: 1.64785635471344\n",
            "Seen so far: 32064 samples\n",
            "Training loss (for one batch) at step 1000: 1.6638717651367188\n",
            "Seen so far: 64064 samples\n",
            "Training acc over epoch: 0.6937533617019653\n",
            "Start of epoch 54\n",
            "Training loss (for one batch) at step 0: 1.6488502025604248\n",
            "Seen so far: 64 samples\n",
            "Training loss (for one batch) at step 500: 1.6511342525482178\n",
            "Seen so far: 32064 samples\n",
            "Training loss (for one batch) at step 1000: 1.6677833795547485\n",
            "Seen so far: 64064 samples\n",
            "Training acc over epoch: 0.6950916647911072\n",
            "Start of epoch 55\n",
            "Training loss (for one batch) at step 0: 1.5793492794036865\n",
            "Seen so far: 64 samples\n",
            "Training loss (for one batch) at step 500: 1.6006884574890137\n",
            "Seen so far: 32064 samples\n",
            "Training loss (for one batch) at step 1000: 1.614490270614624\n",
            "Seen so far: 64064 samples\n",
            "Training acc over epoch: 0.6964230537414551\n",
            "Start of epoch 56\n",
            "Training loss (for one batch) at step 0: 1.6299960613250732\n",
            "Seen so far: 64 samples\n",
            "Training loss (for one batch) at step 500: 1.6537480354309082\n",
            "Seen so far: 32064 samples\n",
            "Training loss (for one batch) at step 1000: 1.648319125175476\n",
            "Seen so far: 64064 samples\n",
            "Training acc over epoch: 0.697736382484436\n",
            "Start of epoch 57\n",
            "Training loss (for one batch) at step 0: 1.6017482280731201\n",
            "Seen so far: 64 samples\n",
            "Training loss (for one batch) at step 500: 1.6393697261810303\n",
            "Seen so far: 32064 samples\n",
            "Training loss (for one batch) at step 1000: 1.593536138534546\n",
            "Seen so far: 64064 samples\n",
            "Training acc over epoch: 0.6990282535552979\n",
            "Start of epoch 58\n",
            "Training loss (for one batch) at step 0: 1.6105186939239502\n",
            "Seen so far: 64 samples\n",
            "Training loss (for one batch) at step 500: 1.6139190196990967\n",
            "Seen so far: 32064 samples\n",
            "Training loss (for one batch) at step 1000: 1.667510986328125\n",
            "Seen so far: 64064 samples\n",
            "Training acc over epoch: 0.700315535068512\n",
            "Start of epoch 59\n",
            "Training loss (for one batch) at step 0: 1.6420564651489258\n",
            "Seen so far: 64 samples\n",
            "Training loss (for one batch) at step 500: 1.6343377828598022\n",
            "Seen so far: 32064 samples\n",
            "Training loss (for one batch) at step 1000: 1.5568777322769165\n",
            "Seen so far: 64064 samples\n",
            "Training acc over epoch: 0.7015748023986816\n",
            "Start of epoch 60\n",
            "Training loss (for one batch) at step 0: 1.5893858671188354\n",
            "Seen so far: 64 samples\n",
            "Training loss (for one batch) at step 500: 1.6741905212402344\n",
            "Seen so far: 32064 samples\n",
            "Training loss (for one batch) at step 1000: 1.6247711181640625\n",
            "Seen so far: 64064 samples\n",
            "Training acc over epoch: 0.7028327584266663\n",
            "Start of epoch 61\n",
            "Training loss (for one batch) at step 0: 1.5691957473754883\n",
            "Seen so far: 64 samples\n",
            "Training loss (for one batch) at step 500: 1.6023249626159668\n",
            "Seen so far: 32064 samples\n",
            "Training loss (for one batch) at step 1000: 1.5986602306365967\n",
            "Seen so far: 64064 samples\n",
            "Training acc over epoch: 0.7040744423866272\n",
            "Start of epoch 62\n",
            "Training loss (for one batch) at step 0: 1.6408007144927979\n",
            "Seen so far: 64 samples\n",
            "Training loss (for one batch) at step 500: 1.603520393371582\n",
            "Seen so far: 32064 samples\n",
            "Training loss (for one batch) at step 1000: 1.5844347476959229\n",
            "Seen so far: 64064 samples\n",
            "Training acc over epoch: 0.7053138017654419\n",
            "Start of epoch 63\n",
            "Training loss (for one batch) at step 0: 1.6142574548721313\n",
            "Seen so far: 64 samples\n",
            "Training loss (for one batch) at step 500: 1.5787360668182373\n",
            "Seen so far: 32064 samples\n",
            "Training loss (for one batch) at step 1000: 1.6276801824569702\n",
            "Seen so far: 64064 samples\n",
            "Training acc over epoch: 0.7065367698669434\n",
            "Start of epoch 64\n",
            "Training loss (for one batch) at step 0: 1.688510775566101\n",
            "Seen so far: 64 samples\n",
            "Training loss (for one batch) at step 500: 1.6466083526611328\n",
            "Seen so far: 32064 samples\n",
            "Training loss (for one batch) at step 1000: 1.6395580768585205\n",
            "Seen so far: 64064 samples\n",
            "Training acc over epoch: 0.7077442407608032\n",
            "Start of epoch 65\n",
            "Training loss (for one batch) at step 0: 1.607267141342163\n",
            "Seen so far: 64 samples\n",
            "Training loss (for one batch) at step 500: 1.5539100170135498\n",
            "Seen so far: 32064 samples\n",
            "Training loss (for one batch) at step 1000: 1.5999339818954468\n",
            "Seen so far: 64064 samples\n",
            "Training acc over epoch: 0.7089504599571228\n",
            "Start of epoch 66\n",
            "Training loss (for one batch) at step 0: 1.6489849090576172\n",
            "Seen so far: 64 samples\n",
            "Training loss (for one batch) at step 500: 1.6233378648757935\n",
            "Seen so far: 32064 samples\n",
            "Training loss (for one batch) at step 1000: 1.644323706626892\n",
            "Seen so far: 64064 samples\n",
            "Training acc over epoch: 0.7101364135742188\n",
            "Start of epoch 67\n",
            "Training loss (for one batch) at step 0: 1.5951863527297974\n",
            "Seen so far: 64 samples\n",
            "Training loss (for one batch) at step 500: 1.6415231227874756\n",
            "Seen so far: 32064 samples\n",
            "Training loss (for one batch) at step 1000: 1.584722876548767\n",
            "Seen so far: 64064 samples\n",
            "Training acc over epoch: 0.7113186717033386\n",
            "Start of epoch 68\n",
            "Training loss (for one batch) at step 0: 1.5927889347076416\n",
            "Seen so far: 64 samples\n",
            "Training loss (for one batch) at step 500: 1.5902107954025269\n",
            "Seen so far: 32064 samples\n",
            "Training loss (for one batch) at step 1000: 1.646504282951355\n",
            "Seen so far: 64064 samples\n",
            "Training acc over epoch: 0.712477445602417\n",
            "Start of epoch 69\n",
            "Training loss (for one batch) at step 0: 1.5984272956848145\n",
            "Seen so far: 64 samples\n",
            "Training loss (for one batch) at step 500: 1.605501413345337\n",
            "Seen so far: 32064 samples\n",
            "Training loss (for one batch) at step 1000: 1.5741780996322632\n",
            "Seen so far: 64064 samples\n",
            "Training acc over epoch: 0.7136280536651611\n",
            "Start of epoch 70\n",
            "Training loss (for one batch) at step 0: 1.5694105625152588\n",
            "Seen so far: 64 samples\n",
            "Training loss (for one batch) at step 500: 1.6375007629394531\n",
            "Seen so far: 32064 samples\n",
            "Training loss (for one batch) at step 1000: 1.6423730850219727\n",
            "Seen so far: 64064 samples\n",
            "Training acc over epoch: 0.7147753238677979\n",
            "Start of epoch 71\n",
            "Training loss (for one batch) at step 0: 1.566853642463684\n",
            "Seen so far: 64 samples\n",
            "Training loss (for one batch) at step 500: 1.6163430213928223\n",
            "Seen so far: 32064 samples\n",
            "Training loss (for one batch) at step 1000: 1.6196378469467163\n",
            "Seen so far: 64064 samples\n",
            "Training acc over epoch: 0.7159098386764526\n",
            "Start of epoch 72\n",
            "Training loss (for one batch) at step 0: 1.6491588354110718\n",
            "Seen so far: 64 samples\n",
            "Training loss (for one batch) at step 500: 1.6400771141052246\n",
            "Seen so far: 32064 samples\n",
            "Training loss (for one batch) at step 1000: 1.5763369798660278\n",
            "Seen so far: 64064 samples\n",
            "Training acc over epoch: 0.7170181274414062\n",
            "Start of epoch 73\n",
            "Training loss (for one batch) at step 0: 1.5866031646728516\n",
            "Seen so far: 64 samples\n",
            "Training loss (for one batch) at step 500: 1.6378010511398315\n",
            "Seen so far: 32064 samples\n",
            "Training loss (for one batch) at step 1000: 1.6061445474624634\n",
            "Seen so far: 64064 samples\n",
            "Training acc over epoch: 0.7181277871131897\n",
            "Start of epoch 74\n",
            "Training loss (for one batch) at step 0: 1.5712809562683105\n",
            "Seen so far: 64 samples\n",
            "Training loss (for one batch) at step 500: 1.5938295125961304\n",
            "Seen so far: 32064 samples\n",
            "Training loss (for one batch) at step 1000: 1.6327024698257446\n",
            "Seen so far: 64064 samples\n",
            "Training acc over epoch: 0.7192213535308838\n",
            "Start of epoch 75\n",
            "Training loss (for one batch) at step 0: 1.6325535774230957\n",
            "Seen so far: 64 samples\n",
            "Training loss (for one batch) at step 500: 1.6189706325531006\n",
            "Seen so far: 32064 samples\n",
            "Training loss (for one batch) at step 1000: 1.5897760391235352\n",
            "Seen so far: 64064 samples\n",
            "Training acc over epoch: 0.7203062176704407\n",
            "Start of epoch 76\n",
            "Training loss (for one batch) at step 0: 1.6335704326629639\n",
            "Seen so far: 64 samples\n",
            "Training loss (for one batch) at step 500: 1.5621707439422607\n",
            "Seen so far: 32064 samples\n",
            "Training loss (for one batch) at step 1000: 1.6059516668319702\n",
            "Seen so far: 64064 samples\n",
            "Training acc over epoch: 0.7213823199272156\n",
            "Start of epoch 77\n",
            "Training loss (for one batch) at step 0: 1.6030864715576172\n",
            "Seen so far: 64 samples\n",
            "Training loss (for one batch) at step 500: 1.6182153224945068\n",
            "Seen so far: 32064 samples\n",
            "Training loss (for one batch) at step 1000: 1.5765701532363892\n",
            "Seen so far: 64064 samples\n",
            "Training acc over epoch: 0.7224470376968384\n",
            "Start of epoch 78\n",
            "Training loss (for one batch) at step 0: 1.5675681829452515\n",
            "Seen so far: 64 samples\n",
            "Training loss (for one batch) at step 500: 1.5315560102462769\n",
            "Seen so far: 32064 samples\n",
            "Training loss (for one batch) at step 1000: 1.5958991050720215\n",
            "Seen so far: 64064 samples\n",
            "Training acc over epoch: 0.7235051393508911\n",
            "Start of epoch 79\n",
            "Training loss (for one batch) at step 0: 1.5902202129364014\n",
            "Seen so far: 64 samples\n",
            "Training loss (for one batch) at step 500: 1.599116325378418\n",
            "Seen so far: 32064 samples\n",
            "Training loss (for one batch) at step 1000: 1.6531002521514893\n",
            "Seen so far: 64064 samples\n",
            "Training acc over epoch: 0.724549412727356\n",
            "Start of epoch 80\n",
            "Training loss (for one batch) at step 0: 1.6174144744873047\n",
            "Seen so far: 64 samples\n",
            "Training loss (for one batch) at step 500: 1.6471227407455444\n",
            "Seen so far: 32064 samples\n",
            "Training loss (for one batch) at step 1000: 1.6040990352630615\n",
            "Seen so far: 64064 samples\n",
            "Training acc over epoch: 0.7255903482437134\n",
            "Start of epoch 81\n",
            "Training loss (for one batch) at step 0: 1.625348687171936\n",
            "Seen so far: 64 samples\n",
            "Training loss (for one batch) at step 500: 1.6104342937469482\n",
            "Seen so far: 32064 samples\n",
            "Training loss (for one batch) at step 1000: 1.584428071975708\n",
            "Seen so far: 64064 samples\n",
            "Training acc over epoch: 0.7266230583190918\n",
            "Start of epoch 82\n",
            "Training loss (for one batch) at step 0: 1.5713140964508057\n",
            "Seen so far: 64 samples\n",
            "Training loss (for one batch) at step 500: 1.5994343757629395\n",
            "Seen so far: 32064 samples\n",
            "Training loss (for one batch) at step 1000: 1.6582269668579102\n",
            "Seen so far: 64064 samples\n",
            "Training acc over epoch: 0.7276444435119629\n",
            "Start of epoch 83\n",
            "Training loss (for one batch) at step 0: 1.6373881101608276\n",
            "Seen so far: 64 samples\n",
            "Training loss (for one batch) at step 500: 1.5964033603668213\n",
            "Seen so far: 32064 samples\n",
            "Training loss (for one batch) at step 1000: 1.6018332242965698\n",
            "Seen so far: 64064 samples\n",
            "Training acc over epoch: 0.7286618947982788\n",
            "Start of epoch 84\n",
            "Training loss (for one batch) at step 0: 1.5694100856781006\n",
            "Seen so far: 64 samples\n",
            "Training loss (for one batch) at step 500: 1.6108119487762451\n",
            "Seen so far: 32064 samples\n",
            "Training loss (for one batch) at step 1000: 1.589350938796997\n",
            "Seen so far: 64064 samples\n",
            "Training acc over epoch: 0.7296642065048218\n",
            "Start of epoch 85\n",
            "Training loss (for one batch) at step 0: 1.6355061531066895\n",
            "Seen so far: 64 samples\n",
            "Training loss (for one batch) at step 500: 1.5989928245544434\n",
            "Seen so far: 32064 samples\n",
            "Training loss (for one batch) at step 1000: 1.605101227760315\n",
            "Seen so far: 64064 samples\n",
            "Training acc over epoch: 0.7306638360023499\n",
            "Start of epoch 86\n",
            "Training loss (for one batch) at step 0: 1.572935700416565\n",
            "Seen so far: 64 samples\n",
            "Training loss (for one batch) at step 500: 1.571760892868042\n",
            "Seen so far: 32064 samples\n",
            "Training loss (for one batch) at step 1000: 1.6383540630340576\n",
            "Seen so far: 64064 samples\n",
            "Training acc over epoch: 0.7316545844078064\n",
            "Start of epoch 87\n",
            "Training loss (for one batch) at step 0: 1.629704475402832\n",
            "Seen so far: 64 samples\n",
            "Training loss (for one batch) at step 500: 1.5996028184890747\n",
            "Seen so far: 32064 samples\n",
            "Training loss (for one batch) at step 1000: 1.586936593055725\n",
            "Seen so far: 64064 samples\n",
            "Training acc over epoch: 0.7326381802558899\n",
            "Start of epoch 88\n",
            "Training loss (for one batch) at step 0: 1.6209650039672852\n",
            "Seen so far: 64 samples\n",
            "Training loss (for one batch) at step 500: 1.5761988162994385\n",
            "Seen so far: 32064 samples\n",
            "Training loss (for one batch) at step 1000: 1.6220078468322754\n",
            "Seen so far: 64064 samples\n",
            "Training acc over epoch: 0.7336123585700989\n",
            "Start of epoch 89\n",
            "Training loss (for one batch) at step 0: 1.5970008373260498\n",
            "Seen so far: 64 samples\n",
            "Training loss (for one batch) at step 500: 1.5599044561386108\n",
            "Seen so far: 32064 samples\n",
            "Training loss (for one batch) at step 1000: 1.5824131965637207\n",
            "Seen so far: 64064 samples\n",
            "Training acc over epoch: 0.7345696091651917\n",
            "Start of epoch 90\n",
            "Training loss (for one batch) at step 0: 1.567265510559082\n",
            "Seen so far: 64 samples\n",
            "Training loss (for one batch) at step 500: 1.5659421682357788\n",
            "Seen so far: 32064 samples\n",
            "Training loss (for one batch) at step 1000: 1.5296989679336548\n",
            "Seen so far: 64064 samples\n",
            "Training acc over epoch: 0.7355270385742188\n",
            "Start of epoch 91\n",
            "Training loss (for one batch) at step 0: 1.609747052192688\n",
            "Seen so far: 64 samples\n",
            "Training loss (for one batch) at step 500: 1.5779978036880493\n",
            "Seen so far: 32064 samples\n",
            "Training loss (for one batch) at step 1000: 1.6084500551223755\n",
            "Seen so far: 64064 samples\n",
            "Training acc over epoch: 0.7364661693572998\n",
            "Start of epoch 92\n",
            "Training loss (for one batch) at step 0: 1.5765342712402344\n",
            "Seen so far: 64 samples\n",
            "Training loss (for one batch) at step 500: 1.576164960861206\n",
            "Seen so far: 32064 samples\n",
            "Training loss (for one batch) at step 1000: 1.5819449424743652\n",
            "Seen so far: 64064 samples\n",
            "Training acc over epoch: 0.7374042272567749\n",
            "Start of epoch 93\n",
            "Training loss (for one batch) at step 0: 1.6217737197875977\n",
            "Seen so far: 64 samples\n",
            "Training loss (for one batch) at step 500: 1.564164161682129\n",
            "Seen so far: 32064 samples\n",
            "Training loss (for one batch) at step 1000: 1.5818088054656982\n",
            "Seen so far: 64064 samples\n",
            "Training acc over epoch: 0.7383390069007874\n",
            "Start of epoch 94\n",
            "Training loss (for one batch) at step 0: 1.590122938156128\n",
            "Seen so far: 64 samples\n",
            "Training loss (for one batch) at step 500: 1.576377272605896\n",
            "Seen so far: 32064 samples\n",
            "Training loss (for one batch) at step 1000: 1.5623853206634521\n",
            "Seen so far: 64064 samples\n",
            "Training acc over epoch: 0.7392513751983643\n",
            "Start of epoch 95\n",
            "Training loss (for one batch) at step 0: 1.5402495861053467\n",
            "Seen so far: 64 samples\n",
            "Training loss (for one batch) at step 500: 1.5214866399765015\n",
            "Seen so far: 32064 samples\n",
            "Training loss (for one batch) at step 1000: 1.598005771636963\n",
            "Seen so far: 64064 samples\n",
            "Training acc over epoch: 0.7401754260063171\n",
            "Start of epoch 96\n",
            "Training loss (for one batch) at step 0: 1.5535470247268677\n",
            "Seen so far: 64 samples\n",
            "Training loss (for one batch) at step 500: 1.5928868055343628\n",
            "Seen so far: 32064 samples\n",
            "Training loss (for one batch) at step 1000: 1.5892107486724854\n",
            "Seen so far: 64064 samples\n",
            "Training acc over epoch: 0.7410897612571716\n",
            "Start of epoch 97\n",
            "Training loss (for one batch) at step 0: 1.5815298557281494\n",
            "Seen so far: 64 samples\n",
            "Training loss (for one batch) at step 500: 1.5755060911178589\n",
            "Seen so far: 32064 samples\n",
            "Training loss (for one batch) at step 1000: 1.5885229110717773\n",
            "Seen so far: 64064 samples\n",
            "Training acc over epoch: 0.7419876456260681\n",
            "Start of epoch 98\n",
            "Training loss (for one batch) at step 0: 1.5938950777053833\n",
            "Seen so far: 64 samples\n",
            "Training loss (for one batch) at step 500: 1.6368634700775146\n",
            "Seen so far: 32064 samples\n",
            "Training loss (for one batch) at step 1000: 1.5589720010757446\n",
            "Seen so far: 64064 samples\n",
            "Training acc over epoch: 0.7428804636001587\n",
            "Start of epoch 99\n",
            "Training loss (for one batch) at step 0: 1.540737271308899\n",
            "Seen so far: 64 samples\n",
            "Training loss (for one batch) at step 500: 1.5453035831451416\n",
            "Seen so far: 32064 samples\n",
            "Training loss (for one batch) at step 1000: 1.5673171281814575\n",
            "Seen so far: 64064 samples\n",
            "Training acc over epoch: 0.7437748908996582\n"
          ],
          "name": "stdout"
        }
      ]
    },
    {
      "cell_type": "code",
      "metadata": {
        "id": "_yJjtuOCy3xl",
        "colab_type": "code",
        "outputId": "29c74f9e-027e-4c47-ab83-2040fb607e83",
        "colab": {
          "base_uri": "https://localhost:8080/",
          "height": 33
        }
      },
      "source": [
        "for x_batch_test_cifar, y_batch_test_cifar in test_data_cifar:\n",
        "  test_logits = model_cifar(x_batch_test_cifar)\n",
        "    # Update val metrics\n",
        "  test_acc_metric_cifar(y_batch_test_cifar, test_logits)\n",
        "test_acc_cifar = test_acc_metric_cifar.result()\n",
        "#test_acc_metric_cifar.reset_states()\n",
        "print('Test acc: %s' % (float(test_acc_cifar),))"
      ],
      "execution_count": 23,
      "outputs": [
        {
          "output_type": "stream",
          "text": [
            "Test acc: 0.7749999761581421\n"
          ],
          "name": "stdout"
        }
      ]
    },
    {
      "cell_type": "markdown",
      "metadata": {
        "id": "-v_NYTOGjOvB",
        "colab_type": "text"
      },
      "source": [
        "**Observations :**\n",
        "\n",
        "---\n",
        "\n",
        "\n",
        "\n",
        "*   With only one convolution layer followed by max pooling , SGd as optimiser :\n",
        "Training accuracy : 67.05  Test Accuracy : 66.51\n",
        "\n",
        "*   With only one convolution layer followed by max pooling and Adam Optimiser :\n",
        "Training Accuracy : 90.03  Test Accuracy : 64.59  --> Overfitting \n",
        "\n",
        "*   With 3 convolution and maxpooling layers and Adam optimiser :\n",
        "TRaining ACcuracy : 52.43  Test Accuracy : 58.31\n",
        "\n",
        "\n",
        "\n",
        "\n",
        "\n",
        "\n",
        "\n",
        "\n",
        "\n",
        "\n",
        "\n",
        "\n"
      ]
    },
    {
      "cell_type": "code",
      "metadata": {
        "id": "vpqZO7i8Ypdu",
        "colab_type": "code",
        "outputId": "c7f5f2c8-3a1d-446b-cbd0-136001ce9b99",
        "colab": {
          "base_uri": "https://localhost:8080/",
          "height": 115
        }
      },
      "source": [
        "#Filters and their shape\n",
        "\n",
        "for layer in model_cifar.layers:\n",
        "\t# check for convolutional layer\n",
        "\tif 'conv' not in layer.name:\n",
        "\t\tcontinue\n",
        "\t# get filter weights\n",
        "\tfilters, biases = layer.get_weights()\n",
        "\tprint(layer.name, filters.shape)"
      ],
      "execution_count": 0,
      "outputs": [
        {
          "output_type": "stream",
          "text": [
            "conv2d (3, 3, 3, 32)\n",
            "conv2d_1 (3, 3, 32, 32)\n",
            "conv2d_2 (3, 3, 32, 64)\n",
            "conv2d_3 (3, 3, 64, 64)\n",
            "conv2d_4 (3, 3, 64, 128)\n",
            "conv2d_5 (3, 3, 128, 128)\n"
          ],
          "name": "stdout"
        }
      ]
    },
    {
      "cell_type": "code",
      "metadata": {
        "id": "gCJsNRCta-FK",
        "colab_type": "code",
        "outputId": "e8d06985-fd84-47e8-c524-82a0b53baba5",
        "colab": {
          "base_uri": "https://localhost:8080/",
          "height": 115
        }
      },
      "source": [
        "#convolution layers and their sizes\n",
        "\n",
        "from matplotlib import pyplot\n",
        "\n",
        "# summarize feature map shapes\n",
        "for i in range(len(model_cifar.layers)):\n",
        "\tlayer = model_cifar.layers[i]\n",
        "\t# check for convolutional layer\n",
        "\tif 'conv' not in layer.name:\n",
        "\t\tcontinue\n",
        "\t# summarize output shape\n",
        "\tprint(i, layer.name, layer.output.shape)"
      ],
      "execution_count": 0,
      "outputs": [
        {
          "output_type": "stream",
          "text": [
            "0 conv2d (None, 32, 32, 32)\n",
            "1 conv2d_1 (None, 32, 32, 32)\n",
            "3 conv2d_2 (None, 14, 14, 64)\n",
            "4 conv2d_3 (None, 14, 14, 64)\n",
            "6 conv2d_4 (None, 5, 5, 128)\n",
            "7 conv2d_5 (None, 5, 5, 128)\n"
          ],
          "name": "stdout"
        }
      ]
    },
    {
      "cell_type": "code",
      "metadata": {
        "id": "W3Jd7RrRcr0M",
        "colab_type": "code",
        "outputId": "15550fa3-1eac-4d5d-8bcc-206149c3463e",
        "colab": {
          "base_uri": "https://localhost:8080/",
          "height": 50
        }
      },
      "source": [
        "print(model_cifar.inputs)\n",
        "print(model_cifar.layers[0].output)"
      ],
      "execution_count": 0,
      "outputs": [
        {
          "output_type": "stream",
          "text": [
            "[<tf.Tensor 'conv2d_input:0' shape=(None, 32, 32, 3) dtype=float32>]\n",
            "Tensor(\"conv2d/Identity:0\", shape=(None, 32, 32, 32), dtype=float32)\n"
          ],
          "name": "stdout"
        }
      ]
    },
    {
      "cell_type": "code",
      "metadata": {
        "id": "RQX4WksueStu",
        "colab_type": "code",
        "outputId": "07311e82-49a9-43c6-88c7-1759ce15a421",
        "colab": {
          "base_uri": "https://localhost:8080/",
          "height": 33
        }
      },
      "source": [
        "from keras.models import Model\n",
        "model_conv_cifar = tf.keras.models.Model(inputs=model_cifar.inputs, outputs=model_cifar.layers[0].output)"
      ],
      "execution_count": 0,
      "outputs": [
        {
          "output_type": "stream",
          "text": [
            "Using TensorFlow backend.\n"
          ],
          "name": "stderr"
        }
      ]
    },
    {
      "cell_type": "code",
      "metadata": {
        "id": "LrutSIn8djMx",
        "colab_type": "code",
        "outputId": "6c47c1e1-2575-40bf-9151-666071dac5f0",
        "colab": {
          "base_uri": "https://localhost:8080/",
          "height": 33
        }
      },
      "source": [
        "#taking first image\n",
        "\n",
        "for x,y in train_data_cifar:\n",
        "  print(x[:1,:,:,:].shape)\n",
        "  train_img=x\n",
        "  train=x[:1,:,:,:]\n",
        "  break\n",
        "#train.reshape(-1,32,32,3)"
      ],
      "execution_count": 0,
      "outputs": [
        {
          "output_type": "stream",
          "text": [
            "(1, 32, 32, 3)\n"
          ],
          "name": "stdout"
        }
      ]
    },
    {
      "cell_type": "code",
      "metadata": {
        "id": "VhPC_zHnily8",
        "colab_type": "code",
        "colab": {}
      },
      "source": [
        "feature_map=model_conv_cifar.predict(train)"
      ],
      "execution_count": 0,
      "outputs": []
    },
    {
      "cell_type": "code",
      "metadata": {
        "id": "O_SByAwPqOzV",
        "colab_type": "code",
        "outputId": "0d1ff936-a645-45e3-ef04-32eae9827372",
        "colab": {
          "base_uri": "https://localhost:8080/",
          "height": 232
        }
      },
      "source": [
        "#FIRST IMAGE FED INTO cnn\n",
        "\n",
        "plt.figure(figsize=(20,20))\n",
        "plt.xticks([])\n",
        "plt.yticks([])\n",
        "plt.grid(False)\n",
        "plt.imshow(train_images_cifar[0], cmap=plt.cm.binary)\n",
        "    # The CIFAR labels happen to be arrays, \n",
        "    # which is why you need the extra index\n",
        "plt.xlabel(class_names[train_labels_cifar[0]])\n",
        "plt.show()"
      ],
      "execution_count": 0,
      "outputs": [
        {
          "output_type": "display_data",
          "data": {
            "image/png": "[encoded data removed]",
            "text/plain": [
              "<Figure size 1440x1440 with 1 Axes>"
            ]
          },
          "metadata": {
            "tags": []
          }
        }
      ]
    },
    {
      "cell_type": "code",
      "metadata": {
        "id": "jcXCwiXfkXdF",
        "colab_type": "code",
        "outputId": "67345171-0b2a-4b79-b19b-3f814f975e45",
        "colab": {
          "base_uri": "https://localhost:8080/",
          "height": 698
        }
      },
      "source": [
        "#Feature maps of first input image by first convolution layer\n",
        "\n",
        "1square = 8\n",
        "plt.figure(figsize=(25,25))\n",
        "ix = 1\n",
        "for _ in range(32):\n",
        "\t\t# specify subplot and turn of axis\n",
        "\t\tplt.subplot(square, square, ix)\n",
        "\t\tplt.xticks([])\n",
        "\t\tplt.yticks([])\n",
        "\t\t# plot filter channel in grayscale\n",
        "\t\tplt.imshow(feature_map[0, :, :, ix-1], cmap='gray')\n",
        "\t\tix += 1\n",
        "# show the figure\n",
        "pyplot.show()"
      ],
      "execution_count": 0,
      "outputs": [
        {
          "output_type": "display_data",
          "data": {
            "image/png": "[encoded data removed]",
            "text/plain": [
              "<Figure size 1800x1800 with 32 Axes>"
            ]
          },
          "metadata": {
            "tags": []
          }
        }
      ]
    },
    {
      "cell_type": "markdown",
      "metadata": {
        "id": "tlDgQFmboFez",
        "colab_type": "text"
      },
      "source": [
        "**Experiments**\n",
        "\n",
        "*   Filter size 1X1 train accuracy 54 and test accuracy 57\n",
        "\n",
        "*   With increased units for each conv layer and filter 3X3 : training 57.57 test: 67\n",
        "\n",
        "*   With 2 conv layer and only 1 dense layer : train :60 test 66\n",
        "\n",
        "*   After increasing the convolution layers the accuracy achieved was still between 50 and 60%\n",
        "\n",
        "*   On increasing the number of epochs the accuracy achieved was around 67% with training accuracy of 7%\n",
        "\n",
        "*   baseline + weight regiulariser (50 epochs)--> Training: 71.1  Testing : 70.9\n",
        "\n",
        "*   baseline + weight regiulariser (100 epochs)--> Training: 85%  Testing :  71.4%\n",
        "\n",
        "*   Baseline + dropout (50 epochs)--> Training: 58.7 Testing : 73.86\n",
        "\n",
        "*   Baseline + dropout (100 epochs)--> Training: 74.38  Testing : 77.49\n",
        "\n",
        "\n",
        "\n",
        "\n",
        "\n",
        "\n",
        "\n"
      ]
    }
  ]
}
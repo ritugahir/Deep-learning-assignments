{
  "nbformat": 4,
  "nbformat_minor": 0,
  "metadata": {
    "colab": {
      "name": "IDL_Assingnment_1 (2).ipynb",
      "provenance": [],
      "collapsed_sections": []
    },
    "kernelspec": {
      "name": "python3",
      "display_name": "Python 3"
    }
  },
  "cells": [
    {
      "cell_type": "markdown",
      "metadata": {
        "id": "HwjQoVwqGzjA",
        "colab_type": "text"
      },
      "source": [
        "**Submitted by** : Ritu Gahir\n",
        "\n",
        "**Team Members** : \n",
        "\n",
        "Libin Kutty - Group 2 \n",
        "\n",
        "Ritu Gahir - Group 3\n",
        "\n",
        "Viju Sudhi - Group 10"
      ]
    },
    {
      "cell_type": "code",
      "metadata": {
        "id": "mcD9j4_8vDIc",
        "colab_type": "code",
        "colab": {}
      },
      "source": [
        "%tensorflow_version 2.x"
      ],
      "execution_count": 0,
      "outputs": []
    },
    {
      "cell_type": "code",
      "metadata": {
        "id": "r3NXKh1lxtdF",
        "colab_type": "code",
        "outputId": "dcaef39a-200f-4156-c0b3-60489db0b318",
        "colab": {
          "base_uri": "https://localhost:8080/",
          "height": 632
        }
      },
      "source": [
        "pip install tensorflow"
      ],
      "execution_count": 0,
      "outputs": [
        {
          "output_type": "stream",
          "text": [
            "Requirement already satisfied: tensorflow in /usr/local/lib/python3.6/dist-packages (2.2.0rc3)\n",
            "Requirement already satisfied: opt-einsum>=2.3.2 in /usr/local/lib/python3.6/dist-packages (from tensorflow) (3.2.1)\n",
            "Requirement already satisfied: h5py<2.11.0,>=2.10.0 in /usr/local/lib/python3.6/dist-packages (from tensorflow) (2.10.0)\n",
            "Requirement already satisfied: termcolor>=1.1.0 in /usr/local/lib/python3.6/dist-packages (from tensorflow) (1.1.0)\n",
            "Requirement already satisfied: protobuf>=3.8.0 in /usr/local/lib/python3.6/dist-packages (from tensorflow) (3.10.0)\n",
            "Requirement already satisfied: grpcio>=1.8.6 in /usr/local/lib/python3.6/dist-packages (from tensorflow) (1.28.1)\n",
            "Requirement already satisfied: six>=1.12.0 in /usr/local/lib/python3.6/dist-packages (from tensorflow) (1.12.0)\n",
            "Requirement already satisfied: wrapt>=1.11.1 in /usr/local/lib/python3.6/dist-packages (from tensorflow) (1.12.1)\n",
            "Requirement already satisfied: gast==0.3.3 in /usr/local/lib/python3.6/dist-packages (from tensorflow) (0.3.3)\n",
            "Requirement already satisfied: keras-preprocessing>=1.1.0 in /usr/local/lib/python3.6/dist-packages (from tensorflow) (1.1.0)\n",
            "Requirement already satisfied: tensorflow-estimator<2.3.0,>=2.2.0rc0 in /usr/local/lib/python3.6/dist-packages (from tensorflow) (2.2.0)\n",
            "Requirement already satisfied: numpy<2.0,>=1.16.0 in /usr/local/lib/python3.6/dist-packages (from tensorflow) (1.18.3)\n",
            "Requirement already satisfied: astunparse==1.6.3 in /usr/local/lib/python3.6/dist-packages (from tensorflow) (1.6.3)\n",
            "Requirement already satisfied: tensorboard<2.3.0,>=2.2.0 in /usr/local/lib/python3.6/dist-packages (from tensorflow) (2.2.1)\n",
            "Requirement already satisfied: scipy==1.4.1; python_version >= \"3\" in /usr/local/lib/python3.6/dist-packages (from tensorflow) (1.4.1)\n",
            "Requirement already satisfied: wheel>=0.26; python_version >= \"3\" in /usr/local/lib/python3.6/dist-packages (from tensorflow) (0.34.2)\n",
            "Requirement already satisfied: google-pasta>=0.1.8 in /usr/local/lib/python3.6/dist-packages (from tensorflow) (0.2.0)\n",
            "Requirement already satisfied: absl-py>=0.7.0 in /usr/local/lib/python3.6/dist-packages (from tensorflow) (0.9.0)\n",
            "Requirement already satisfied: setuptools in /usr/local/lib/python3.6/dist-packages (from protobuf>=3.8.0->tensorflow) (46.1.3)\n",
            "Requirement already satisfied: google-auth-oauthlib<0.5,>=0.4.1 in /usr/local/lib/python3.6/dist-packages (from tensorboard<2.3.0,>=2.2.0->tensorflow) (0.4.1)\n",
            "Requirement already satisfied: google-auth<2,>=1.6.3 in /usr/local/lib/python3.6/dist-packages (from tensorboard<2.3.0,>=2.2.0->tensorflow) (1.7.2)\n",
            "Requirement already satisfied: markdown>=2.6.8 in /usr/local/lib/python3.6/dist-packages (from tensorboard<2.3.0,>=2.2.0->tensorflow) (3.2.1)\n",
            "Requirement already satisfied: werkzeug>=0.11.15 in /usr/local/lib/python3.6/dist-packages (from tensorboard<2.3.0,>=2.2.0->tensorflow) (1.0.1)\n",
            "Requirement already satisfied: requests<3,>=2.21.0 in /usr/local/lib/python3.6/dist-packages (from tensorboard<2.3.0,>=2.2.0->tensorflow) (2.21.0)\n",
            "Requirement already satisfied: tensorboard-plugin-wit>=1.6.0 in /usr/local/lib/python3.6/dist-packages (from tensorboard<2.3.0,>=2.2.0->tensorflow) (1.6.0.post3)\n",
            "Requirement already satisfied: requests-oauthlib>=0.7.0 in /usr/local/lib/python3.6/dist-packages (from google-auth-oauthlib<0.5,>=0.4.1->tensorboard<2.3.0,>=2.2.0->tensorflow) (1.3.0)\n",
            "Requirement already satisfied: pyasn1-modules>=0.2.1 in /usr/local/lib/python3.6/dist-packages (from google-auth<2,>=1.6.3->tensorboard<2.3.0,>=2.2.0->tensorflow) (0.2.8)\n",
            "Requirement already satisfied: rsa<4.1,>=3.1.4 in /usr/local/lib/python3.6/dist-packages (from google-auth<2,>=1.6.3->tensorboard<2.3.0,>=2.2.0->tensorflow) (4.0)\n",
            "Requirement already satisfied: cachetools<3.2,>=2.0.0 in /usr/local/lib/python3.6/dist-packages (from google-auth<2,>=1.6.3->tensorboard<2.3.0,>=2.2.0->tensorflow) (3.1.1)\n",
            "Requirement already satisfied: idna<2.9,>=2.5 in /usr/local/lib/python3.6/dist-packages (from requests<3,>=2.21.0->tensorboard<2.3.0,>=2.2.0->tensorflow) (2.8)\n",
            "Requirement already satisfied: chardet<3.1.0,>=3.0.2 in /usr/local/lib/python3.6/dist-packages (from requests<3,>=2.21.0->tensorboard<2.3.0,>=2.2.0->tensorflow) (3.0.4)\n",
            "Requirement already satisfied: urllib3<1.25,>=1.21.1 in /usr/local/lib/python3.6/dist-packages (from requests<3,>=2.21.0->tensorboard<2.3.0,>=2.2.0->tensorflow) (1.24.3)\n",
            "Requirement already satisfied: certifi>=2017.4.17 in /usr/local/lib/python3.6/dist-packages (from requests<3,>=2.21.0->tensorboard<2.3.0,>=2.2.0->tensorflow) (2020.4.5.1)\n",
            "Requirement already satisfied: oauthlib>=3.0.0 in /usr/local/lib/python3.6/dist-packages (from requests-oauthlib>=0.7.0->google-auth-oauthlib<0.5,>=0.4.1->tensorboard<2.3.0,>=2.2.0->tensorflow) (3.1.0)\n",
            "Requirement already satisfied: pyasn1<0.5.0,>=0.4.6 in /usr/local/lib/python3.6/dist-packages (from pyasn1-modules>=0.2.1->google-auth<2,>=1.6.3->tensorboard<2.3.0,>=2.2.0->tensorflow) (0.4.8)\n"
          ],
          "name": "stdout"
        }
      ]
    },
    {
      "cell_type": "code",
      "metadata": {
        "id": "YJNX5YMgx1Bq",
        "colab_type": "code",
        "outputId": "faa35c4e-a995-48bd-fd9b-9591f96bfd4a",
        "colab": {
          "base_uri": "https://localhost:8080/",
          "height": 34
        }
      },
      "source": [
        "import tensorflow as tf\n",
        "print(tf.__version__)"
      ],
      "execution_count": 0,
      "outputs": [
        {
          "output_type": "stream",
          "text": [
            "2.2.0-rc3\n"
          ],
          "name": "stdout"
        }
      ]
    },
    {
      "cell_type": "code",
      "metadata": {
        "id": "KxCLTGjex3pw",
        "colab_type": "code",
        "outputId": "864da5c6-6d31-4940-a0ec-6db39fe71e55",
        "colab": {
          "base_uri": "https://localhost:8080/",
          "height": 122
        }
      },
      "source": [
        "from google.colab import drive\n",
        "drive.mount('/content/drive')"
      ],
      "execution_count": 0,
      "outputs": [
        {
          "output_type": "stream",
          "text": [
            "Go to this URL in a browser: https://accounts.google.com/o/oauth2/auth?client_id=947318989803-6bn6qk8qdgf4n4g3pfee6491hc0brc4i.apps.googleusercontent.com&redirect_uri=urn%3aietf%3awg%3aoauth%3a2.0%3aoob&response_type=code&scope=email%20https%3a%2f%2fwww.googleapis.com%2fauth%2fdocs.test%20https%3a%2f%2fwww.googleapis.com%2fauth%2fdrive%20https%3a%2f%2fwww.googleapis.com%2fauth%2fdrive.photos.readonly%20https%3a%2f%2fwww.googleapis.com%2fauth%2fpeopleapi.readonly\n",
            "\n",
            "Enter your authorization code:\n",
            "··········\n",
            "Mounted at /content/drive\n"
          ],
          "name": "stdout"
        }
      ]
    },
    {
      "cell_type": "code",
      "metadata": {
        "id": "rA0cpn681JPg",
        "colab_type": "code",
        "outputId": "b8853bee-065d-41fc-bd11-34b9bc1aa34f",
        "colab": {
          "base_uri": "https://localhost:8080/",
          "height": 68
        }
      },
      "source": [
        "!ls \"/content/drive/My Drive/Colab Notebooks/\""
      ],
      "execution_count": 0,
      "outputs": [
        {
          "output_type": "stream",
          "text": [
            "'Copy of Untitled0.ipynb'       IDL_Assingnment_1.ipynb   Untitled1.ipynb\n",
            " datasets.py\t\t        __pycache__\n",
            "'IDL_Assingnment_1 (2).ipynb'   Untitled0.ipynb\n"
          ],
          "name": "stdout"
        }
      ]
    },
    {
      "cell_type": "code",
      "metadata": {
        "id": "fCbsv1ck1r4E",
        "colab_type": "code",
        "outputId": "09f06b16-44f5-42cc-b625-34fdf03175da",
        "colab": {
          "base_uri": "https://localhost:8080/",
          "height": 34
        }
      },
      "source": [
        "import os\n",
        "print(os.getcwd())"
      ],
      "execution_count": 0,
      "outputs": [
        {
          "output_type": "stream",
          "text": [
            "/content\n"
          ],
          "name": "stdout"
        }
      ]
    },
    {
      "cell_type": "code",
      "metadata": {
        "id": "yCMxrOG224uw",
        "colab_type": "code",
        "colab": {}
      },
      "source": [
        "os.chdir(\"/content/drive/My Drive/Colab Notebooks/\")"
      ],
      "execution_count": 0,
      "outputs": []
    },
    {
      "cell_type": "code",
      "metadata": {
        "id": "AcytRKNk4Klz",
        "colab_type": "code",
        "outputId": "26f39a3c-57ae-4f84-dca8-d8d3ec57f485",
        "colab": {
          "base_uri": "https://localhost:8080/",
          "height": 34
        }
      },
      "source": [
        "print(os.getcwd())"
      ],
      "execution_count": 0,
      "outputs": [
        {
          "output_type": "stream",
          "text": [
            "/content/drive/My Drive/Colab Notebooks\n"
          ],
          "name": "stdout"
        }
      ]
    },
    {
      "cell_type": "code",
      "metadata": {
        "id": "eADPDZnu4Vkd",
        "colab_type": "code",
        "colab": {}
      },
      "source": [
        "import numpy as np\n",
        "import matplotlib.pyplot as plt\n",
        "from datasets import MNISTDataset"
      ],
      "execution_count": 0,
      "outputs": []
    },
    {
      "cell_type": "markdown",
      "metadata": {
        "id": "37JX1Xfp4NKJ",
        "colab_type": "text"
      },
      "source": [
        "The below cell is used to calculate the loss/error between the predicted label and the truth label"
      ]
    },
    {
      "cell_type": "code",
      "metadata": {
        "id": "gwlGNjXI6T0V",
        "colab_type": "code",
        "colab": {}
      },
      "source": [
        "def loss(logits, labels):\n",
        "  return tf.reduce_mean(tf.nn.sparse_softmax_cross_entropy_with_logits(\n",
        "            logits=logits, labels=labels))"
      ],
      "execution_count": 0,
      "outputs": []
    },
    {
      "cell_type": "markdown",
      "metadata": {
        "id": "EEDyqRVp4Vfr",
        "colab_type": "text"
      },
      "source": [
        "Linear Model just for understanding"
      ]
    },
    {
      "cell_type": "code",
      "metadata": {
        "id": "bckKSxDP4bBW",
        "colab_type": "code",
        "colab": {}
      },
      "source": [
        "class Linear_Model():\n",
        "  def __init__(self):\n",
        "\n",
        "    self.W = tf.Variable(np.zeros([784, 10]).astype(np.float32))\n",
        "    self.b = tf.Variable(np.zeros(10, dtype=np.float32))\n",
        "\n",
        "    self.loss = 0.0\n",
        "    self.accuracy = 0.0\n",
        "\n",
        "  def train(self, inputs, outputs, learning_rate):\n",
        "    \n",
        "    with tf.GradientTape() as t:\n",
        "      logits = tf.matmul(inputs, self.W) + self.b\n",
        "      self.loss = loss(logits, outputs)\n",
        "\n",
        "    dW, db = t.gradient(self.loss, [self.W, self.b])\n",
        "\n",
        "\n",
        "    self.W.assign_sub(learning_rate * dW)\n",
        "    self.b.assign_sub(learning_rate * db)\n",
        "\n",
        "    preds = tf.argmax(logits, axis=1, output_type=tf.int32)\n",
        "    self.accuracy = tf.reduce_mean(tf.cast(tf.equal(preds, outputs),\n",
        "                             tf.float32))\n"
      ],
      "execution_count": 0,
      "outputs": []
    },
    {
      "cell_type": "markdown",
      "metadata": {
        "id": "AJb8f0Ey3uXm",
        "colab_type": "text"
      },
      "source": [
        "Multi-Layer Perceptron with one hidden layers\n",
        "\n",
        "**Observation**\n",
        "\n",
        "1.Initializing the weights to 0 will lead to no learning, as weights are multiplied to input, inputs will have no relevance while training. It will affect the gradient.\n",
        "When we tried to train the network by initializing the weights to 0, we observed that the accuracy (only 10% ) was same for all epochs which means the model was not able to learn.\n",
        "It seems that since weights are same which is zero, all the weights will follow the same gradient.\n"
      ]
    },
    {
      "cell_type": "code",
      "metadata": {
        "id": "RKX6nuC_COWA",
        "colab_type": "code",
        "colab": {}
      },
      "source": [
        "class MLP_Model(object):\n",
        "  def __init__(self):\n",
        "\n",
        "    self.W = tf.Variable(tf.random.uniform(shape=[784,300], minval=-0.10, maxval=0.1, dtype=np.float32))\n",
        "    self.b = tf.Variable(np.zeros(300, dtype=np.float32))\n",
        "#    self.b = tf.Variable(tf.random.uniform(shape=[20], minval=0, maxval=1, dtype=np.float32))\n",
        "\n",
        "\n",
        "    self.W2 = tf.Variable(tf.random.uniform(shape=[300,10], minval=-0.1, maxval=0.1, dtype=np.float32))\n",
        "    self.b2 = tf.Variable(np.zeros(10, dtype=np.float32))\n",
        "#    self.b2 = tf.Variable(tf.random.uniform(shape=[10], minval=0, maxval=1, dtype=np.float32))\n",
        "\n",
        "    self.loss = 0.0\n",
        "    self.accuracy = 0.0\n",
        "\n",
        "  def train(self, inputs, outputs, learning_rate):\n",
        "\n",
        "    with tf.GradientTape() as t1:\n",
        "\n",
        "      with tf.GradientTape() as t:\n",
        "        # Hidden layer\n",
        "        l1 = tf.add(tf.matmul(inputs, self.W), self.b)\n",
        "        l1_op = tf.nn.relu(l1)\n",
        "\n",
        "        # Output layer\n",
        "        l2 = tf.add(tf.matmul(l1_op, self.W2), self.b2)\n",
        "        y_pred = tf.nn.softmax(l2)\n",
        "\n",
        "        #logits = tf.matmul(inputs, self.W) + self.b\n",
        "        self.loss = loss(y_pred, outputs)\n",
        "\n",
        "      dW, db = t.gradient(self.loss, [self.W2, self.b2])\n",
        "      self.W2.assign_sub(learning_rate * dW)\n",
        "      self.b2.assign_sub(learning_rate * db)\n",
        "\n",
        "    dW_h, db_h = t1.gradient(self.loss, [self.W, self.b])\n",
        "    self.W.assign_sub(learning_rate * dW_h)\n",
        "    self.b.assign_sub(learning_rate * db_h)\n",
        "\n",
        "    preds = tf.argmax(y_pred, axis=1, output_type=tf.int32)\n",
        "    self.accuracy = tf.reduce_mean(tf.cast(tf.equal(preds, outputs),\n",
        "                             tf.float32))\n"
      ],
      "execution_count": 0,
      "outputs": []
    },
    {
      "cell_type": "markdown",
      "metadata": {
        "id": "TM0gJOrbB0HM",
        "colab_type": "text"
      },
      "source": [
        "**Wrapping of low level features**\n",
        "\n",
        "The code where we create layer and apply gradient should be wrapped in higher level interface as adding more layer will make it complicated to write and to read."
      ]
    },
    {
      "cell_type": "code",
      "metadata": {
        "id": "34unoe92o6aY",
        "colab_type": "code",
        "colab": {}
      },
      "source": [
        "mnist = tf.keras.datasets.mnist\n",
        "(train_images, train_labels), (test_images, test_labels) = mnist.load_data()\n",
        "\n",
        "data = MNISTDataset(train_images.reshape([-1, 784]), train_labels, \n",
        "                    test_images.reshape([-1, 784]), test_labels,\n",
        "                    batch_size=128)\n"
      ],
      "execution_count": 0,
      "outputs": []
    },
    {
      "cell_type": "code",
      "metadata": {
        "id": "zzHvVv3BqcNs",
        "colab_type": "code",
        "outputId": "f77c94a6-dda9-422e-a4db-2e25671e1946",
        "colab": {
          "base_uri": "https://localhost:8080/",
          "height": 221
        }
      },
      "source": [
        "model = Linear_Model()\n",
        "batch_size = 128\n",
        "steps = range(1000)\n",
        "for step in steps:\n",
        "\n",
        "  img_batch, lbl_batch = data.next_batch()\n",
        "  model.train(img_batch, lbl_batch, learning_rate=0.1)\n",
        "  if not step % 100:\n",
        "    print('Step %2d: loss=%2.5f, accuracy=%2.5f' %\n",
        "        (step, model.loss, model.accuracy))\n",
        "\n"
      ],
      "execution_count": 25,
      "outputs": [
        {
          "output_type": "stream",
          "text": [
            "Step  0: loss=2.30259, accuracy=0.14062\n",
            "Step 100: loss=0.55781, accuracy=0.90625\n",
            "Step 200: loss=0.47617, accuracy=0.86719\n",
            "Step 300: loss=0.50495, accuracy=0.84375\n",
            "Step 400: loss=0.47099, accuracy=0.85156\n",
            "Starting new epoch...\n",
            "Step 500: loss=0.52345, accuracy=0.87500\n",
            "Step 600: loss=0.46205, accuracy=0.82812\n",
            "Step 700: loss=0.42221, accuracy=0.91406\n",
            "Step 800: loss=0.50402, accuracy=0.84375\n",
            "Step 900: loss=0.44049, accuracy=0.90625\n",
            "Starting new epoch...\n"
          ],
          "name": "stdout"
        }
      ]
    },
    {
      "cell_type": "code",
      "metadata": {
        "id": "Th5bsBz38Stg",
        "colab_type": "code",
        "outputId": "bf59c663-295e-45cc-b0bc-f45d86897ac6",
        "colab": {
          "base_uri": "https://localhost:8080/",
          "height": 51
        }
      },
      "source": [
        "test_preds = tf.argmax(tf.matmul(data.test_data, model.W) + model.b, axis=1,\n",
        "                       output_type=tf.int32)\n",
        "acc = tf.reduce_mean(tf.cast(tf.equal(test_preds, data.test_labels),\n",
        "                             tf.float32))\n",
        "print(acc)\n",
        "print(data.test_labels[0], test_preds[0])"
      ],
      "execution_count": 77,
      "outputs": [
        {
          "output_type": "stream",
          "text": [
            "tf.Tensor(0.9101, shape=(), dtype=float32)\n",
            "7 tf.Tensor(7, shape=(), dtype=int32)\n"
          ],
          "name": "stdout"
        }
      ]
    },
    {
      "cell_type": "code",
      "metadata": {
        "id": "iBEeadWF8d0M",
        "colab_type": "code",
        "outputId": "6d7e5027-7d0d-4370-b5c5-44eeda56eacf",
        "colab": {
          "base_uri": "https://localhost:8080/",
          "height": 221
        }
      },
      "source": [
        "mlp_model = MLP_Model()\n",
        "\n",
        "batch_size = 128\n",
        "steps = range(1000)\n",
        "for step in steps:\n",
        "  img_batch, lbl_batch = data.next_batch()\n",
        "  \n",
        "  #import ipdb; ipdb.set_trace()   # For Debugging\n",
        "  mlp_model.train(img_batch, lbl_batch, learning_rate=0.1)\n",
        "  if not step % 100:\n",
        "    print('Step %2d: loss=%2.5f, accuracy=%2.5f' %\n",
        "        (step, mlp_model.loss, mlp_model.accuracy))\n"
      ],
      "execution_count": 78,
      "outputs": [
        {
          "output_type": "stream",
          "text": [
            "Step  0: loss=2.30364, accuracy=0.09375\n",
            "Step 100: loss=2.10220, accuracy=0.54688\n",
            "Step 200: loss=1.87098, accuracy=0.70312\n",
            "Step 300: loss=1.72729, accuracy=0.84375\n",
            "Step 400: loss=1.70082, accuracy=0.82031\n",
            "Starting new epoch...\n",
            "Step 500: loss=1.75588, accuracy=0.73438\n",
            "Step 600: loss=1.65992, accuracy=0.82812\n",
            "Step 700: loss=1.61301, accuracy=0.89062\n",
            "Step 800: loss=1.61462, accuracy=0.86719\n",
            "Starting new epoch...\n",
            "Step 900: loss=1.65642, accuracy=0.81250\n"
          ],
          "name": "stdout"
        }
      ]
    },
    {
      "cell_type": "code",
      "metadata": {
        "id": "BYpnrgrHxZ4S",
        "colab_type": "code",
        "outputId": "4906009d-bfd3-46ef-90e0-db348d2d2892",
        "colab": {
          "base_uri": "https://localhost:8080/",
          "height": 51
        }
      },
      "source": [
        "test_preds_h = tf.matmul(data.test_data, mlp_model.W) + mlp_model.b\n",
        "test_preds = tf.argmax(tf.matmul(test_preds_h, mlp_model.W2) + mlp_model.b2, axis=1,\n",
        "                       output_type=tf.int32)\n",
        "acc = tf.reduce_mean(tf.cast(tf.equal(test_preds, data.test_labels),\n",
        "                             tf.float32))\n",
        "print(acc)\n",
        "print(data.test_labels[50], test_preds[50])"
      ],
      "execution_count": 79,
      "outputs": [
        {
          "output_type": "stream",
          "text": [
            "tf.Tensor(0.8323, shape=(), dtype=float32)\n",
            "6 tf.Tensor(6, shape=(), dtype=int32)\n"
          ],
          "name": "stdout"
        }
      ]
    },
    {
      "cell_type": "code",
      "metadata": {
        "id": "cDU30hbHDzQj",
        "colab_type": "code",
        "outputId": "104fdf99-45b1-4833-ed43-0fb23687a336",
        "colab": {
          "base_uri": "https://localhost:8080/",
          "height": 280
        }
      },
      "source": [
        "cm = confusion_matrix(data.test_labels,test_preds)\n",
        "cm = cm.astype('float') / cm.sum(axis=1)[:, np.newaxis]\n",
        "\n",
        "sum = 0\n",
        "count = 0\n",
        "for i in cm.diagonal():\n",
        "    sum = sum + i\n",
        "    count = count + 1\n",
        "\n",
        "average = sum / count\n",
        "\n",
        "print(\"Average Accuracy over Class Accuracy: \",average)\n",
        "\n",
        "plt.matshow(cm)\n",
        "plt.title('Confusion matrix')\n",
        "plt.colorbar()\n",
        "plt.ylabel('True label')\n",
        "plt.xlabel('Predicted label')\n",
        "plt.show()"
      ],
      "execution_count": 0,
      "outputs": [
        {
          "output_type": "stream",
          "text": [
            "Average Accuracy over Class Accuracy:  0.8056019237561115\n"
          ],
          "name": "stdout"
        },
        {
          "output_type": "display_data",
          "data": {
            "image/png": "[encoded data removed]",
            "text/plain": [
              "<Figure size 288x288 with 2 Axes>"
            ]
          },
          "metadata": {
            "tags": [],
            "needs_background": "light"
          }
        }
      ]
    },
    {
      "cell_type": "markdown",
      "metadata": {
        "id": "3F6geZPD7sn4",
        "colab_type": "text"
      },
      "source": [
        "Experiments with hidden layer unit, weights and activation function\n",
        "\n",
        "Experiment 1\n",
        "\n",
        "---\n",
        "\n",
        "> Weights = -0.1 to 0.1\n",
        "Hidden Layer Units - 100 \n",
        "Activation Function - ReLU and Softmax \n",
        "Training Accuracy = 82%  Testing Accuracy = 83%\n",
        "\n",
        "Experiment 2\n",
        "\n",
        "---\n",
        "> Weights = -0.1 to 0.1\n",
        "Hidden Layer Units - 200\n",
        "Activation Function - ReLU and Softmax \n",
        "Training Accuracy = 85%  Testing Accuracy = 88%\n",
        "\n",
        "Experiment 3\n",
        "\n",
        "---\n",
        "> Weights = -0.1 to 0.1\n",
        "Hidden Layer Units - 300\n",
        "Activation Function - ReLU and Softmax \n",
        "Training Accuracy = 89%  Testing Accuracy = 88%\n",
        "\n",
        "Experiment 4\n",
        "\n",
        "---\n",
        "> Weights = -0.1 to 0.1\n",
        "Hidden Layer Units - 300\n",
        "Activation Function - Tanh and Sigmoid \n",
        "Training Accuracy = 90%  Testing Accuracy = 88%\n",
        "\n",
        "Experiment 5\n",
        "\n",
        "---\n",
        "> Weights = 0 to 0.1\n",
        "Hidden Layer Units - 300\n",
        "Activation Function - Tanh and Sigmoid \n",
        "Training Accuracy = 07%  Testing Accuracy = 09%\n",
        "\n",
        "Experiment 6\n",
        "\n",
        "---\n",
        "> Weights = -0.2 to 0.2\n",
        "Hidden Layer Units - 300\n",
        "Activation Function - ReLU and Softmax \n",
        "Training Accuracy = 80%  Testing Accuracy = 80%\n",
        "\n",
        "Experiment 7\n",
        "\n",
        "---\n",
        "> Addition of one more hidden layer  \n",
        "Weights = -0.1 to 0.1\n",
        "Hidden Layer Units - 300 and 200\n",
        "Activation Function - ReLU \n",
        "Training Accuracy = 82%  Testing Accuracy = 82%\n"
      ]
    },
    {
      "cell_type": "code",
      "metadata": {
        "id": "JOaOZBAF1ssR",
        "colab_type": "code",
        "colab": {}
      },
      "source": [
        "fs_mnist = tf.keras.datasets.fashion_mnist\n",
        "(train_images, train_labels), (test_images, test_labels) = fs_mnist.load_data()\n",
        "\n",
        "fs_mnist_data = MNISTDataset(train_images.reshape([-1, 784]), train_labels, \n",
        "                    test_images.reshape([-1, 784]), test_labels,\n",
        "                    batch_size=128)"
      ],
      "execution_count": 0,
      "outputs": []
    },
    {
      "cell_type": "code",
      "metadata": {
        "id": "c8C8wpHM51D1",
        "colab_type": "code",
        "outputId": "c1d78a7e-4f97-484b-99ab-7beeecb3c28a",
        "colab": {
          "base_uri": "https://localhost:8080/",
          "height": 282
        }
      },
      "source": [
        "plt.imshow(train_images[100], cmap=\"Greys_r\")"
      ],
      "execution_count": 0,
      "outputs": [
        {
          "output_type": "execute_result",
          "data": {
            "text/plain": [
              "<matplotlib.image.AxesImage at 0x7fcf177d4c18>"
            ]
          },
          "metadata": {
            "tags": []
          },
          "execution_count": 26
        },
        {
          "output_type": "display_data",
          "data": {
            "image/png": "[encoded data removed]",
            "text/plain": [
              "<Figure size 432x288 with 1 Axes>"
            ]
          },
          "metadata": {
            "tags": [],
            "needs_background": "light"
          }
        }
      ]
    },
    {
      "cell_type": "code",
      "metadata": {
        "id": "yb71ksJD4J4m",
        "colab_type": "code",
        "outputId": "b165d3d2-a12a-42e9-bc54-bdfb39827911",
        "colab": {
          "base_uri": "https://localhost:8080/",
          "height": 221
        }
      },
      "source": [
        "mlp_fs_model = MLP_Model()\n",
        "\n",
        "batch_size = 128\n",
        "steps = range(1000)\n",
        "for step in steps:\n",
        "  fs_img_batch, fs_lbl_batch = fs_mnist_data.next_batch()\n",
        "  #import ipdb; ipdb.set_trace()   # For Debugging\n",
        "\n",
        "  mlp_fs_model.train(fs_img_batch, fs_lbl_batch, learning_rate=0.1)\n",
        "  if not step % 100:\n",
        "    print('Step %2d: loss=%2.5f, accuracy=%2.5f' %\n",
        "      (step, mlp_fs_model.loss, mlp_fs_model.accuracy))"
      ],
      "execution_count": 0,
      "outputs": [
        {
          "output_type": "stream",
          "text": [
            "Step  0: loss=2.30577, accuracy=0.05469\n",
            "Step 100: loss=2.12603, accuracy=0.39844\n",
            "Step 200: loss=1.86033, accuracy=0.71094\n",
            "Step 300: loss=1.91588, accuracy=0.59375\n",
            "Step 400: loss=1.82378, accuracy=0.65625\n",
            "Starting new epoch...\n",
            "Step 500: loss=1.80961, accuracy=0.67969\n",
            "Step 600: loss=1.77159, accuracy=0.72656\n",
            "Step 700: loss=1.76420, accuracy=0.72656\n",
            "Step 800: loss=1.72703, accuracy=0.75000\n",
            "Step 900: loss=1.79491, accuracy=0.68750\n",
            "Starting new epoch...\n"
          ],
          "name": "stdout"
        }
      ]
    },
    {
      "cell_type": "code",
      "metadata": {
        "id": "ospoRPTF447W",
        "colab_type": "code",
        "outputId": "77fcf905-c6cc-42c8-e7fc-28889e9d1991",
        "colab": {
          "base_uri": "https://localhost:8080/",
          "height": 51
        }
      },
      "source": [
        "test_preds_fs_h = tf.matmul(fs_mnist_data.test_data, mlp_fs_model.W) + mlp_fs_model.b\n",
        "test_preds_fs = tf.argmax(tf.matmul(test_preds_fs_h, mlp_fs_model.W2) + mlp_fs_model.b2, axis=1,\n",
        "                       output_type=tf.int32)\n",
        "acc_fs = tf.reduce_mean(tf.cast(tf.equal(test_preds_fs, fs_mnist_data.test_labels),\n",
        "                             tf.float32))\n",
        "print(acc_fs)\n",
        "print(fs_mnist_data.test_labels[50], test_preds_fs[50])"
      ],
      "execution_count": 0,
      "outputs": [
        {
          "output_type": "stream",
          "text": [
            "tf.Tensor(0.7605, shape=(), dtype=float32)\n",
            "4 tf.Tensor(4, shape=(), dtype=int32)\n"
          ],
          "name": "stdout"
        }
      ]
    },
    {
      "cell_type": "code",
      "metadata": {
        "id": "ULDyAAUX0i_8",
        "colab_type": "code",
        "outputId": "6bf6c31a-ae8d-4537-e181-2a8e43a9a627",
        "colab": {
          "base_uri": "https://localhost:8080/",
          "height": 280
        }
      },
      "source": [
        "from sklearn.metrics import confusion_matrix\n",
        "\n",
        "cm = confusion_matrix(fs_mnist_data.test_labels,test_preds_fs)\n",
        "cm = cm.astype('float') / cm.sum(axis=1)[:, np.newaxis]\n",
        "\n",
        "sum = 0\n",
        "count = 0\n",
        "for i in cm.diagonal():\n",
        "    sum = sum + i\n",
        "    count = count + 1\n",
        "\n",
        "average = sum / count\n",
        "\n",
        "print(\"Average Accuracy over Class Accuracy: \",average)\n",
        "\n",
        "plt.matshow(cm)\n",
        "plt.title('Confusion matrix')\n",
        "plt.colorbar()\n",
        "plt.ylabel('True label')\n",
        "plt.xlabel('Predicted label')\n",
        "plt.show()"
      ],
      "execution_count": 0,
      "outputs": [
        {
          "output_type": "stream",
          "text": [
            "Average Accuracy over Class Accuracy:  0.7604999999999998\n"
          ],
          "name": "stdout"
        },
        {
          "output_type": "display_data",
          "data": {
            "image/png": "[encoded data removed]",
            "text/plain": [
              "<Figure size 288x288 with 2 Axes>"
            ]
          },
          "metadata": {
            "tags": [],
            "needs_background": "light"
          }
        }
      ]
    },
    {
      "cell_type": "code",
      "metadata": {
        "id": "Q9f-cun0DKkq",
        "colab_type": "code",
        "colab": {}
      },
      "source": [
        ""
      ],
      "execution_count": 0,
      "outputs": []
    }
  ]
}
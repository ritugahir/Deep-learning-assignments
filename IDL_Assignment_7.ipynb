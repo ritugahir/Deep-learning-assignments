{
  "nbformat": 4,
  "nbformat_minor": 0,
  "metadata": {
    "colab": {
      "name": "IDL_Assignment_7.ipynb",
      "provenance": [],
      "collapsed_sections": [],
      "toc_visible": true
    },
    "kernelspec": {
      "name": "python3",
      "display_name": "Python 3"
    }
  },
  "cells": [
    {
      "cell_type": "markdown",
      "metadata": {
        "id": "5y7hngEpRQuY",
        "colab_type": "text"
      },
      "source": [
        "Team Members\n",
        "\n",
        "*   Libin Kutty - Group 2\n",
        "*   Ritu Gahir - Group 3\n",
        "*   Viju Sudhi - Group 10\n"
      ]
    },
    {
      "cell_type": "code",
      "metadata": {
        "id": "HDoSTzy0PyK_",
        "colab_type": "code",
        "colab": {}
      },
      "source": [
        "%tensorflow_version 2.x"
      ],
      "execution_count": 0,
      "outputs": []
    },
    {
      "cell_type": "code",
      "metadata": {
        "id": "NJWGL9lkRVly",
        "colab_type": "code",
        "colab": {}
      },
      "source": [
        "import tensorflow as tf\n",
        "import numpy as np\n",
        "import matplotlib.pyplot as plt\n",
        "import time\n",
        "import os"
      ],
      "execution_count": 0,
      "outputs": []
    },
    {
      "cell_type": "markdown",
      "metadata": {
        "id": "wfUNzQs_RdhY",
        "colab_type": "text"
      },
      "source": [
        "# Task 1\n",
        "\n",
        "Given a 2D tensor of shape (?, n), extract the k (k <= n) highest values for each row into a tensor of shape (?, k). Hint: There might be a function to get the “top k” values of a tensor."
      ]
    },
    {
      "cell_type": "code",
      "metadata": {
        "id": "bME7bTSLRXx6",
        "colab_type": "code",
        "colab": {}
      },
      "source": [
        "@tf.function\n",
        "def task1():\n",
        "  t1 = tf.random.uniform((10,10), minval=0, maxval=None, dtype=tf.dtypes.float32, seed=None, name=None)\n",
        "\n",
        "  topk = tf.math.top_k(t1, k=5, sorted=True, name=None)\n",
        "\n",
        "  tf.print(topk)"
      ],
      "execution_count": 0,
      "outputs": []
    },
    {
      "cell_type": "code",
      "metadata": {
        "id": "qmdt-z3KSFrQ",
        "colab_type": "code",
        "outputId": "8e92144e-19e8-41b8-9aef-5f8b1bc4d345",
        "colab": {
          "base_uri": "https://localhost:8080/",
          "height": 238
        }
      },
      "source": [
        "task1()"
      ],
      "execution_count": 140,
      "outputs": [
        {
          "output_type": "stream",
          "text": [
            "TopKV2(values=[[0.923631549 0.769995451 0.73755765 0.694040895 0.576379538]\n",
            " [0.872794271 0.768401265 0.765824914 0.763555765 0.689453483]\n",
            " [0.893523574 0.887966633 0.835084796 0.671398878 0.654708266]\n",
            " ...\n",
            " [0.937016606 0.924735785 0.910847306 0.904964566 0.849859238]\n",
            " [0.913367867 0.801814437 0.734445572 0.684016 0.598312497]\n",
            " [0.958501935 0.911828518 0.874616265 0.601439595 0.538943291]], indices=[[0 6 7 4 8]\n",
            " [2 1 8 5 3]\n",
            " [8 3 2 5 9]\n",
            " ...\n",
            " [4 8 6 3 5]\n",
            " [2 4 5 9 1]\n",
            " [0 3 8 6 7]])\n"
          ],
          "name": "stdout"
        }
      ]
    },
    {
      "cell_type": "markdown",
      "metadata": {
        "id": "MGz7zgt3fF7y",
        "colab_type": "text"
      },
      "source": [
        "# Task 2\n",
        "\n",
        "Given a tensor of shape (?, n), find the argmax in each row and return a new tensor that contains a 1 in each of the argmax’ positions, and 0s everywhere else.\n"
      ]
    },
    {
      "cell_type": "code",
      "metadata": {
        "id": "E3sZ5zvRX58Q",
        "colab_type": "code",
        "colab": {}
      },
      "source": [
        "#@tf.function\n",
        "def task2():\n",
        "  t2 = tf.random.uniform((10,10), minval=0, maxval=None, dtype=tf.dtypes.float32)\n",
        "\n",
        "  max = tf.math.argmax(t2, axis=1, output_type=tf.dtypes.int64, name=None)\n",
        "\n",
        "  tf.print(max)\n",
        "\n",
        "  z = tf.Variable(tf.zeros([10,10], tf.float32))\n",
        "  for i, ind in enumerate(max):\n",
        "    z[i,ind].assign(1.0)\n",
        "\n",
        "  tf.print(z)"
      ],
      "execution_count": 0,
      "outputs": []
    },
    {
      "cell_type": "code",
      "metadata": {
        "id": "4nMJp_v_ZRJ6",
        "colab_type": "code",
        "outputId": "8890f720-8cf7-4898-cf44-c20e3b009d29",
        "colab": {
          "base_uri": "https://localhost:8080/",
          "height": 153
        }
      },
      "source": [
        "task2()"
      ],
      "execution_count": 138,
      "outputs": [
        {
          "output_type": "stream",
          "text": [
            "[8 8 1 ... 0 4 4]\n",
            "[[0 0 0 ... 0 1 0]\n",
            " [0 0 0 ... 0 1 0]\n",
            " [0 1 0 ... 0 0 0]\n",
            " ...\n",
            " [1 0 0 ... 0 0 0]\n",
            " [0 0 0 ... 0 0 0]\n",
            " [0 0 0 ... 0 0 0]]\n"
          ],
          "name": "stdout"
        }
      ]
    },
    {
      "cell_type": "markdown",
      "metadata": {
        "id": "El6BjXzAfI6A",
        "colab_type": "text"
      },
      "source": [
        "# Task 3\n",
        "\n",
        "As in 1., but instead of “extracting” the top k values, create a new tensor with shape (?, n) where all but the top k values for each row are zero. Try doing this with a 1D tensor of shape (n,) (i.e. one row) first. Getting it right for a 2D tensor is more tricky; consider this a bonus. Hint: You should look for a way to “scatter” a tensor of values into a different tensor. For two or more dimensions, you need to think carefully about the indices."
      ]
    },
    {
      "cell_type": "code",
      "metadata": {
        "id": "TNFzi9SGah_X",
        "colab_type": "code",
        "colab": {}
      },
      "source": [
        "#@tf.function\n",
        "def task3():\n",
        "\n",
        "  t3 = tf.random.uniform((10,10), minval=0, maxval=None, dtype=tf.dtypes.float32, seed=None, name=None)\n",
        "  o3 = tf.Variable(tf.zeros(t3.shape, dtype=tf.dtypes.float32, name=None))\n",
        "\n",
        "  topk = tf.math.top_k(t3, k=5, sorted=True, name=None)\n",
        "\n",
        "  index = topk.indices\n",
        "  tf.print(index)\n",
        "\n",
        "  for i,ind in enumerate(index):\n",
        "    for j in ind:\n",
        "      o3[i,j].assign(t3[i,j])\n",
        "\n",
        "  tf.print(o3)\n"
      ],
      "execution_count": 0,
      "outputs": []
    },
    {
      "cell_type": "code",
      "metadata": {
        "id": "MouL9uCfAUca",
        "colab_type": "code",
        "colab": {
          "base_uri": "https://localhost:8080/",
          "height": 255
        },
        "outputId": "f126479b-76aa-40ac-9789-e2c4a9691804"
      },
      "source": [
        "task3()"
      ],
      "execution_count": 136,
      "outputs": [
        {
          "output_type": "stream",
          "text": [
            "[[7 3 5 0 8]\n",
            " [7 1 9 6 0]\n",
            " [9 4 7 2 6]\n",
            " ...\n",
            " [1 5 2 0 6]\n",
            " [5 9 1 7 6]\n",
            " [8 5 6 1 4]]\n",
            "[[0.526077867 0 0 ... 0.878371716 0.485516429 0]\n",
            " [0.470251441 0.914644718 0 ... 0.988374 0 0.773713708]\n",
            " [0 0 0.625819325 ... 0.763696551 0 0.969604373]\n",
            " ...\n",
            " [0.53341794 0.978401542 0.84759438 ... 0 0 0]\n",
            " [0 0.709913254 0 ... 0.623722076 0 0.77282095]\n",
            " [0 0.329927802 0 ... 0 0.850263953 0]]\n"
          ],
          "name": "stdout"
        }
      ]
    },
    {
      "cell_type": "markdown",
      "metadata": {
        "id": "7l39RC6umPCL",
        "colab_type": "text"
      },
      "source": [
        "# Task 4\n",
        "\n",
        "Implement an exponential moving average. That is, given a decay rate a and an input tensor of length T, create a new length T tensor where new[0] = input[0] and new[t] = a * new[t-1] + (1-a) * input[t] otherwise. Do not use tf.train.ExponentialMovingAverage."
      ]
    },
    {
      "cell_type": "code",
      "metadata": {
        "id": "OMsYrtM5giTU",
        "colab_type": "code",
        "colab": {}
      },
      "source": [
        "#@tf.function\n",
        "def task4():\n",
        "  t4 = tf.random.uniform([10], minval=0, maxval=None, dtype=tf.dtypes.float32, seed=None, name=None)\n",
        "  a = 0.5\n",
        "\n",
        "  z = tf.Variable(tf.zeros([10], tf.float32))\n",
        "\n",
        "  for i,t in enumerate(t4):\n",
        "    if i == 0:\n",
        "      z[i].assign(t)\n",
        "    else:\n",
        "      z[i].assign(a * z[i-1] + (1-a) * t)\n",
        "\n",
        "  tf.print(t4)\n",
        "\n",
        "  tf.print(z)"
      ],
      "execution_count": 0,
      "outputs": []
    },
    {
      "cell_type": "code",
      "metadata": {
        "id": "FB8MtZQemV1K",
        "colab_type": "code",
        "outputId": "a9bd23af-de07-4e85-9c37-67489238ee70",
        "colab": {
          "base_uri": "https://localhost:8080/",
          "height": 51
        }
      },
      "source": [
        "task4()"
      ],
      "execution_count": 133,
      "outputs": [
        {
          "output_type": "stream",
          "text": [
            "[0.144263148 0.64008522 0.29204905 ... 0.292616367 0.77989614 0.355824351]\n",
            "[0.144263148 0.392174184 0.342111617 ... 0.401101857 0.590499 0.473161668]\n"
          ],
          "name": "stdout"
        }
      ]
    },
    {
      "cell_type": "markdown",
      "metadata": {
        "id": "SEqxCagwzs1c",
        "colab_type": "text"
      },
      "source": [
        "# Task 5\n",
        "\n",
        "Find a way to return the last element in 4. without using loops. That is, return new[T] only – you don’t need to compute the other time steps (if you can avoid it)."
      ]
    },
    {
      "cell_type": "code",
      "metadata": {
        "id": "U-DLythTrFDI",
        "colab_type": "code",
        "colab": {}
      },
      "source": [
        "#@tf.function\n",
        "def task5():\n",
        "  n = 10\n",
        "  t5 = tf.random.uniform([n], minval=0, maxval=None, dtype=tf.dtypes.float32, seed=None, name=None)\n",
        "  a = 0.5\n",
        "\n",
        "  z = tf.Variable(tf.zeros([n], tf.float32))\n",
        "\n",
        "  tf.print(t5)\n",
        "  tf.print(t5[n-1:])\n",
        "\n",
        "  a = a * z[n-2:][0] + (1-a) * t5[n-1:][0]\n",
        "  #z[n-1:].assign(a)\n",
        "\n",
        "  tf.print(a)"
      ],
      "execution_count": 0,
      "outputs": []
    },
    {
      "cell_type": "code",
      "metadata": {
        "id": "5rxOh_Up2bh5",
        "colab_type": "code",
        "outputId": "5ae57ec1-c5df-4a82-8347-2a5f1a22b9f1",
        "colab": {
          "base_uri": "https://localhost:8080/",
          "height": 68
        }
      },
      "source": [
        "task5()"
      ],
      "execution_count": 131,
      "outputs": [
        {
          "output_type": "stream",
          "text": [
            "[0.355605 0.494177461 0.958643556 ... 0.345623851 0.981263399 0.495944142]\n",
            "[0.495944142]\n",
            "0.247972071\n"
          ],
          "name": "stdout"
        }
      ]
    },
    {
      "cell_type": "markdown",
      "metadata": {
        "id": "6VimuZqpSQCs",
        "colab_type": "text"
      },
      "source": [
        "# Task 6\n",
        "\n",
        "Given three integer tensors x, y, z all of the same (arbitrary) shape, create a new tensor that takes values from y where x is even and from z where x is odd."
      ]
    },
    {
      "cell_type": "code",
      "metadata": {
        "id": "QTs8JpsaSKGi",
        "colab_type": "code",
        "colab": {}
      },
      "source": [
        "#@tf.function\n",
        "def task6():\n",
        "  n = tf.constant(2)\n",
        "  m = tf.constant(5)\n",
        "  x = tf.random.uniform((n,m), minval=0, maxval=10, dtype=tf.dtypes.int32, seed=None, name=None)\n",
        "  y = tf.random.uniform((n,m), minval=0, maxval=None, dtype=tf.dtypes.float32, seed=None, name=None)\n",
        "  z = tf.random.uniform((n,m), minval=0, maxval=None, dtype=tf.dtypes.float32, seed=None, name=None)\n",
        "\n",
        "  t6 = tf.Variable(tf.zeros((n,m), tf.float32))\n",
        "\n",
        "  for i,a in enumerate(x):\n",
        "    for j,b in enumerate(a):\n",
        "      if (b % 2) == 0:\n",
        "        t6[i,j].assign(y[i,j])\n",
        "      else:\n",
        "        t6[i,j].assign(z[i,j])\n",
        "\n",
        "  tf.print('X')\n",
        "  tf.print(x)\n",
        "  tf.print('Y')\n",
        "  tf.print(y)\n",
        "  tf.print('Z')\n",
        "  tf.print(z)\n",
        "\n",
        "  tf.print('New Tensor')\n",
        "  tf.print(t6)"
      ],
      "execution_count": 0,
      "outputs": []
    },
    {
      "cell_type": "code",
      "metadata": {
        "id": "yLms3Iz3d3eS",
        "colab_type": "code",
        "outputId": "9b4952f2-5a65-4163-d8f5-1780a6383d81",
        "colab": {
          "base_uri": "https://localhost:8080/",
          "height": 221
        }
      },
      "source": [
        "task6()"
      ],
      "execution_count": 127,
      "outputs": [
        {
          "output_type": "stream",
          "text": [
            "X\n",
            "[[9 2 7 9 2]\n",
            " [6 8 5 3 5]]\n",
            "Y\n",
            "[[0.244256377 0.543832779 0.762410522 0.145211697 0.511985421]\n",
            " [0.475984216 0.404932857 0.357961059 0.450443149 0.0869441]]\n",
            "Z\n",
            "[[0.595533729 0.525074959 0.962079644 0.27048707 0.217960119]\n",
            " [0.81360817 0.448634982 0.0760862827 0.829871535 0.78430438]]\n",
            "New Tensor\n",
            "[[0.595533729 0.543832779 0.962079644 0.27048707 0.511985421]\n",
            " [0.475984216 0.404932857 0.0760862827 0.829871535 0.78430438]]\n"
          ],
          "name": "stdout"
        }
      ]
    },
    {
      "cell_type": "markdown",
      "metadata": {
        "id": "E1GfGHE2dtdZ",
        "colab_type": "text"
      },
      "source": [
        "# Task 7\n",
        "\n",
        "Given a tensor of arbitrary and unknown shape (but at least one dimension), return 100 if the last dimension has size > 100, 12 if the last dimension has size <= 100 and > 44, and return 0 otherwise."
      ]
    },
    {
      "cell_type": "code",
      "metadata": {
        "id": "cF5M6ywnVTmM",
        "colab_type": "code",
        "colab": {}
      },
      "source": [
        "@tf.function\n",
        "def task7(): \n",
        "  n = tf.random.uniform([1], minval=1, maxval=200, dtype=tf.dtypes.int32, seed=None, name=None)\n",
        "  m = tf.random.uniform([1], minval=1, maxval=200, dtype=tf.dtypes.int32, seed=None, name=None)\n",
        "\n",
        "  t7 = tf.random.uniform((n[0],m[0]), minval=0, maxval=10, dtype=tf.dtypes.float32, seed=None, name=None)\n",
        "\n",
        "  #last_dim = t7.shape[-1]\n",
        "  last_dim = tf.shape(t7)[-1]\n",
        "\n",
        "  if tf.math.greater(last_dim, 100):\n",
        "    value = 100\n",
        "  elif tf.math.less_equal(last_dim, 100) and tf.math.greater(last_dim, 44):\n",
        "    value = 12\n",
        "  else:\n",
        "    value = 0\n",
        "\n",
        "  tf.print(last_dim)\n",
        "  tf.print(value)"
      ],
      "execution_count": 0,
      "outputs": []
    },
    {
      "cell_type": "code",
      "metadata": {
        "id": "MrALaVvheiui",
        "colab_type": "code",
        "outputId": "996d4820-4481-467f-cada-14be158a6e95",
        "colab": {
          "base_uri": "https://localhost:8080/",
          "height": 51
        }
      },
      "source": [
        "task7()"
      ],
      "execution_count": 163,
      "outputs": [
        {
          "output_type": "stream",
          "text": [
            "79\n",
            "12\n"
          ],
          "name": "stdout"
        }
      ]
    },
    {
      "cell_type": "markdown",
      "metadata": {
        "id": "piXHUQVFhvLA",
        "colab_type": "text"
      },
      "source": [
        "# Task 8\n",
        "\n",
        "As 7., but also create three global counts (integers), where count i should grow by 1 if condition i happened. Run the function from 7. multiple times to test whether your counting works. Now, add a @tf.function decorator to the function from 7. Does your counter still work? If not, why not? Can you change it so it does work?"
      ]
    },
    {
      "cell_type": "code",
      "metadata": {
        "id": "UPxNvUrnhmt1",
        "colab_type": "code",
        "colab": {}
      },
      "source": [
        "@tf.function\n",
        "def task8():\n",
        "  count1 = 0\n",
        "  count2 = 0\n",
        "  count3 = 0\n",
        "  for _ in range(10): \n",
        "    n = tf.random.uniform([1], minval=1, maxval=200, dtype=tf.dtypes.int32, seed=None, name=None)\n",
        "    m = tf.random.uniform([1], minval=1, maxval=200, dtype=tf.dtypes.int32, seed=None, name=None)\n",
        "\n",
        "    t8 = tf.random.uniform((n[0],m[0]), minval=0, maxval=10, dtype=tf.dtypes.float32, seed=None, name=None)\n",
        "    last_dim = tf.shape(t8)[-1]\n",
        "\n",
        "    if tf.math.greater(last_dim, 100):\n",
        "      value = 100\n",
        "      count1 += 1\n",
        "    elif tf.math.less_equal(last_dim, 100) and tf.math.greater(last_dim, 44):\n",
        "      value = 12\n",
        "      count2 += 1\n",
        "    else:\n",
        "      value = 0\n",
        "      count3 += 1\n",
        "\n",
        "  tf.print('Count 1:',count1)\n",
        "  tf.print('Count 2:', count2)\n",
        "  tf.print( 'Count 3:', count3)\n"
      ],
      "execution_count": 0,
      "outputs": []
    },
    {
      "cell_type": "code",
      "metadata": {
        "id": "ARDBJssViTLr",
        "colab_type": "code",
        "outputId": "04b49258-7449-4088-8d8c-08c6cb3412fb",
        "colab": {
          "base_uri": "https://localhost:8080/",
          "height": 68
        }
      },
      "source": [
        "task8()"
      ],
      "execution_count": 161,
      "outputs": [
        {
          "output_type": "stream",
          "text": [
            "Count 1: 6\n",
            "Count 2: 1\n",
            "Count 3: 3\n"
          ],
          "name": "stdout"
        }
      ]
    },
    {
      "cell_type": "markdown",
      "metadata": {
        "id": "3MKHMKn-iZ0-",
        "colab_type": "text"
      },
      "source": [
        "# Task 9\n",
        "\n",
        "Given two 1D tensors of equal length n, create a tensor of shape (n, n) where element i,j is the ith element of the first tensor minus the jth element of the second tensor. No loops! Hint: Tensorflow supports broadcasting much like numpy."
      ]
    },
    {
      "cell_type": "code",
      "metadata": {
        "id": "5cLy0arMiUqW",
        "colab_type": "code",
        "colab": {}
      },
      "source": [
        "@tf.function\n",
        "def task9():\n",
        "  n = 2\n",
        "\n",
        "  x = tf.random.uniform([n], minval=0, maxval=10, dtype=tf.dtypes.int32, seed=None, name=None)\n",
        "  y = tf.random.uniform([n], minval=0, maxval=10, dtype=tf.dtypes.int32, seed=None, name=None)\n",
        "\n",
        "  t9_1 = tf.broadcast_to(tf.math.add(x[0],-y), [n])\n",
        "  t9_2 = tf.broadcast_to(tf.math.add(x[-1],-y), [n])\n",
        "\n",
        "  t9 = tf.stack([t9_1, t9_2])\n",
        "\n",
        "\n",
        "  tf.print(x)\n",
        "  tf.print(y)\n",
        "  tf.print(t9)\n"
      ],
      "execution_count": 0,
      "outputs": []
    },
    {
      "cell_type": "code",
      "metadata": {
        "id": "4Xc1trK6Dcoa",
        "colab_type": "code",
        "colab": {
          "base_uri": "https://localhost:8080/",
          "height": 85
        },
        "outputId": "61fa974b-2f0e-4773-b572-c94edf1a74c9"
      },
      "source": [
        "task9()"
      ],
      "execution_count": 159,
      "outputs": [
        {
          "output_type": "stream",
          "text": [
            "[6 2]\n",
            "[7 5]\n",
            "[[-1 1]\n",
            " [-5 -3]]\n"
          ],
          "name": "stdout"
        }
      ]
    },
    {
      "cell_type": "markdown",
      "metadata": {
        "id": "yPratbmY2nhJ",
        "colab_type": "text"
      },
      "source": [
        "# Task 10\n",
        "\n",
        "Implement dot product attention: You are given a sequence of encoder states h of shape batch x time x features and the last decoder state s of shape batch x features. Compute the attention weights alpha where alpha[:, i] is equal to h[:, i] * s where * is the dot product between vectors (in this case we also have a batch dimension so the dot product should be between the corresponding vectors within the batch). That is, alpha should be of shape batch x time and alpha[:, i] should contain the attention weights for encoder time step i.\n"
      ]
    },
    {
      "cell_type": "code",
      "metadata": {
        "id": "SvzzZIbfmzNO",
        "colab_type": "code",
        "colab": {}
      },
      "source": [
        "@tf.function\n",
        "def task10(alpha):\n",
        "  batch = 10\n",
        "  time = 3\n",
        "  feature = 5\n",
        "\n",
        "  h = tf.random.uniform([batch, time, feature], minval=0, maxval=None, dtype=tf.dtypes.float32, seed=None, name=None)\n",
        "  s = tf.random.uniform([batch, feature], minval=0, maxval=None, dtype=tf.dtypes.float32, seed=None, name=None)\n",
        "  s = tf.transpose(s)\n",
        "\n",
        "  for i in tf.range(time):\n",
        "    x = tf.matmul(h[:, i,:], s)\n",
        "    sum = tf.reduce_sum(x,1)\n",
        "    alpha[:, i].assign(sum)\n",
        "\n",
        "  tf.print(alpha)\n"
      ],
      "execution_count": 0,
      "outputs": []
    },
    {
      "cell_type": "code",
      "metadata": {
        "id": "tzAs56OM3XrZ",
        "colab_type": "code",
        "colab": {
          "base_uri": "https://localhost:8080/",
          "height": 136
        },
        "outputId": "10962058-5f3f-4d12-d3d1-962cd37764d3"
      },
      "source": [
        "batch = 10\n",
        "time = 3\n",
        "alpha = tf.Variable(tf.zeros((batch, time), tf.float32))\n",
        "task10(alpha)"
      ],
      "execution_count": 54,
      "outputs": [
        {
          "output_type": "stream",
          "text": [
            "[[10.6033783 7.60375309 6.68714714]\n",
            " [8.33918285 11.3527851 10.0338058]\n",
            " [9.6647768 11.2956762 6.94149637]\n",
            " ...\n",
            " [12.9316263 10.1323576 12.8843822]\n",
            " [16.5914326 12.8762074 8.01624775]\n",
            " [8.04395199 11.8333321 8.76329803]]\n"
          ],
          "name": "stdout"
        }
      ]
    },
    {
      "cell_type": "code",
      "metadata": {
        "id": "U4SJFbb06bwS",
        "colab_type": "code",
        "colab": {}
      },
      "source": [
        ""
      ],
      "execution_count": 0,
      "outputs": []
    }
  ]
}
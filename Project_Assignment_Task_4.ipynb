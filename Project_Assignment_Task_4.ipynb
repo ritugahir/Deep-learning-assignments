{
  "nbformat": 4,
  "nbformat_minor": 0,
  "metadata": {
    "colab": {
      "name": "Project_Assignment_Task_4.ipynb",
      "provenance": []
    },
    "kernelspec": {
      "name": "python3",
      "display_name": "Python 3"
    },
    "accelerator": "GPU"
  },
  "cells": [
    {
      "cell_type": "markdown",
      "metadata": {
        "id": "LNg_KJ_o5wTK",
        "colab_type": "text"
      },
      "source": [
        "# Task 4 - Introspection\n",
        "Team Members\n",
        "\n",
        "*   Libin Kutty\n",
        "*   Viju Sudhi\n",
        "*   Ritu Gahir"
      ]
    },
    {
      "cell_type": "code",
      "metadata": {
        "id": "Q4UawUgW5jYV",
        "colab_type": "code",
        "colab": {}
      },
      "source": [
        "%tensorflow_version 2.x"
      ],
      "execution_count": 1,
      "outputs": []
    },
    {
      "cell_type": "code",
      "metadata": {
        "id": "E2Hyw6aj52B4",
        "colab_type": "code",
        "colab": {}
      },
      "source": [
        "import tensorflow as tf\n",
        "import numpy as np\n",
        "import matplotlib.pyplot as plt\n",
        "from tensorflow.keras.models import Sequential\n",
        "from tensorflow.keras.layers import Dense, Dropout, Activation, Flatten\n",
        "from tensorflow.keras.layers import Conv2D, MaxPooling2D\n",
        "from tensorflow.keras.utils import to_categorical\n",
        "from tensorflow.keras.callbacks import TensorBoard\n",
        "from sklearn.model_selection import train_test_split"
      ],
      "execution_count": 2,
      "outputs": []
    },
    {
      "cell_type": "markdown",
      "metadata": {
        "id": "cbEnpCoV6yoz",
        "colab_type": "text"
      },
      "source": [
        "# 4.1 Gradient Based Saliency Map"
      ]
    },
    {
      "cell_type": "code",
      "metadata": {
        "id": "Db0GYbh36Xia",
        "colab_type": "code",
        "colab": {}
      },
      "source": [
        "def model():\n",
        "  model = Sequential()\n",
        "\n",
        "  model.add(Conv2D(32, (3, 3), input_shape=(32,32,3)))\n",
        "  model.add(Activation('relu'))\n",
        "  model.add(MaxPooling2D(pool_size=(2, 2)))\n",
        "\n",
        "  model.add(Conv2D(64, (3, 3)))\n",
        "  model.add(Activation('relu'))\n",
        "  model.add(MaxPooling2D(pool_size=(2, 2)))\n",
        "\n",
        "  model.add(Conv2D(128, (3, 3)))\n",
        "  model.add(Activation('relu'))\n",
        "  model.add(MaxPooling2D(pool_size=(2, 2)))\n",
        "\n",
        "  model.add(Flatten())  # this converts our 3D feature maps to 1D feature vectors\n",
        "\n",
        "  model.add(Dense(64))\n",
        "  #model.add(Activation('relu'))\n",
        "\n",
        "  model.add(Dense(10))\n",
        "  model.add(Activation('softmax'))\n",
        "\n",
        "  return model"
      ],
      "execution_count": 3,
      "outputs": []
    },
    {
      "cell_type": "code",
      "metadata": {
        "id": "ZG7D_IxC65JO",
        "colab_type": "code",
        "colab": {
          "base_uri": "https://localhost:8080/",
          "height": 51
        },
        "outputId": "73d365d9-a915-4a68-e782-8c85767c626c"
      },
      "source": [
        "(train_imgs, train_lbls), (test_imgs, test_lbls) = tf.keras.datasets.cifar10.load_data()\n",
        "\n",
        "train_imgs = (train_imgs.astype(np.float32) / 255.).reshape((-1, 32, 32, 3))\n",
        "train_lbls = train_lbls.astype(np.int32)\n",
        "\n",
        "test_imgs = (test_imgs.astype(np.float32) / 255.).reshape((-1, 32, 32, 3))\n",
        "test_lbls = test_lbls.astype(np.int32)\n",
        "\n",
        "batch_size = 128\n",
        "\n",
        "train_data = tf.data.Dataset.from_tensor_slices((train_imgs, train_lbls))\n",
        "\n",
        "train_data = train_data.shuffle(train_imgs.shape[0])\n",
        "train_data = train_data.batch(batch_size)\n",
        "train_data = train_data.repeat(10)\n",
        "\n",
        "\n",
        "test_data = tf.data.Dataset.from_tensor_slices((test_imgs, test_lbls))\n",
        "test_data = test_data.batch(1)"
      ],
      "execution_count": 4,
      "outputs": [
        {
          "output_type": "stream",
          "text": [
            "Downloading data from https://www.cs.toronto.edu/~kriz/cifar-10-python.tar.gz\n",
            "170500096/170498071 [==============================] - 6s 0us/step\n"
          ],
          "name": "stdout"
        }
      ]
    },
    {
      "cell_type": "code",
      "metadata": {
        "id": "US9gCnZwB0mF",
        "colab_type": "code",
        "colab": {}
      },
      "source": [
        "loss_fn = tf.losses.SparseCategoricalCrossentropy(from_logits=True)"
      ],
      "execution_count": 5,
      "outputs": []
    },
    {
      "cell_type": "code",
      "metadata": {
        "id": "bmKn8qac6752",
        "colab_type": "code",
        "colab": {}
      },
      "source": [
        "def train(model):\n",
        "  step_graph = []\n",
        "  loss_graph = []\n",
        "  acc_graph = []\n",
        "  train_acc_metric = tf.keras.metrics.SparseCategoricalAccuracy()\n",
        "  loss_fn = tf.losses.SparseCategoricalCrossentropy(from_logits=True)\n",
        "  opt = tf.optimizers.Adam()\n",
        "\n",
        "  for step, (img_batch, lbl_batch) in enumerate(train_data):\n",
        "    with tf.GradientTape() as tape:\n",
        "        logits = model(img_batch)\n",
        "        xent = loss_fn(lbl_batch, logits)\n",
        "\n",
        "    varis = model.trainable_variables\n",
        "    grads = tape.gradient(xent, varis)\n",
        "\n",
        "    opt.apply_gradients(zip(grads, varis))\n",
        "    \n",
        "    train_acc_metric(lbl_batch, logits)\n",
        "    \n",
        "    if not step % 100:\n",
        "      step_graph.append(step)\n",
        "      loss_graph.append(xent)\n",
        "      acc_graph.append(train_acc_metric.result())\n",
        "      print(\"Loss: {} Accuracy: {}\".format(xent, train_acc_metric.result()))\n",
        "      train_acc_metric.reset_states()\n",
        "  \n",
        "  return step_graph, loss_graph, acc_graph"
      ],
      "execution_count": 6,
      "outputs": []
    },
    {
      "cell_type": "code",
      "metadata": {
        "id": "lne4EsCl7Tqt",
        "colab_type": "code",
        "colab": {}
      },
      "source": [
        "def test(model):\n",
        "  test_acc_metric = tf.metrics.SparseCategoricalAccuracy()\n",
        "  loss_fn = tf.losses.SparseCategoricalCrossentropy(from_logits=True)\n",
        "  for img_batch, lbl_batch in test_data:\n",
        "    logits = model(img_batch)\n",
        "    xent = loss_fn(lbl_batch, logits) \n",
        "    test_acc_metric(lbl_batch, logits)\n",
        "  print(test_acc_metric.result())\n",
        "  return test_acc_metric.result()\n"
      ],
      "execution_count": 7,
      "outputs": []
    },
    {
      "cell_type": "code",
      "metadata": {
        "id": "iFLpbh0r7V6f",
        "colab_type": "code",
        "colab": {
          "base_uri": "https://localhost:8080/",
          "height": 697
        },
        "outputId": "c1523ddd-2dc5-4e36-a143-a3d9f99df8e7"
      },
      "source": [
        "model1 = model()\n",
        "\n",
        "step1, loss1, acc1 = train(model1)"
      ],
      "execution_count": 8,
      "outputs": [
        {
          "output_type": "stream",
          "text": [
            "Loss: 2.3020782470703125 Accuracy: 0.078125\n",
            "Loss: 2.143481731414795 Accuracy: 0.2228125035762787\n",
            "Loss: 2.0936923027038574 Accuracy: 0.33000001311302185\n",
            "Loss: 2.051497220993042 Accuracy: 0.37992188334465027\n",
            "Loss: 2.1266798973083496 Accuracy: 0.39044857025146484\n",
            "Loss: 2.039794683456421 Accuracy: 0.4232812523841858\n",
            "Loss: 2.017426013946533 Accuracy: 0.4357031285762787\n",
            "Loss: 1.984022617340088 Accuracy: 0.45484375953674316\n",
            "Loss: 1.9340265989303589 Accuracy: 0.48839399218559265\n",
            "Loss: 1.9773962497711182 Accuracy: 0.501953125\n",
            "Loss: 1.9214469194412231 Accuracy: 0.5121874809265137\n",
            "Loss: 1.9159786701202393 Accuracy: 0.526171863079071\n",
            "Loss: 1.9581072330474854 Accuracy: 0.532700777053833\n",
            "Loss: 1.963093638420105 Accuracy: 0.5582812428474426\n",
            "Loss: 1.9076333045959473 Accuracy: 0.549609363079071\n",
            "Loss: 1.8349192142486572 Accuracy: 0.5627343654632568\n",
            "Loss: 1.9209911823272705 Accuracy: 0.5743412971496582\n",
            "Loss: 1.847568392753601 Accuracy: 0.5881249904632568\n",
            "Loss: 1.8751417398452759 Accuracy: 0.5884374976158142\n",
            "Loss: 1.830235242843628 Accuracy: 0.5920312404632568\n",
            "Loss: 1.7960774898529053 Accuracy: 0.5972396731376648\n",
            "Loss: 1.8860750198364258 Accuracy: 0.6227343678474426\n",
            "Loss: 1.8862664699554443 Accuracy: 0.6205468773841858\n",
            "Loss: 1.873647928237915 Accuracy: 0.6219531297683716\n",
            "Loss: 1.9266630411148071 Accuracy: 0.6139429211616516\n",
            "Loss: 1.801389217376709 Accuracy: 0.6378124952316284\n",
            "Loss: 1.8549964427947998 Accuracy: 0.6326562762260437\n",
            "Loss: 1.8049737215042114 Accuracy: 0.6421874761581421\n",
            "Loss: 1.782181978225708 Accuracy: 0.6403701305389404\n",
            "Loss: 1.7257208824157715 Accuracy: 0.6569530963897705\n",
            "Loss: 1.7940536737442017 Accuracy: 0.6424219012260437\n",
            "Loss: 1.820584774017334 Accuracy: 0.6592187285423279\n",
            "Loss: 1.7414915561676025 Accuracy: 0.6679736375808716\n",
            "Loss: 1.7889797687530518 Accuracy: 0.6675000190734863\n",
            "Loss: 1.7906594276428223 Accuracy: 0.6680468916893005\n",
            "Loss: 1.7208855152130127 Accuracy: 0.6695312261581421\n",
            "Loss: 1.7686327695846558 Accuracy: 0.6820106506347656\n",
            "Loss: 1.8384451866149902 Accuracy: 0.6837499737739563\n",
            "Loss: 1.7391917705535889 Accuracy: 0.688671886920929\n",
            "Loss: 1.7383198738098145 Accuracy: 0.6848437786102295\n"
          ],
          "name": "stdout"
        }
      ]
    },
    {
      "cell_type": "code",
      "metadata": {
        "id": "WWTKqjfG7g-0",
        "colab_type": "code",
        "colab": {
          "base_uri": "https://localhost:8080/",
          "height": 34
        },
        "outputId": "e260939c-9b84-49dd-afa1-195ce78cac66"
      },
      "source": [
        "test_acc1 = test(model1)"
      ],
      "execution_count": 9,
      "outputs": [
        {
          "output_type": "stream",
          "text": [
            "tf.Tensor(0.6366, shape=(), dtype=float32)\n"
          ],
          "name": "stdout"
        }
      ]
    },
    {
      "cell_type": "code",
      "metadata": {
        "id": "sA5x6XMk7tUB",
        "colab_type": "code",
        "colab": {
          "base_uri": "https://localhost:8080/",
          "height": 595
        },
        "outputId": "f867022c-1701-4c42-9f9f-2f2802c211ef"
      },
      "source": [
        "model1.summary()"
      ],
      "execution_count": 10,
      "outputs": [
        {
          "output_type": "stream",
          "text": [
            "Model: \"sequential\"\n",
            "_________________________________________________________________\n",
            "Layer (type)                 Output Shape              Param #   \n",
            "=================================================================\n",
            "conv2d (Conv2D)              (None, 30, 30, 32)        896       \n",
            "_________________________________________________________________\n",
            "activation (Activation)      (None, 30, 30, 32)        0         \n",
            "_________________________________________________________________\n",
            "max_pooling2d (MaxPooling2D) (None, 15, 15, 32)        0         \n",
            "_________________________________________________________________\n",
            "conv2d_1 (Conv2D)            (None, 13, 13, 64)        18496     \n",
            "_________________________________________________________________\n",
            "activation_1 (Activation)    (None, 13, 13, 64)        0         \n",
            "_________________________________________________________________\n",
            "max_pooling2d_1 (MaxPooling2 (None, 6, 6, 64)          0         \n",
            "_________________________________________________________________\n",
            "conv2d_2 (Conv2D)            (None, 4, 4, 128)         73856     \n",
            "_________________________________________________________________\n",
            "activation_2 (Activation)    (None, 4, 4, 128)         0         \n",
            "_________________________________________________________________\n",
            "max_pooling2d_2 (MaxPooling2 (None, 2, 2, 128)         0         \n",
            "_________________________________________________________________\n",
            "flatten (Flatten)            (None, 512)               0         \n",
            "_________________________________________________________________\n",
            "dense (Dense)                (None, 64)                32832     \n",
            "_________________________________________________________________\n",
            "dense_1 (Dense)              (None, 10)                650       \n",
            "_________________________________________________________________\n",
            "activation_3 (Activation)    (None, 10)                0         \n",
            "=================================================================\n",
            "Total params: 126,730\n",
            "Trainable params: 126,730\n",
            "Non-trainable params: 0\n",
            "_________________________________________________________________\n"
          ],
          "name": "stdout"
        }
      ]
    },
    {
      "cell_type": "code",
      "metadata": {
        "id": "7Vts3veK8DsL",
        "colab_type": "code",
        "colab": {
          "base_uri": "https://localhost:8080/",
          "height": 34
        },
        "outputId": "aa41c1d4-d778-481a-b3e1-cf101fb18f8d"
      },
      "source": [
        "model1.layers[-4]"
      ],
      "execution_count": 11,
      "outputs": [
        {
          "output_type": "execute_result",
          "data": {
            "text/plain": [
              "<tensorflow.python.keras.layers.core.Flatten at 0x7ff10010a908>"
            ]
          },
          "metadata": {
            "tags": []
          },
          "execution_count": 11
        }
      ]
    },
    {
      "cell_type": "code",
      "metadata": {
        "id": "rAOcAq_z8ZZk",
        "colab_type": "code",
        "colab": {}
      },
      "source": [
        "layers = model1.layers[-5].output\n",
        "\n",
        "intro_model = tf.keras.Model(inputs=model1.input, outputs=layers)"
      ],
      "execution_count": 12,
      "outputs": []
    },
    {
      "cell_type": "code",
      "metadata": {
        "id": "y74yAFz_9a5b",
        "colab_type": "code",
        "colab": {
          "base_uri": "https://localhost:8080/",
          "height": 493
        },
        "outputId": "3ef6746e-c982-4fdb-b2a9-8b4860c1c8b8"
      },
      "source": [
        "intro_model.summary()"
      ],
      "execution_count": 13,
      "outputs": [
        {
          "output_type": "stream",
          "text": [
            "Model: \"functional_1\"\n",
            "_________________________________________________________________\n",
            "Layer (type)                 Output Shape              Param #   \n",
            "=================================================================\n",
            "conv2d_input (InputLayer)    [(None, 32, 32, 3)]       0         \n",
            "_________________________________________________________________\n",
            "conv2d (Conv2D)              (None, 30, 30, 32)        896       \n",
            "_________________________________________________________________\n",
            "activation (Activation)      (None, 30, 30, 32)        0         \n",
            "_________________________________________________________________\n",
            "max_pooling2d (MaxPooling2D) (None, 15, 15, 32)        0         \n",
            "_________________________________________________________________\n",
            "conv2d_1 (Conv2D)            (None, 13, 13, 64)        18496     \n",
            "_________________________________________________________________\n",
            "activation_1 (Activation)    (None, 13, 13, 64)        0         \n",
            "_________________________________________________________________\n",
            "max_pooling2d_1 (MaxPooling2 (None, 6, 6, 64)          0         \n",
            "_________________________________________________________________\n",
            "conv2d_2 (Conv2D)            (None, 4, 4, 128)         73856     \n",
            "_________________________________________________________________\n",
            "activation_2 (Activation)    (None, 4, 4, 128)         0         \n",
            "_________________________________________________________________\n",
            "max_pooling2d_2 (MaxPooling2 (None, 2, 2, 128)         0         \n",
            "=================================================================\n",
            "Total params: 93,248\n",
            "Trainable params: 93,248\n",
            "Non-trainable params: 0\n",
            "_________________________________________________________________\n"
          ],
          "name": "stdout"
        }
      ]
    },
    {
      "cell_type": "code",
      "metadata": {
        "id": "BD2CfNX_-qe0",
        "colab_type": "code",
        "colab": {}
      },
      "source": [
        "def calc_loss(img, model):\n",
        "  # Pass forward the image through the model to retrieve the activations.\n",
        "  # Converts the image into a batch of size 1.\n",
        "  #img_batch = tf.expand_dims(img, axis=0)\n",
        "  layer_activations = model(img)\n",
        "  if len(layer_activations) == 1:\n",
        "    layer_activations = [layer_activations]\n",
        "\n",
        "  losses = []\n",
        "  for act in layer_activations:\n",
        "    loss = tf.math.reduce_mean(act)\n",
        "    losses.append(loss)\n",
        "\n",
        "  return  tf.reduce_sum(losses)"
      ],
      "execution_count": 14,
      "outputs": []
    },
    {
      "cell_type": "code",
      "metadata": {
        "id": "QY_ofzFcArI-",
        "colab_type": "code",
        "colab": {}
      },
      "source": [
        "i = 0\n",
        "for step, (imgt_batch, lblt_batch) in enumerate(test_data):\n",
        "  with tf.GradientTape() as tape:\n",
        "    tape.watch(imgt_batch)      \n",
        "    #logits = intro_model(imgt_batch)\n",
        "    #xent = loss_fn(lblt_batch, logits)\n",
        "    xent = calc_loss(imgt_batch, intro_model)\n",
        "\n",
        "  # Get the gradients of the loss w.r.t to the input image.\n",
        "  gradient = tape.gradient(xent, imgt_batch)\n",
        "  # Get the sign of the gradients to create the perturbation\n",
        "  signed_grad = tf.math.sign(gradient)\n",
        "  i+= 1\n",
        "  break\n",
        "  #if i == 2:\n",
        "  #  break"
      ],
      "execution_count": 15,
      "outputs": []
    },
    {
      "cell_type": "code",
      "metadata": {
        "id": "07L8vQ46BtrW",
        "colab_type": "code",
        "colab": {
          "base_uri": "https://localhost:8080/",
          "height": 34
        },
        "outputId": "d1657fb8-63b7-42c8-c0b9-2338a5a83c55"
      },
      "source": [
        "signed_grad.shape"
      ],
      "execution_count": 16,
      "outputs": [
        {
          "output_type": "execute_result",
          "data": {
            "text/plain": [
              "TensorShape([1, 32, 32, 3])"
            ]
          },
          "metadata": {
            "tags": []
          },
          "execution_count": 16
        }
      ]
    },
    {
      "cell_type": "code",
      "metadata": {
        "id": "1Ip_mnrJCERC",
        "colab_type": "code",
        "colab": {
          "base_uri": "https://localhost:8080/",
          "height": 283
        },
        "outputId": "09d8561d-c072-4171-ae28-cc7654444e12"
      },
      "source": [
        "plt.imshow(imgt_batch[0])"
      ],
      "execution_count": 17,
      "outputs": [
        {
          "output_type": "execute_result",
          "data": {
            "text/plain": [
              "<matplotlib.image.AxesImage at 0x7ff0ae03ffd0>"
            ]
          },
          "metadata": {
            "tags": []
          },
          "execution_count": 17
        },
        {
          "output_type": "display_data",
          "data": {
            "image/png": "[encoded data removed]",
            "text/plain": [
              "<Figure size 432x288 with 1 Axes>"
            ]
          },
          "metadata": {
            "tags": [],
            "needs_background": "light"
          }
        }
      ]
    },
    {
      "cell_type": "code",
      "metadata": {
        "id": "hgNQ7yFKB4sJ",
        "colab_type": "code",
        "colab": {
          "base_uri": "https://localhost:8080/",
          "height": 300
        },
        "outputId": "882be381-973c-41bf-97b3-1b7dfa4353c2"
      },
      "source": [
        "plt.imshow(signed_grad[0])"
      ],
      "execution_count": 18,
      "outputs": [
        {
          "output_type": "stream",
          "text": [
            "Clipping input data to the valid range for imshow with RGB data ([0..1] for floats or [0..255] for integers).\n"
          ],
          "name": "stderr"
        },
        {
          "output_type": "execute_result",
          "data": {
            "text/plain": [
              "<matplotlib.image.AxesImage at 0x7ff0a7357470>"
            ]
          },
          "metadata": {
            "tags": []
          },
          "execution_count": 18
        },
        {
          "output_type": "display_data",
          "data": {
            "image/png": "[encoded data removed]",
            "text/plain": [
              "<Figure size 432x288 with 1 Axes>"
            ]
          },
          "metadata": {
            "tags": [],
            "needs_background": "light"
          }
        }
      ]
    },
    {
      "cell_type": "markdown",
      "metadata": {
        "id": "WG9AZjRXII-0",
        "colab_type": "text"
      },
      "source": [
        "# 4.2 Activation Maximization"
      ]
    },
    {
      "cell_type": "code",
      "metadata": {
        "id": "pGxV3DZrGRQl",
        "colab_type": "code",
        "colab": {
          "base_uri": "https://localhost:8080/",
          "height": 0
        },
        "outputId": "89c670eb-0a0f-4883-c72a-a9315de9d6d1"
      },
      "source": [
        "adv_exp = imgt_batch[0] + 0.01*signed_grad[0]\n",
        "plt.imshow(adv_exp)"
      ],
      "execution_count": 19,
      "outputs": [
        {
          "output_type": "stream",
          "text": [
            "Clipping input data to the valid range for imshow with RGB data ([0..1] for floats or [0..255] for integers).\n"
          ],
          "name": "stderr"
        },
        {
          "output_type": "execute_result",
          "data": {
            "text/plain": [
              "<matplotlib.image.AxesImage at 0x7ff0a72c8908>"
            ]
          },
          "metadata": {
            "tags": []
          },
          "execution_count": 19
        },
        {
          "output_type": "display_data",
          "data": {
            "image/png": "[encoded data removed]",
            "text/plain": [
              "<Figure size 432x288 with 1 Axes>"
            ]
          },
          "metadata": {
            "tags": [],
            "needs_background": "light"
          }
        }
      ]
    },
    {
      "cell_type": "code",
      "metadata": {
        "id": "JemHYRBVEmPP",
        "colab_type": "code",
        "colab": {
          "base_uri": "https://localhost:8080/",
          "height": 0
        },
        "outputId": "70c7e961-eea1-4094-e150-875aac12e2b0"
      },
      "source": [
        "adv_exp = imgt_batch[0] + 0.01*signed_grad[0]\n",
        "adv_exp = 255*(adv_exp + 1.0)/2.0\n",
        "adv_exp = tf.cast(adv_exp, tf.uint8)\n",
        "plt.imshow(adv_exp)"
      ],
      "execution_count": 20,
      "outputs": [
        {
          "output_type": "execute_result",
          "data": {
            "text/plain": [
              "<matplotlib.image.AxesImage at 0x7ff0a72afa58>"
            ]
          },
          "metadata": {
            "tags": []
          },
          "execution_count": 20
        },
        {
          "output_type": "display_data",
          "data": {
            "image/png": "[encoded data removed]",
            "text/plain": [
              "<Figure size 432x288 with 1 Axes>"
            ]
          },
          "metadata": {
            "tags": [],
            "needs_background": "light"
          }
        }
      ]
    },
    {
      "cell_type": "code",
      "metadata": {
        "id": "UMjAwp3XB-fu",
        "colab_type": "code",
        "colab": {
          "base_uri": "https://localhost:8080/",
          "height": 0
        },
        "outputId": "d290635f-bb86-44ce-c0fb-564fe528c08b"
      },
      "source": [
        "adv_exp = imgt_batch[0]\n",
        "for _ in range(5):\n",
        "  adv_exp = adv_exp + 0.01*signed_grad[0]\n",
        "\n",
        "plt.imshow(adv_exp)"
      ],
      "execution_count": 21,
      "outputs": [
        {
          "output_type": "stream",
          "text": [
            "Clipping input data to the valid range for imshow with RGB data ([0..1] for floats or [0..255] for integers).\n"
          ],
          "name": "stderr"
        },
        {
          "output_type": "execute_result",
          "data": {
            "text/plain": [
              "<matplotlib.image.AxesImage at 0x7ff0a72195f8>"
            ]
          },
          "metadata": {
            "tags": []
          },
          "execution_count": 21
        },
        {
          "output_type": "display_data",
          "data": {
            "image/png": "[encoded data removed]",
            "text/plain": [
              "<Figure size 432x288 with 1 Axes>"
            ]
          },
          "metadata": {
            "tags": [],
            "needs_background": "light"
          }
        }
      ]
    },
    {
      "cell_type": "code",
      "metadata": {
        "id": "LrJigEl9I9Uk",
        "colab_type": "code",
        "colab": {}
      },
      "source": [
        "loss = tf.constant(0.0)\n",
        "for n in tf.range(100):\n",
        "  with tf.GradientTape() as tape:\n",
        "    tape.watch(imgt_batch)\n",
        "    loss = calc_loss(imgt_batch, intro_model)\n",
        "\n",
        "  gradients = tape.gradient(loss, imgt_batch)\n",
        "\n",
        "  gradients /= tf.math.reduce_std(gradients) + 1e-8 \n",
        "  \n",
        "  imgt_batch = imgt_batch + gradients*0.01\n",
        "  imgt_batch = tf.clip_by_value(imgt_batch, -1, 1)"
      ],
      "execution_count": 22,
      "outputs": []
    },
    {
      "cell_type": "code",
      "metadata": {
        "id": "YCYpEHIPNGPQ",
        "colab_type": "code",
        "colab": {
          "base_uri": "https://localhost:8080/",
          "height": 0
        },
        "outputId": "e287f8b2-952a-4a26-a64a-1eac21a53cb3"
      },
      "source": [
        "plt.imshow(imgt_batch[0])"
      ],
      "execution_count": 23,
      "outputs": [
        {
          "output_type": "stream",
          "text": [
            "Clipping input data to the valid range for imshow with RGB data ([0..1] for floats or [0..255] for integers).\n"
          ],
          "name": "stderr"
        },
        {
          "output_type": "execute_result",
          "data": {
            "text/plain": [
              "<matplotlib.image.AxesImage at 0x7ff0a7186080>"
            ]
          },
          "metadata": {
            "tags": []
          },
          "execution_count": 23
        },
        {
          "output_type": "display_data",
          "data": {
            "image/png": "[encoded data removed]",
            "text/plain": [
              "<Figure size 432x288 with 1 Axes>"
            ]
          },
          "metadata": {
            "tags": [],
            "needs_background": "light"
          }
        }
      ]
    },
    {
      "cell_type": "code",
      "metadata": {
        "id": "gujDiqARQwUk",
        "colab_type": "code",
        "colab": {
          "base_uri": "https://localhost:8080/",
          "height": 0
        },
        "outputId": "2022e0cb-106b-4467-954f-61cdcb2a525c"
      },
      "source": [
        "adv_exp = imgt_batch[0]\n",
        "adv_exp = 255*(adv_exp + 1.0)/2.0\n",
        "adv_exp = tf.cast(adv_exp, tf.uint8)\n",
        "plt.imshow(adv_exp)"
      ],
      "execution_count": 24,
      "outputs": [
        {
          "output_type": "execute_result",
          "data": {
            "text/plain": [
              "<matplotlib.image.AxesImage at 0x7ff0a716b208>"
            ]
          },
          "metadata": {
            "tags": []
          },
          "execution_count": 24
        },
        {
          "output_type": "display_data",
          "data": {
            "image/png": "[encoded data removed]",
            "text/plain": [
              "<Figure size 432x288 with 1 Axes>"
            ]
          },
          "metadata": {
            "tags": [],
            "needs_background": "light"
          }
        }
      ]
    },
    {
      "cell_type": "markdown",
      "metadata": {
        "id": "w9xSWCRDiT7J",
        "colab_type": "text"
      },
      "source": [
        "# Conclusion\n",
        "\n",
        "---\n",
        "\n",
        "*   Saliancy map doesnt make sense to me as the images are too small(32x32)\n",
        "*   Resulting input doesnt look natural\n",
        "*   After adding the signed gradient(multipied with small constant), the input image looks the same\n",
        "*    After updating it many time it starts to look different. I think it shows the area which when changed will affect the classification result.\n",
        "\n"
      ]
    }
  ]
}
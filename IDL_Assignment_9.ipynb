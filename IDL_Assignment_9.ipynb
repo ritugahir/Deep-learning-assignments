{
  "nbformat": 4,
  "nbformat_minor": 0,
  "metadata": {
    "colab": {
      "name": "IDL_Assignment_9.ipynb",
      "provenance": []
    },
    "kernelspec": {
      "name": "python3",
      "display_name": "Python 3"
    }
  },
  "cells": [
    {
      "cell_type": "markdown",
      "metadata": {
        "id": "EUo2sCHnn8QX",
        "colab_type": "text"
      },
      "source": [
        "Team Members\n",
        "\n",
        "*   Libin Kutty - Group 2\n",
        "*   Ritu Gahir - Group 3\n",
        "*   Viju Sudhi - Group 10"
      ]
    },
    {
      "cell_type": "code",
      "metadata": {
        "id": "6pLvpMM_k-ww",
        "colab_type": "code",
        "colab": {}
      },
      "source": [
        "%tensorflow_version 2.x"
      ],
      "execution_count": 1,
      "outputs": []
    },
    {
      "cell_type": "code",
      "metadata": {
        "id": "7SdtYtgmoHSx",
        "colab_type": "code",
        "colab": {}
      },
      "source": [
        "import tensorflow as tf\n",
        "import numpy as np\n",
        "import matplotlib.pyplot as plt\n",
        "from tensorflow.keras.models import Sequential\n",
        "from tensorflow.keras.layers import Dense, Dropout, Activation, Flatten\n",
        "from tensorflow.keras.layers import Conv2D, MaxPooling2D\n",
        "from tensorflow.keras.utils import to_categorical\n",
        "from tensorflow.keras.callbacks import TensorBoard\n",
        "from sklearn.model_selection import train_test_split"
      ],
      "execution_count": 2,
      "outputs": []
    },
    {
      "cell_type": "code",
      "metadata": {
        "id": "TSZ9KJabucgg",
        "colab_type": "code",
        "colab": {}
      },
      "source": [
        "from sklearn.metrics import accuracy_score, precision_score, recall_score"
      ],
      "execution_count": 3,
      "outputs": []
    },
    {
      "cell_type": "code",
      "metadata": {
        "id": "U4pr9YsNo0fz",
        "colab_type": "code",
        "colab": {
          "base_uri": "https://localhost:8080/",
          "height": 122
        },
        "outputId": "f1e718dc-c543-473d-b46f-3664448f708d"
      },
      "source": [
        "from google.colab import drive\n",
        "drive.mount('/content/drive')"
      ],
      "execution_count": 4,
      "outputs": [
        {
          "output_type": "stream",
          "text": [
            "Go to this URL in a browser: https://accounts.google.com/o/oauth2/auth?client_id=947318989803-6bn6qk8qdgf4n4g3pfee6491hc0brc4i.apps.googleusercontent.com&redirect_uri=urn%3aietf%3awg%3aoauth%3a2.0%3aoob&response_type=code&scope=email%20https%3a%2f%2fwww.googleapis.com%2fauth%2fdocs.test%20https%3a%2f%2fwww.googleapis.com%2fauth%2fdrive%20https%3a%2f%2fwww.googleapis.com%2fauth%2fdrive.photos.readonly%20https%3a%2f%2fwww.googleapis.com%2fauth%2fpeopleapi.readonly\n",
            "\n",
            "Enter your authorization code:\n",
            "··········\n",
            "Mounted at /content/drive\n"
          ],
          "name": "stdout"
        }
      ]
    },
    {
      "cell_type": "code",
      "metadata": {
        "id": "3_Vb7DOYpKn4",
        "colab_type": "code",
        "colab": {
          "base_uri": "https://localhost:8080/",
          "height": 51
        },
        "outputId": "3d00b54d-804d-4494-a32f-d11af6ce42a6"
      },
      "source": [
        "import os\n",
        "print(os.getcwd())\n",
        "os.chdir(\"/content/drive/My Drive/Colab Notebook/IDL/\")\n",
        "print(os.getcwd())"
      ],
      "execution_count": 5,
      "outputs": [
        {
          "output_type": "stream",
          "text": [
            "/content\n",
            "/content/drive/My Drive/Colab Notebook/IDL\n"
          ],
          "name": "stdout"
        }
      ]
    },
    {
      "cell_type": "code",
      "metadata": {
        "id": "_oPZTcj0ndXp",
        "colab_type": "code",
        "colab": {}
      },
      "source": [
        "def model():\n",
        "  model = Sequential()\n",
        "\n",
        "  model.add(Conv2D(32, (3, 3), input_shape=(32,32,3)))\n",
        "  model.add(Activation('relu'))\n",
        "  model.add(MaxPooling2D(pool_size=(2, 2)))\n",
        "\n",
        "  model.add(Conv2D(64, (3, 3)))\n",
        "  model.add(Activation('relu'))\n",
        "  model.add(MaxPooling2D(pool_size=(2, 2)))\n",
        "\n",
        "  model.add(Conv2D(128, (3, 3)))\n",
        "  model.add(Activation('relu'))\n",
        "  model.add(MaxPooling2D(pool_size=(2, 2)))\n",
        "\n",
        "  model.add(Flatten())  # this converts our 3D feature maps to 1D feature vectors\n",
        "\n",
        "  model.add(Dense(64))\n",
        "  #model.add(Activation('relu'))\n",
        "\n",
        "  model.add(Dense(10))\n",
        "  model.add(Activation('softmax'))\n",
        "\n",
        "  return model"
      ],
      "execution_count": 6,
      "outputs": []
    },
    {
      "cell_type": "code",
      "metadata": {
        "id": "rGWvkuMUodQv",
        "colab_type": "code",
        "colab": {}
      },
      "source": [
        "model.compile(loss='categorical_crossentropy',\n",
        "              optimizer='adam',\n",
        "              metrics=['accuracy'])\n",
        "\n",
        "model.fit(x_train, y_train, epochs=10, validation_data=(x_val,y_val),\n",
        "        callbacks=[tensorboard])"
      ],
      "execution_count": null,
      "outputs": []
    },
    {
      "cell_type": "markdown",
      "metadata": {
        "id": "c05y8tt-vmNf",
        "colab_type": "text"
      },
      "source": [
        "# Data 1\n",
        "Training accuracy - 84%\n",
        "Validation accuracy -77%\n",
        "Test Accuracy - 60%\n",
        "\n",
        "Problems with dataset\n",
        "\n",
        "* There are 2 unseen class labels in test set \n",
        "\n",
        "* The number of instances in train set are around 36k , validate set with 5k and test set with 10k\n",
        "\n"
      ]
    },
    {
      "cell_type": "code",
      "metadata": {
        "id": "KjvAEp2IpP_f",
        "colab_type": "code",
        "colab": {}
      },
      "source": [
        "ds1 = np.load('data1.npz')\n",
        "print(ds1.files)\n",
        "train_imgs = ds1['train_imgs']\n",
        "train_lbls = ds1['train_lbls']\n",
        "val_imgs = ds1['val_imgs']\n",
        "val_lbls = ds1['val_lbls']\n",
        "test_imgs = ds1['test_imgs']\n",
        "test_lbls = ds1['test_lbls']"
      ],
      "execution_count": null,
      "outputs": []
    },
    {
      "cell_type": "code",
      "metadata": {
        "id": "lXrazDCHr_Z4",
        "colab_type": "code",
        "colab": {
          "base_uri": "https://localhost:8080/",
          "height": 34
        },
        "outputId": "0fbb4fc7-c50f-48fb-c1f9-85eacac801aa"
      },
      "source": [
        "train_lbls"
      ],
      "execution_count": null,
      "outputs": [
        {
          "output_type": "execute_result",
          "data": {
            "text/plain": [
              "array([6, 9, 9, ..., 1, 5, 6], dtype=int32)"
            ]
          },
          "metadata": {
            "tags": []
          },
          "execution_count": 24
        }
      ]
    },
    {
      "cell_type": "code",
      "metadata": {
        "id": "R6EX77_NqnfA",
        "colab_type": "code",
        "colab": {}
      },
      "source": [
        "check1 = model()"
      ],
      "execution_count": null,
      "outputs": []
    },
    {
      "cell_type": "code",
      "metadata": {
        "id": "46AJwBTnrHcW",
        "colab_type": "code",
        "colab": {
          "base_uri": "https://localhost:8080/",
          "height": 374
        },
        "outputId": "0143a118-ea06-434a-a91e-7e07e0bf2622"
      },
      "source": [
        "check1.compile(loss='sparse_categorical_crossentropy',\n",
        "              optimizer='adam',\n",
        "              metrics=['accuracy'])\n",
        "\n",
        "check1.fit(train_imgs, train_lbls, epochs=10, validation_data=(val_imgs,val_lbls))"
      ],
      "execution_count": null,
      "outputs": [
        {
          "output_type": "stream",
          "text": [
            "Epoch 1/10\n",
            "1126/1126 [==============================] - 55s 49ms/step - loss: 1.3311 - accuracy: 0.4953 - val_loss: 1.0611 - val_accuracy: 0.6114\n",
            "Epoch 2/10\n",
            "1126/1126 [==============================] - 51s 45ms/step - loss: 0.9836 - accuracy: 0.6447 - val_loss: 0.8777 - val_accuracy: 0.6827\n",
            "Epoch 3/10\n",
            "1126/1126 [==============================] - 51s 45ms/step - loss: 0.8218 - accuracy: 0.7053 - val_loss: 0.7844 - val_accuracy: 0.7327\n",
            "Epoch 4/10\n",
            "1126/1126 [==============================] - 52s 46ms/step - loss: 0.7313 - accuracy: 0.7401 - val_loss: 0.7275 - val_accuracy: 0.7455\n",
            "Epoch 5/10\n",
            "1126/1126 [==============================] - 52s 46ms/step - loss: 0.6667 - accuracy: 0.7658 - val_loss: 0.6887 - val_accuracy: 0.7633\n",
            "Epoch 6/10\n",
            "1126/1126 [==============================] - 52s 47ms/step - loss: 0.6042 - accuracy: 0.7874 - val_loss: 0.7250 - val_accuracy: 0.7445\n",
            "Epoch 7/10\n",
            "1126/1126 [==============================] - 51s 46ms/step - loss: 0.5474 - accuracy: 0.8070 - val_loss: 0.6706 - val_accuracy: 0.7728\n",
            "Epoch 8/10\n",
            "1126/1126 [==============================] - 51s 45ms/step - loss: 0.5006 - accuracy: 0.8239 - val_loss: 0.6460 - val_accuracy: 0.7893\n",
            "Epoch 9/10\n",
            "1126/1126 [==============================] - 51s 46ms/step - loss: 0.4607 - accuracy: 0.8350 - val_loss: 0.6890 - val_accuracy: 0.7805\n",
            "Epoch 10/10\n",
            "1126/1126 [==============================] - 51s 45ms/step - loss: 0.4261 - accuracy: 0.8482 - val_loss: 0.7191 - val_accuracy: 0.7748\n"
          ],
          "name": "stdout"
        },
        {
          "output_type": "execute_result",
          "data": {
            "text/plain": [
              "<tensorflow.python.keras.callbacks.History at 0x7f5b3fa44128>"
            ]
          },
          "metadata": {
            "tags": []
          },
          "execution_count": 28
        }
      ]
    },
    {
      "cell_type": "code",
      "metadata": {
        "id": "_WpmhN5ir4qc",
        "colab_type": "code",
        "colab": {
          "base_uri": "https://localhost:8080/",
          "height": 68
        },
        "outputId": "ca9dcc36-ddd3-441f-f163-45c97f29397d"
      },
      "source": [
        "pred1 = check1.predict_classes(test_imgs)\n",
        "print(\"Predicted Label:\",pred1)                                                                \n",
        "print(\"Actual Label:\",test_lbls)\n",
        "\n",
        "print(\"Accuracy Score:\",accuracy_score(test_lbls, pred1))"
      ],
      "execution_count": null,
      "outputs": [
        {
          "output_type": "stream",
          "text": [
            "Predicted Label: [5 8 8 ... 5 1 4]\n",
            "Actual Label: [3 8 8 ... 5 1 7]\n",
            "Accuracy Score: 0.6024\n"
          ],
          "name": "stdout"
        }
      ]
    },
    {
      "cell_type": "code",
      "metadata": {
        "id": "bspqFehx6JN6",
        "colab_type": "code",
        "colab": {
          "base_uri": "https://localhost:8080/",
          "height": 68
        },
        "outputId": "b2cecb72-dbf0-442a-c0b3-e7de528cb601"
      },
      "source": [
        "print(np.unique(train_lbls))\n",
        "print(np.unique(val_lbls))\n",
        "print(np.unique(test_lbls))"
      ],
      "execution_count": null,
      "outputs": [
        {
          "output_type": "stream",
          "text": [
            "[0 1 2 4 5 6 8 9]\n",
            "[0 1 2 4 5 6 8 9]\n",
            "[0 1 2 3 4 5 6 7 8 9]\n"
          ],
          "name": "stdout"
        }
      ]
    },
    {
      "cell_type": "code",
      "metadata": {
        "id": "3RyAhhrc9qe0",
        "colab_type": "code",
        "colab": {
          "base_uri": "https://localhost:8080/",
          "height": 283
        },
        "outputId": "c55ac330-32cd-4954-b6bb-4c82e93d0b7d"
      },
      "source": [
        "plt.imshow(test_imgs[0])"
      ],
      "execution_count": null,
      "outputs": [
        {
          "output_type": "execute_result",
          "data": {
            "text/plain": [
              "<matplotlib.image.AxesImage at 0x7f5b38899da0>"
            ]
          },
          "metadata": {
            "tags": []
          },
          "execution_count": 66
        },
        {
          "output_type": "display_data",
          "data": {
            "image/png": "[encoded data removed]",
            "text/plain": [
              "<Figure size 432x288 with 1 Axes>"
            ]
          },
          "metadata": {
            "tags": [],
            "needs_background": "light"
          }
        }
      ]
    },
    {
      "cell_type": "code",
      "metadata": {
        "id": "Co1r5sspDo54",
        "colab_type": "code",
        "colab": {
          "base_uri": "https://localhost:8080/",
          "height": 68
        },
        "outputId": "2cfc757d-2997-414b-fd26-1e93936eda9c"
      },
      "source": [
        "print(train_imgs.shape)\n",
        "print(val_imgs.shape)\n",
        "print(test_imgs.shape)"
      ],
      "execution_count": null,
      "outputs": [
        {
          "output_type": "stream",
          "text": [
            "(36004, 32, 32, 3)\n",
            "(3996, 32, 32, 3)\n",
            "(10000, 32, 32, 3)\n"
          ],
          "name": "stdout"
        }
      ]
    },
    {
      "cell_type": "markdown",
      "metadata": {
        "id": "3VMYk7M3vrbr",
        "colab_type": "text"
      },
      "source": [
        "# Data 2\n",
        "Training accuracy - 77%\n",
        "Validation accuracy -80%\n",
        "Test Accuracy - 70%\n",
        "\n",
        "Problems with dataset\n",
        "\n",
        "*   Train set contains 50k instances , validate contains 5k instances and test contains 10k instances - Extra data in train set\n",
        "\n"
      ]
    },
    {
      "cell_type": "code",
      "metadata": {
        "id": "dXeWiWkZurip",
        "colab_type": "code",
        "colab": {
          "base_uri": "https://localhost:8080/",
          "height": 34
        },
        "outputId": "6e745502-4507-4ce5-c0ed-0708bacce607"
      },
      "source": [
        "check2 = model()\n",
        "\n",
        "ds2 = np.load('data2.npz')\n",
        "print(ds2.files)\n",
        "train_imgs2 = ds2['train_imgs']\n",
        "train_lbls2 = ds2['train_lbls']\n",
        "val_imgs2 = ds2['val_imgs']\n",
        "val_lbls2 = ds2['val_lbls']\n",
        "test_imgs2 = ds2['test_imgs']\n",
        "test_lbls2 = ds2['test_lbls']"
      ],
      "execution_count": null,
      "outputs": [
        {
          "output_type": "stream",
          "text": [
            "['train_imgs', 'train_lbls', 'val_imgs', 'val_lbls', 'test_imgs', 'test_lbls']\n"
          ],
          "name": "stdout"
        }
      ]
    },
    {
      "cell_type": "code",
      "metadata": {
        "id": "WHOPwo6qvyIU",
        "colab_type": "code",
        "colab": {
          "base_uri": "https://localhost:8080/",
          "height": 34
        },
        "outputId": "41b2a6fc-a4bd-4d7a-a189-25af3fb22f98"
      },
      "source": [
        "train_lbls2"
      ],
      "execution_count": null,
      "outputs": [
        {
          "output_type": "execute_result",
          "data": {
            "text/plain": [
              "array([6, 9, 9, ..., 9, 1, 1], dtype=int32)"
            ]
          },
          "metadata": {
            "tags": []
          },
          "execution_count": 33
        }
      ]
    },
    {
      "cell_type": "code",
      "metadata": {
        "id": "NaumqRZwviCc",
        "colab_type": "code",
        "colab": {
          "base_uri": "https://localhost:8080/",
          "height": 374
        },
        "outputId": "bd7372d1-f88f-49fe-87a4-d7380e9154a2"
      },
      "source": [
        "check2.compile(loss='sparse_categorical_crossentropy',\n",
        "              optimizer='adam',\n",
        "              metrics=['accuracy'])\n",
        "\n",
        "check2.fit(train_imgs2, train_lbls2, batch_size=128, epochs=10, validation_data=(val_imgs2,val_lbls2))"
      ],
      "execution_count": null,
      "outputs": [
        {
          "output_type": "stream",
          "text": [
            "Epoch 1/10\n",
            "391/391 [==============================] - 63s 160ms/step - loss: 1.6137 - accuracy: 0.4135 - val_loss: 1.3848 - val_accuracy: 0.4940\n",
            "Epoch 2/10\n",
            "391/391 [==============================] - 62s 160ms/step - loss: 1.2419 - accuracy: 0.5597 - val_loss: 1.2385 - val_accuracy: 0.5698\n",
            "Epoch 3/10\n",
            "391/391 [==============================] - 62s 158ms/step - loss: 1.0870 - accuracy: 0.6198 - val_loss: 0.9876 - val_accuracy: 0.6608\n",
            "Epoch 4/10\n",
            "391/391 [==============================] - 62s 160ms/step - loss: 0.9774 - accuracy: 0.6594 - val_loss: 0.8706 - val_accuracy: 0.6982\n",
            "Epoch 5/10\n",
            "391/391 [==============================] - 63s 161ms/step - loss: 0.9037 - accuracy: 0.6849 - val_loss: 0.8530 - val_accuracy: 0.7084\n",
            "Epoch 6/10\n",
            "391/391 [==============================] - 63s 160ms/step - loss: 0.8366 - accuracy: 0.7108 - val_loss: 0.7437 - val_accuracy: 0.7418\n",
            "Epoch 7/10\n",
            "391/391 [==============================] - 62s 159ms/step - loss: 0.7856 - accuracy: 0.7282 - val_loss: 0.7065 - val_accuracy: 0.7562\n",
            "Epoch 8/10\n",
            "391/391 [==============================] - 62s 159ms/step - loss: 0.7381 - accuracy: 0.7458 - val_loss: 0.6718 - val_accuracy: 0.7686\n",
            "Epoch 9/10\n",
            "391/391 [==============================] - 64s 163ms/step - loss: 0.6966 - accuracy: 0.7594 - val_loss: 0.6776 - val_accuracy: 0.7620\n",
            "Epoch 10/10\n",
            "391/391 [==============================] - 62s 158ms/step - loss: 0.6515 - accuracy: 0.7732 - val_loss: 0.5804 - val_accuracy: 0.8046\n"
          ],
          "name": "stdout"
        },
        {
          "output_type": "execute_result",
          "data": {
            "text/plain": [
              "<tensorflow.python.keras.callbacks.History at 0x7f5b3d112080>"
            ]
          },
          "metadata": {
            "tags": []
          },
          "execution_count": 35
        }
      ]
    },
    {
      "cell_type": "code",
      "metadata": {
        "id": "zWUBwHF-v9AO",
        "colab_type": "code",
        "colab": {
          "base_uri": "https://localhost:8080/",
          "height": 68
        },
        "outputId": "bd1c1f7e-06ef-43a4-827f-e566da472be2"
      },
      "source": [
        "pred2 = check2.predict_classes(test_imgs2)\n",
        "print(\"Predicted Label:\",pred2)                                                                \n",
        "print(\"Actual Label:\",test_lbls2)\n",
        "\n",
        "print(\"Accuracy Score:\",accuracy_score(test_lbls2, pred2))"
      ],
      "execution_count": null,
      "outputs": [
        {
          "output_type": "stream",
          "text": [
            "Predicted Label: [3 8 1 ... 5 1 7]\n",
            "Actual Label: [3 8 8 ... 5 1 7]\n",
            "Accuracy Score: 0.7067\n"
          ],
          "name": "stdout"
        }
      ]
    },
    {
      "cell_type": "code",
      "metadata": {
        "id": "yUAzC79X6WtA",
        "colab_type": "code",
        "colab": {
          "base_uri": "https://localhost:8080/",
          "height": 68
        },
        "outputId": "5a58f7e6-ece2-4e86-ff16-9665da548147"
      },
      "source": [
        "print(np.unique(train_lbls2))\n",
        "print(np.unique(val_lbls2))\n",
        "print(np.unique(test_lbls2))"
      ],
      "execution_count": null,
      "outputs": [
        {
          "output_type": "stream",
          "text": [
            "[0 1 2 3 4 5 6 7 8 9]\n",
            "[0 1 2 3 4 5 6 7 8 9]\n",
            "[0 1 2 3 4 5 6 7 8 9]\n"
          ],
          "name": "stdout"
        }
      ]
    },
    {
      "cell_type": "code",
      "metadata": {
        "id": "74UvjkH79tef",
        "colab_type": "code",
        "colab": {
          "base_uri": "https://localhost:8080/",
          "height": 283
        },
        "outputId": "d50a83e9-c265-474e-ced1-2216f68747ca"
      },
      "source": [
        "plt.imshow(test_imgs2[0])"
      ],
      "execution_count": null,
      "outputs": [
        {
          "output_type": "execute_result",
          "data": {
            "text/plain": [
              "<matplotlib.image.AxesImage at 0x7f5b388812e8>"
            ]
          },
          "metadata": {
            "tags": []
          },
          "execution_count": 67
        },
        {
          "output_type": "display_data",
          "data": {
            "image/png": "[encoded data removed]",
            "text/plain": [
              "<Figure size 432x288 with 1 Axes>"
            ]
          },
          "metadata": {
            "tags": [],
            "needs_background": "light"
          }
        }
      ]
    },
    {
      "cell_type": "code",
      "metadata": {
        "id": "BRCDwMvLDbdK",
        "colab_type": "code",
        "colab": {
          "base_uri": "https://localhost:8080/",
          "height": 68
        },
        "outputId": "3e7df261-e802-49aa-830b-b9a5d38dd509"
      },
      "source": [
        "print(train_imgs2.shape)\n",
        "print(val_imgs2.shape)\n",
        "print(test_imgs2.shape)"
      ],
      "execution_count": null,
      "outputs": [
        {
          "output_type": "stream",
          "text": [
            "(50000, 32, 32, 3)\n",
            "(5000, 32, 32, 3)\n",
            "(10000, 32, 32, 3)\n"
          ],
          "name": "stdout"
        }
      ]
    },
    {
      "cell_type": "markdown",
      "metadata": {
        "id": "-uliZRg1yefC",
        "colab_type": "text"
      },
      "source": [
        "# Data 3\n",
        "Training accuracy - 77%\n",
        "Validation accuracy -72%\n",
        "Test Accuracy - 53%\n",
        "\n",
        "Problems with dataset\n",
        "\n",
        "*   Value of pixel is below 0(in negative), it should be 0-1 or 0-255 \n"
      ]
    },
    {
      "cell_type": "code",
      "metadata": {
        "id": "p1grtp-NyZhR",
        "colab_type": "code",
        "colab": {
          "base_uri": "https://localhost:8080/",
          "height": 34
        },
        "outputId": "df07b4a4-8d73-4122-95ed-8a803348165f"
      },
      "source": [
        "check3 = model()\n",
        "\n",
        "ds3 = np.load('data3.npz')\n",
        "print(ds3.files)\n",
        "train_imgs3 = ds3['train_imgs']\n",
        "train_lbls3 = ds3['train_lbls']\n",
        "val_imgs3 = ds3['val_imgs']\n",
        "val_lbls3 = ds3['val_lbls']\n",
        "test_imgs3 = ds3['test_imgs']\n",
        "test_lbls3 = ds3['test_lbls']"
      ],
      "execution_count": null,
      "outputs": [
        {
          "output_type": "stream",
          "text": [
            "['train_imgs', 'train_lbls', 'val_imgs', 'val_lbls', 'test_imgs', 'test_lbls']\n"
          ],
          "name": "stdout"
        }
      ]
    },
    {
      "cell_type": "code",
      "metadata": {
        "id": "gcgrYnqVyq4r",
        "colab_type": "code",
        "colab": {
          "base_uri": "https://localhost:8080/",
          "height": 374
        },
        "outputId": "1adb6d91-0667-43ac-f68f-41f73f1a993a"
      },
      "source": [
        "check3.compile(loss='sparse_categorical_crossentropy',\n",
        "              optimizer='adam',\n",
        "              metrics=['accuracy'])\n",
        "\n",
        "check3.fit(train_imgs3, train_lbls3, batch_size=128, epochs=10, validation_data=(val_imgs3,val_lbls3))"
      ],
      "execution_count": null,
      "outputs": [
        {
          "output_type": "stream",
          "text": [
            "Epoch 1/10\n",
            "352/352 [==============================] - 56s 159ms/step - loss: 1.6203 - accuracy: 0.4141 - val_loss: 1.3167 - val_accuracy: 0.5324\n",
            "Epoch 2/10\n",
            "352/352 [==============================] - 56s 158ms/step - loss: 1.2541 - accuracy: 0.5544 - val_loss: 1.1300 - val_accuracy: 0.6082\n",
            "Epoch 3/10\n",
            "352/352 [==============================] - 56s 159ms/step - loss: 1.0973 - accuracy: 0.6155 - val_loss: 1.0665 - val_accuracy: 0.6232\n",
            "Epoch 4/10\n",
            "352/352 [==============================] - 57s 162ms/step - loss: 0.9968 - accuracy: 0.6507 - val_loss: 0.9615 - val_accuracy: 0.6670\n",
            "Epoch 5/10\n",
            "352/352 [==============================] - 57s 161ms/step - loss: 0.9063 - accuracy: 0.6872 - val_loss: 0.9263 - val_accuracy: 0.6810\n",
            "Epoch 6/10\n",
            "352/352 [==============================] - 57s 161ms/step - loss: 0.8372 - accuracy: 0.7086 - val_loss: 0.8864 - val_accuracy: 0.6942\n",
            "Epoch 7/10\n",
            "352/352 [==============================] - 57s 161ms/step - loss: 0.7835 - accuracy: 0.7287 - val_loss: 0.8404 - val_accuracy: 0.7130\n",
            "Epoch 8/10\n",
            "352/352 [==============================] - 56s 159ms/step - loss: 0.7278 - accuracy: 0.7476 - val_loss: 0.9113 - val_accuracy: 0.6952\n",
            "Epoch 9/10\n",
            "352/352 [==============================] - 56s 159ms/step - loss: 0.6874 - accuracy: 0.7631 - val_loss: 0.8263 - val_accuracy: 0.7204\n",
            "Epoch 10/10\n",
            "352/352 [==============================] - 57s 161ms/step - loss: 0.6430 - accuracy: 0.7780 - val_loss: 0.8524 - val_accuracy: 0.7214\n"
          ],
          "name": "stdout"
        },
        {
          "output_type": "execute_result",
          "data": {
            "text/plain": [
              "<tensorflow.python.keras.callbacks.History at 0x7f5b3d155278>"
            ]
          },
          "metadata": {
            "tags": []
          },
          "execution_count": 38
        }
      ]
    },
    {
      "cell_type": "code",
      "metadata": {
        "id": "FB5_2eyNy334",
        "colab_type": "code",
        "colab": {
          "base_uri": "https://localhost:8080/",
          "height": 68
        },
        "outputId": "68f29cc7-b1ac-4763-85ca-14ca70b8216d"
      },
      "source": [
        "pred3 = check3.predict_classes(test_imgs3, batch_size=128)\n",
        "print(\"Predicted Label:\",pred3)                                                                \n",
        "print(\"Actual Label:\",test_lbls3)\n",
        "\n",
        "print(\"Accuracy Score:\",accuracy_score(test_lbls3, pred3))"
      ],
      "execution_count": null,
      "outputs": [
        {
          "output_type": "stream",
          "text": [
            "Predicted Label: [5 1 1 ... 7 1 7]\n",
            "Actual Label: [3 8 8 ... 5 1 7]\n",
            "Accuracy Score: 0.5314\n"
          ],
          "name": "stdout"
        }
      ]
    },
    {
      "cell_type": "code",
      "metadata": {
        "id": "m1xt6kOB6a0p",
        "colab_type": "code",
        "colab": {
          "base_uri": "https://localhost:8080/",
          "height": 68
        },
        "outputId": "74e52bc9-e584-4457-b7d9-97006209e402"
      },
      "source": [
        "print(np.unique(train_lbls3))\n",
        "print(np.unique(val_lbls3))\n",
        "print(np.unique(test_lbls3))"
      ],
      "execution_count": null,
      "outputs": [
        {
          "output_type": "stream",
          "text": [
            "[0 1 2 3 4 5 6 7 8 9]\n",
            "[0 1 2 3 4 5 6 7 8 9]\n",
            "[0 1 2 3 4 5 6 7 8 9]\n"
          ],
          "name": "stdout"
        }
      ]
    },
    {
      "cell_type": "code",
      "metadata": {
        "id": "gxcdfMBs90GF",
        "colab_type": "code",
        "colab": {
          "base_uri": "https://localhost:8080/",
          "height": 850
        },
        "outputId": "c8737e8f-2947-4194-a273-0807f7496f1f"
      },
      "source": [
        "test_imgs3[0]"
      ],
      "execution_count": null,
      "outputs": [
        {
          "output_type": "execute_result",
          "data": {
            "text/plain": [
              "array([[[ 0.23921573, -0.12156862, -0.6156863 ],\n",
              "        [ 0.24705887, -0.12941176, -0.6313726 ],\n",
              "        [ 0.2941177 , -0.09019607, -0.6       ],\n",
              "        ...,\n",
              "        [ 0.07450986, -0.25490195, -0.7176471 ],\n",
              "        [-0.01176471, -0.2862745 , -0.7176471 ],\n",
              "        [-0.09019607, -0.3333333 , -0.7411765 ]],\n",
              "\n",
              "       [[ 0.19215691, -0.12156862, -0.6       ],\n",
              "        [ 0.18431377, -0.1372549 , -0.6862745 ],\n",
              "        [ 0.24705887, -0.10588235, -0.64705884],\n",
              "        ...,\n",
              "        [ 0.06666672, -0.25490195, -0.75686276],\n",
              "        [-0.01960784, -0.2862745 , -0.7490196 ],\n",
              "        [-0.06666666, -0.3098039 , -0.73333335]],\n",
              "\n",
              "       [[ 0.18431377, -0.1372549 , -0.6313726 ],\n",
              "        [ 0.18431377, -0.14509803, -0.7411765 ],\n",
              "        [ 0.23921573, -0.12941176, -0.7176471 ],\n",
              "        ...,\n",
              "        [ 0.09019613, -0.23137254, -0.73333335],\n",
              "        [ 0.0196079 , -0.25490195, -0.73333335],\n",
              "        [-0.05882353, -0.30196077, -0.7411765 ]],\n",
              "\n",
              "       ...,\n",
              "\n",
              "       [[-0.46666664, -0.02745098,  0.38823533],\n",
              "        [-0.67058825, -0.21568626,  0.16078436],\n",
              "        [-0.75686276, -0.3098039 ,  0.07450986],\n",
              "        ...,\n",
              "        [-0.7019608 , -0.23921567,  0.14509809],\n",
              "        [-0.8980392 , -0.4980392 , -0.15294117],\n",
              "        [-0.6862745 , -0.3333333 , -0.00392157]],\n",
              "\n",
              "       [[-0.52156866, -0.09019607,  0.3176471 ],\n",
              "        [-0.6156863 , -0.19999999,  0.16078436],\n",
              "        [-0.7254902 , -0.3333333 ,  0.03529418],\n",
              "        ...,\n",
              "        [-0.79607844, -0.35686272,  0.0196079 ],\n",
              "        [-0.77254903, -0.35686272, -0.01176471],\n",
              "        [-0.84313726, -0.4980392 , -0.1607843 ]],\n",
              "\n",
              "       [[-0.5764706 , -0.1607843 ,  0.254902  ],\n",
              "        [-0.56078434, -0.17647058,  0.1686275 ],\n",
              "        [-0.64705884, -0.30196077,  0.03529418],\n",
              "        ...,\n",
              "        [-0.8117647 , -0.3960784 , -0.02745098],\n",
              "        [-0.73333335, -0.34117645,  0.01176476],\n",
              "        [-0.8352941 , -0.47450978, -0.1372549 ]]], dtype=float32)"
            ]
          },
          "metadata": {
            "tags": []
          },
          "execution_count": 70
        }
      ]
    },
    {
      "cell_type": "code",
      "metadata": {
        "id": "AU7AbtK-9wlL",
        "colab_type": "code",
        "colab": {
          "base_uri": "https://localhost:8080/",
          "height": 300
        },
        "outputId": "e6c3098f-17fd-4a13-d1e0-2df4a6ef55c8"
      },
      "source": [
        "plt.imshow(test_imgs3[0])"
      ],
      "execution_count": null,
      "outputs": [
        {
          "output_type": "stream",
          "text": [
            "Clipping input data to the valid range for imshow with RGB data ([0..1] for floats or [0..255] for integers).\n"
          ],
          "name": "stderr"
        },
        {
          "output_type": "execute_result",
          "data": {
            "text/plain": [
              "<matplotlib.image.AxesImage at 0x7f5b387d9940>"
            ]
          },
          "metadata": {
            "tags": []
          },
          "execution_count": 68
        },
        {
          "output_type": "display_data",
          "data": {
            "image/png": "[encoded data removed]",
            "text/plain": [
              "<Figure size 432x288 with 1 Axes>"
            ]
          },
          "metadata": {
            "tags": [],
            "needs_background": "light"
          }
        }
      ]
    },
    {
      "cell_type": "code",
      "metadata": {
        "id": "WnRWilRNDiPn",
        "colab_type": "code",
        "colab": {
          "base_uri": "https://localhost:8080/",
          "height": 68
        },
        "outputId": "e498091b-9795-4a8e-df35-9c44f1796eac"
      },
      "source": [
        "print(train_imgs3.shape)\n",
        "print(val_imgs3.shape)\n",
        "print(test_imgs3.shape)"
      ],
      "execution_count": null,
      "outputs": [
        {
          "output_type": "stream",
          "text": [
            "(45000, 32, 32, 3)\n",
            "(5000, 32, 32, 3)\n",
            "(10000, 32, 32, 3)\n"
          ],
          "name": "stdout"
        }
      ]
    },
    {
      "cell_type": "markdown",
      "metadata": {
        "id": "qeSkRlRZzEse",
        "colab_type": "text"
      },
      "source": [
        "# Data 4\n",
        "Training accuracy - 100%\n",
        "Validation accuracy -100%\n",
        "Test Accuracy - 14%\n",
        "\n",
        "Problems with dataset\n",
        "\n",
        "*   Repetitive data present in training data\n",
        "\n",
        "*   Overfitting\n",
        "\n",
        "\n"
      ]
    },
    {
      "cell_type": "code",
      "metadata": {
        "id": "RgVdyxcuzIWR",
        "colab_type": "code",
        "colab": {
          "base_uri": "https://localhost:8080/",
          "height": 34
        },
        "outputId": "68658be8-3e3a-4ae9-d460-608a9bb4d421"
      },
      "source": [
        "check4 = model()\n",
        "\n",
        "ds4 = np.load('data4.npz')\n",
        "print(ds4.files)\n",
        "train_imgs4 = ds4['train_imgs']\n",
        "train_lbls4 = ds4['train_lbls']\n",
        "val_imgs4 = ds4['val_imgs']\n",
        "val_lbls4 = ds4['val_lbls']\n",
        "test_imgs4 = ds4['test_imgs']\n",
        "test_lbls4 = ds4['test_lbls']"
      ],
      "execution_count": null,
      "outputs": [
        {
          "output_type": "stream",
          "text": [
            "['train_imgs', 'train_lbls', 'val_imgs', 'val_lbls', 'test_imgs', 'test_lbls']\n"
          ],
          "name": "stdout"
        }
      ]
    },
    {
      "cell_type": "code",
      "metadata": {
        "id": "Iw1CkhduzZD5",
        "colab_type": "code",
        "colab": {
          "base_uri": "https://localhost:8080/",
          "height": 374
        },
        "outputId": "f72fdb71-5723-4eb0-c7f3-86d119a07799"
      },
      "source": [
        "check4.compile(loss='sparse_categorical_crossentropy',\n",
        "              optimizer='adam',\n",
        "              metrics=['accuracy'])\n",
        "\n",
        "check4.fit(train_imgs4, train_lbls4, batch_size=128, epochs=10, validation_data=(val_imgs4,val_lbls4))"
      ],
      "execution_count": null,
      "outputs": [
        {
          "output_type": "stream",
          "text": [
            "Epoch 1/10\n",
            "352/352 [==============================] - 57s 162ms/step - loss: 0.0805 - accuracy: 0.9797 - val_loss: 3.7335e-05 - val_accuracy: 1.0000\n",
            "Epoch 2/10\n",
            "352/352 [==============================] - 56s 160ms/step - loss: 2.3440e-05 - accuracy: 1.0000 - val_loss: 1.4555e-05 - val_accuracy: 1.0000\n",
            "Epoch 3/10\n",
            "352/352 [==============================] - 57s 161ms/step - loss: 1.0485e-05 - accuracy: 1.0000 - val_loss: 7.4863e-06 - val_accuracy: 1.0000\n",
            "Epoch 4/10\n",
            "352/352 [==============================] - 57s 161ms/step - loss: 5.7974e-06 - accuracy: 1.0000 - val_loss: 4.4346e-06 - val_accuracy: 1.0000\n",
            "Epoch 5/10\n",
            "352/352 [==============================] - 57s 162ms/step - loss: 3.5875e-06 - accuracy: 1.0000 - val_loss: 2.8849e-06 - val_accuracy: 1.0000\n",
            "Epoch 6/10\n",
            "352/352 [==============================] - 57s 162ms/step - loss: 2.4048e-06 - accuracy: 1.0000 - val_loss: 1.9908e-06 - val_accuracy: 1.0000\n",
            "Epoch 7/10\n",
            "352/352 [==============================] - 57s 162ms/step - loss: 1.6985e-06 - accuracy: 1.0000 - val_loss: 1.4424e-06 - val_accuracy: 1.0000\n",
            "Epoch 8/10\n",
            "352/352 [==============================] - 57s 162ms/step - loss: 1.2169e-06 - accuracy: 1.0000 - val_loss: 1.0252e-06 - val_accuracy: 1.0000\n",
            "Epoch 9/10\n",
            "352/352 [==============================] - 57s 162ms/step - loss: 9.0247e-07 - accuracy: 1.0000 - val_loss: 7.7486e-07 - val_accuracy: 1.0000\n",
            "Epoch 10/10\n",
            "352/352 [==============================] - 57s 163ms/step - loss: 6.7811e-07 - accuracy: 1.0000 - val_loss: 6.1989e-07 - val_accuracy: 1.0000\n"
          ],
          "name": "stdout"
        },
        {
          "output_type": "execute_result",
          "data": {
            "text/plain": [
              "<tensorflow.python.keras.callbacks.History at 0x7f5b3d684ac8>"
            ]
          },
          "metadata": {
            "tags": []
          },
          "execution_count": 41
        }
      ]
    },
    {
      "cell_type": "code",
      "metadata": {
        "id": "07gkTGdHztlB",
        "colab_type": "code",
        "colab": {
          "base_uri": "https://localhost:8080/",
          "height": 68
        },
        "outputId": "b204c8d9-e10e-441b-da85-33f94e0f37c0"
      },
      "source": [
        "pred4 = check4.predict_classes(test_imgs4, batch_size=128)\n",
        "print(\"Predicted Label:\",pred4)                                                                \n",
        "print(\"Actual Label:\",test_lbls4)\n",
        "\n",
        "print(\"Accuracy Score:\",accuracy_score(test_lbls4, pred4))"
      ],
      "execution_count": null,
      "outputs": [
        {
          "output_type": "stream",
          "text": [
            "Predicted Label: [2 9 9 ... 5 4 2]\n",
            "Actual Label: [3 8 8 ... 5 1 7]\n",
            "Accuracy Score: 0.1459\n"
          ],
          "name": "stdout"
        }
      ]
    },
    {
      "cell_type": "code",
      "metadata": {
        "id": "S1GfZMSB3mXX",
        "colab_type": "code",
        "colab": {
          "base_uri": "https://localhost:8080/",
          "height": 68
        },
        "outputId": "f0f485fd-17e0-4eac-8ecd-3ea001e52a18"
      },
      "source": [
        "print(np.unique(train_lbls4))\n",
        "print(np.unique(val_lbls4))\n",
        "print(np.unique(test_lbls4))"
      ],
      "execution_count": null,
      "outputs": [
        {
          "output_type": "stream",
          "text": [
            "[0 1 2 3 4 5 6 7 8 9]\n",
            "[0 1 2 3 4 5 6 7 8 9]\n",
            "[0 1 2 3 4 5 6 7 8 9]\n"
          ],
          "name": "stdout"
        }
      ]
    },
    {
      "cell_type": "code",
      "metadata": {
        "id": "BQA3Uweg33YQ",
        "colab_type": "code",
        "colab": {
          "base_uri": "https://localhost:8080/",
          "height": 283
        },
        "outputId": "ca8a1ddd-d09e-402b-dac5-f25f7744e6f2"
      },
      "source": [
        "plt.imshow(train_imgs4[0])"
      ],
      "execution_count": null,
      "outputs": [
        {
          "output_type": "execute_result",
          "data": {
            "text/plain": [
              "<matplotlib.image.AxesImage at 0x7f5b4303afd0>"
            ]
          },
          "metadata": {
            "tags": []
          },
          "execution_count": 85
        },
        {
          "output_type": "display_data",
          "data": {
            "image/png": "[encoded data removed]",
            "text/plain": [
              "<Figure size 432x288 with 1 Axes>"
            ]
          },
          "metadata": {
            "tags": [],
            "needs_background": "light"
          }
        }
      ]
    },
    {
      "cell_type": "code",
      "metadata": {
        "id": "qSe2C7wm7qHe",
        "colab_type": "code",
        "colab": {
          "base_uri": "https://localhost:8080/",
          "height": 283
        },
        "outputId": "00b946d2-a3f0-4aee-afcc-1ea30d7e14db"
      },
      "source": [
        "plt.imshow(train_imgs4[1])"
      ],
      "execution_count": null,
      "outputs": [
        {
          "output_type": "execute_result",
          "data": {
            "text/plain": [
              "<matplotlib.image.AxesImage at 0x7f5b430225c0>"
            ]
          },
          "metadata": {
            "tags": []
          },
          "execution_count": 86
        },
        {
          "output_type": "display_data",
          "data": {
            "image/png": "[encoded data removed]",
            "text/plain": [
              "<Figure size 432x288 with 1 Axes>"
            ]
          },
          "metadata": {
            "tags": [],
            "needs_background": "light"
          }
        }
      ]
    },
    {
      "cell_type": "code",
      "metadata": {
        "id": "zNx-zM-f9XrR",
        "colab_type": "code",
        "colab": {
          "base_uri": "https://localhost:8080/",
          "height": 283
        },
        "outputId": "e4bdf106-a471-4657-9d98-63a02d634087"
      },
      "source": [
        "plt.imshow(val_imgs2[0])"
      ],
      "execution_count": null,
      "outputs": [
        {
          "output_type": "execute_result",
          "data": {
            "text/plain": [
              "<matplotlib.image.AxesImage at 0x7f5b3d5d05c0>"
            ]
          },
          "metadata": {
            "tags": []
          },
          "execution_count": 109
        },
        {
          "output_type": "display_data",
          "data": {
            "image/png": "[encoded data removed]",
            "text/plain": [
              "<Figure size 432x288 with 1 Axes>"
            ]
          },
          "metadata": {
            "tags": [],
            "needs_background": "light"
          }
        }
      ]
    },
    {
      "cell_type": "code",
      "metadata": {
        "id": "sylI6yClC-Q_",
        "colab_type": "code",
        "colab": {
          "base_uri": "https://localhost:8080/",
          "height": 68
        },
        "outputId": "aa31be53-1600-49f8-c545-862c0e2570f8"
      },
      "source": [
        "print(train_imgs4.shape)\n",
        "print(val_imgs4.shape)\n",
        "print(test_imgs4.shape)"
      ],
      "execution_count": null,
      "outputs": [
        {
          "output_type": "stream",
          "text": [
            "(45000, 32, 32, 3)\n",
            "(5000, 32, 32, 3)\n",
            "(10000, 32, 32, 3)\n"
          ],
          "name": "stdout"
        }
      ]
    },
    {
      "cell_type": "code",
      "metadata": {
        "id": "v4u-lUIcDCBO",
        "colab_type": "code",
        "colab": {}
      },
      "source": [
        ""
      ],
      "execution_count": null,
      "outputs": []
    },
    {
      "cell_type": "markdown",
      "metadata": {
        "id": "dla8FxKnFh7v",
        "colab_type": "text"
      },
      "source": [
        "# Data Augmentation"
      ]
    },
    {
      "cell_type": "code",
      "metadata": {
        "id": "oJU2SX3HItE-",
        "colab_type": "code",
        "colab": {}
      },
      "source": [
        "from tensorflow.keras.preprocessing.image import ImageDataGenerator"
      ],
      "execution_count": 16,
      "outputs": []
    },
    {
      "cell_type": "code",
      "metadata": {
        "id": "44-FpX6AGFfX",
        "colab_type": "code",
        "colab": {
          "base_uri": "https://localhost:8080/",
          "height": 51
        },
        "outputId": "be240704-2ce3-4c50-e425-ac07c3fe4fe1"
      },
      "source": [
        "cifar = tf.keras.datasets.cifar10\n",
        "(train_images, train_labels), (test_images, test_labels) = cifar.load_data()"
      ],
      "execution_count": 8,
      "outputs": [
        {
          "output_type": "stream",
          "text": [
            "Downloading data from https://www.cs.toronto.edu/~kriz/cifar-10-python.tar.gz\n",
            "170500096/170498071 [==============================] - 4s 0us/step\n"
          ],
          "name": "stdout"
        }
      ]
    },
    {
      "cell_type": "code",
      "metadata": {
        "id": "UMG5sg5iHQ1A",
        "colab_type": "code",
        "colab": {
          "base_uri": "https://localhost:8080/",
          "height": 34
        },
        "outputId": "d9c48fa7-3b97-4b7a-95e7-56e3ff6946be"
      },
      "source": [
        "test_images.shape"
      ],
      "execution_count": 11,
      "outputs": [
        {
          "output_type": "execute_result",
          "data": {
            "text/plain": [
              "(10000, 32, 32, 3)"
            ]
          },
          "metadata": {
            "tags": []
          },
          "execution_count": 11
        }
      ]
    },
    {
      "cell_type": "code",
      "metadata": {
        "id": "bjKa4M5UGZJ_",
        "colab_type": "code",
        "colab": {}
      },
      "source": [
        "from sklearn.model_selection import train_test_split\n",
        "\n",
        "x_train, x_val, y_train, y_val = train_test_split(train_images, train_labels, test_size=5000)"
      ],
      "execution_count": 12,
      "outputs": []
    },
    {
      "cell_type": "code",
      "metadata": {
        "id": "zmIhhn4EICt8",
        "colab_type": "code",
        "colab": {
          "base_uri": "https://localhost:8080/",
          "height": 34
        },
        "outputId": "f5131b8e-ee65-408b-f76f-5a2b9e7c114a"
      },
      "source": [
        "x_train.shape"
      ],
      "execution_count": 15,
      "outputs": [
        {
          "output_type": "execute_result",
          "data": {
            "text/plain": [
              "(45000, 32, 32, 3)"
            ]
          },
          "metadata": {
            "tags": []
          },
          "execution_count": 15
        }
      ]
    },
    {
      "cell_type": "code",
      "metadata": {
        "id": "ThG88RaVNAhh",
        "colab_type": "code",
        "colab": {}
      },
      "source": [
        "wo_aug = model()"
      ],
      "execution_count": 23,
      "outputs": []
    },
    {
      "cell_type": "code",
      "metadata": {
        "id": "un8B4s8JNEQS",
        "colab_type": "code",
        "colab": {
          "base_uri": "https://localhost:8080/",
          "height": 374
        },
        "outputId": "84b9acb0-c3de-4795-a8a3-2f27a7690fa3"
      },
      "source": [
        "wo_aug.compile(loss='sparse_categorical_crossentropy',\n",
        "              optimizer='adam',\n",
        "              metrics=['accuracy'])\n",
        "\n",
        "wo_aug.fit(x_train, y_train, batch_size=128, epochs=10, validation_data=(x_val,y_val))"
      ],
      "execution_count": 24,
      "outputs": [
        {
          "output_type": "stream",
          "text": [
            "Epoch 1/10\n",
            "352/352 [==============================] - 55s 155ms/step - loss: 4.1647 - accuracy: 0.3358 - val_loss: 1.5736 - val_accuracy: 0.4266\n",
            "Epoch 2/10\n",
            "352/352 [==============================] - 55s 155ms/step - loss: 1.4818 - accuracy: 0.4709 - val_loss: 1.4122 - val_accuracy: 0.4932\n",
            "Epoch 3/10\n",
            "352/352 [==============================] - 55s 155ms/step - loss: 1.3684 - accuracy: 0.5139 - val_loss: 1.3341 - val_accuracy: 0.5294\n",
            "Epoch 4/10\n",
            "352/352 [==============================] - 55s 155ms/step - loss: 1.2856 - accuracy: 0.5462 - val_loss: 1.2877 - val_accuracy: 0.5454\n",
            "Epoch 5/10\n",
            "352/352 [==============================] - 54s 155ms/step - loss: 1.2212 - accuracy: 0.5718 - val_loss: 1.2512 - val_accuracy: 0.5550\n",
            "Epoch 6/10\n",
            "352/352 [==============================] - 55s 156ms/step - loss: 1.1507 - accuracy: 0.5959 - val_loss: 1.3091 - val_accuracy: 0.5524\n",
            "Epoch 7/10\n",
            "352/352 [==============================] - 54s 154ms/step - loss: 1.1022 - accuracy: 0.6139 - val_loss: 1.1904 - val_accuracy: 0.5894\n",
            "Epoch 8/10\n",
            "352/352 [==============================] - 55s 155ms/step - loss: 1.0489 - accuracy: 0.6338 - val_loss: 1.2306 - val_accuracy: 0.5798\n",
            "Epoch 9/10\n",
            "352/352 [==============================] - 55s 156ms/step - loss: 0.9982 - accuracy: 0.6497 - val_loss: 1.1533 - val_accuracy: 0.6082\n",
            "Epoch 10/10\n",
            "352/352 [==============================] - 55s 158ms/step - loss: 0.9549 - accuracy: 0.6669 - val_loss: 1.1988 - val_accuracy: 0.5938\n"
          ],
          "name": "stdout"
        },
        {
          "output_type": "execute_result",
          "data": {
            "text/plain": [
              "<tensorflow.python.keras.callbacks.History at 0x7f5ebd737e80>"
            ]
          },
          "metadata": {
            "tags": []
          },
          "execution_count": 24
        }
      ]
    },
    {
      "cell_type": "code",
      "metadata": {
        "id": "0XC1ZnOzPZRL",
        "colab_type": "code",
        "colab": {
          "base_uri": "https://localhost:8080/",
          "height": 241
        },
        "outputId": "93e74c90-d7d6-4db4-eb5c-4ddb0221144f"
      },
      "source": [
        "pred_wo = wo_aug.predict_classes(test_images, batch_size=128)\n",
        "print(\"Predicted Label:\",pred_wo)                                                                \n",
        "print(\"Actual Label:\",test_labels)\n",
        "\n",
        "print(\"Accuracy Score:\",accuracy_score(test_labels, pred_wo))"
      ],
      "execution_count": 25,
      "outputs": [
        {
          "output_type": "stream",
          "text": [
            "WARNING:tensorflow:From <ipython-input-25-e25873369d95>:1: Sequential.predict_classes (from tensorflow.python.keras.engine.sequential) is deprecated and will be removed after 2021-01-01.\n",
            "Instructions for updating:\n",
            "Please use instead:* `np.argmax(model.predict(x), axis=-1)`,   if your model does multi-class classification   (e.g. if it uses a `softmax` last-layer activation).* `(model.predict(x) > 0.5).astype(\"int32\")`,   if your model does binary classification   (e.g. if it uses a `sigmoid` last-layer activation).\n",
            "Predicted Label: [8 8 8 ... 5 4 7]\n",
            "Actual Label: [[3]\n",
            " [8]\n",
            " [8]\n",
            " ...\n",
            " [5]\n",
            " [1]\n",
            " [7]]\n",
            "Accuracy Score: 0.5814\n"
          ],
          "name": "stdout"
        }
      ]
    },
    {
      "cell_type": "code",
      "metadata": {
        "id": "x5abVm9VJuBk",
        "colab_type": "code",
        "colab": {}
      },
      "source": [
        "with_aug = model()"
      ],
      "execution_count": 33,
      "outputs": []
    },
    {
      "cell_type": "code",
      "metadata": {
        "id": "fX2bd9XOQGVM",
        "colab_type": "code",
        "colab": {}
      },
      "source": [
        "with_aug.compile(loss='sparse_categorical_crossentropy',\n",
        "              optimizer='adam',\n",
        "              metrics=['accuracy'])"
      ],
      "execution_count": 34,
      "outputs": []
    },
    {
      "cell_type": "code",
      "metadata": {
        "id": "7QYGxiq1ez_B",
        "colab_type": "code",
        "colab": {
          "base_uri": "https://localhost:8080/",
          "height": 374
        },
        "outputId": "159270ca-af15-46b0-88c2-72f4aa922171"
      },
      "source": [
        "datagen = ImageDataGenerator(\n",
        "        featurewise_center=False,  # set input mean to 0 over the dataset\n",
        "        samplewise_center=False,  # set each sample mean to 0\n",
        "        featurewise_std_normalization=False,  # divide inputs by std of the dataset\n",
        "        samplewise_std_normalization=False,  # divide each input by its std\n",
        "        zca_whitening=False,  # apply ZCA whitening\n",
        "        zca_epsilon=1e-06,  # epsilon for ZCA whitening\n",
        "        rotation_range=0,  # randomly rotate images in the range (degrees, 0 to 180)\n",
        "        # randomly shift images horizontally (fraction of total width)\n",
        "        width_shift_range=0.1,\n",
        "        # randomly shift images vertically (fraction of total height)\n",
        "        height_shift_range=0.1,\n",
        "        shear_range=0.,  # set range for random shear\n",
        "        zoom_range=0.,  # set range for random zoom\n",
        "        channel_shift_range=0.,  # set range for random channel shifts\n",
        "        # set mode for filling points outside the input boundaries\n",
        "        fill_mode='nearest',\n",
        "        cval=0.,  # value used for fill_mode = \"constant\"\n",
        "        horizontal_flip=True,  # randomly flip images\n",
        "        vertical_flip=False,  # randomly flip images\n",
        "        # set rescaling factor (applied before any other transformation)\n",
        "        rescale=None,\n",
        "        # set function that will be applied on each input\n",
        "        preprocessing_function=None,\n",
        "        # image data format, either \"channels_first\" or \"channels_last\"\n",
        "        data_format=None,\n",
        "        # fraction of images reserved for validation (strictly between 0 and 1)\n",
        "        validation_split=0.0)\n",
        "\n",
        "# Compute quantities required for feature-wise normalization\n",
        "# (std, mean, and principal components if ZCA whitening is applied).\n",
        "datagen.fit(x_train)\n",
        "\n",
        "# Fit the model on the batches generated by datagen.flow().\n",
        "with_aug.fit_generator(datagen.flow(x_train, y_train,\n",
        "                                  batch_size=128),\n",
        "                    epochs=10,\n",
        "                    validation_data=(x_val, y_val))"
      ],
      "execution_count": 35,
      "outputs": [
        {
          "output_type": "stream",
          "text": [
            "Epoch 1/10\n",
            "352/352 [==============================] - 72s 204ms/step - loss: 3.9324 - accuracy: 0.1108 - val_loss: 1.7519 - val_accuracy: 0.0410\n",
            "Epoch 2/10\n",
            "352/352 [==============================] - 72s 204ms/step - loss: 1.6569 - accuracy: 0.1053 - val_loss: 1.5408 - val_accuracy: 0.0830\n",
            "Epoch 3/10\n",
            "352/352 [==============================] - 72s 203ms/step - loss: 1.5204 - accuracy: 0.1000 - val_loss: 1.4123 - val_accuracy: 0.0670\n",
            "Epoch 4/10\n",
            "352/352 [==============================] - 71s 202ms/step - loss: 1.4444 - accuracy: 0.0980 - val_loss: 1.3236 - val_accuracy: 0.0712\n",
            "Epoch 5/10\n",
            "352/352 [==============================] - 71s 201ms/step - loss: 1.3822 - accuracy: 0.0980 - val_loss: 1.3394 - val_accuracy: 0.1408\n",
            "Epoch 6/10\n",
            "352/352 [==============================] - 73s 206ms/step - loss: 1.3349 - accuracy: 0.0981 - val_loss: 1.2947 - val_accuracy: 0.1074\n",
            "Epoch 7/10\n",
            "352/352 [==============================] - 73s 207ms/step - loss: 1.2956 - accuracy: 0.0972 - val_loss: 1.2564 - val_accuracy: 0.0996\n",
            "Epoch 8/10\n",
            "352/352 [==============================] - 73s 207ms/step - loss: 1.2511 - accuracy: 0.0978 - val_loss: 1.1237 - val_accuracy: 0.1152\n",
            "Epoch 9/10\n",
            "352/352 [==============================] - 72s 205ms/step - loss: 1.2120 - accuracy: 0.0963 - val_loss: 1.1743 - val_accuracy: 0.1080\n",
            "Epoch 10/10\n",
            "352/352 [==============================] - 72s 205ms/step - loss: 1.1839 - accuracy: 0.0957 - val_loss: 1.1394 - val_accuracy: 0.0972\n"
          ],
          "name": "stdout"
        },
        {
          "output_type": "execute_result",
          "data": {
            "text/plain": [
              "<tensorflow.python.keras.callbacks.History at 0x7f5ec21bf7b8>"
            ]
          },
          "metadata": {
            "tags": []
          },
          "execution_count": 35
        }
      ]
    },
    {
      "cell_type": "code",
      "metadata": {
        "id": "nzSRIcdvP7K5",
        "colab_type": "code",
        "colab": {
          "base_uri": "https://localhost:8080/",
          "height": 374
        },
        "outputId": "d442e7be-544a-4548-c7d1-671dc7c7ca20"
      },
      "source": [
        "datagen1 = ImageDataGenerator(\n",
        "    #featurewise_center=True,\n",
        "    #featurewise_std_normalization=True,\n",
        "    rotation_range=20,\n",
        "    #width_shift_range=0.2,\n",
        "    #height_shift_range=0.2,\n",
        "    horizontal_flip=True)\n",
        "\n",
        "datagen1.fit(x_train)\n",
        "# fits the model on batches with real-time data augmentation:\n",
        "with_aug.fit_generator(datagen1.flow(x_train, y_train, batch_size=32),\n",
        "                    steps_per_epoch=len(x_train) / 32, epochs=10)"
      ],
      "execution_count": 32,
      "outputs": [
        {
          "output_type": "stream",
          "text": [
            "Epoch 1/10\n",
            "1407/1406 [==============================] - 79s 56ms/step - loss: 1.8622 - accuracy: 0.0988\n",
            "Epoch 2/10\n",
            "1407/1406 [==============================] - 77s 55ms/step - loss: 1.4527 - accuracy: 0.0953\n",
            "Epoch 3/10\n",
            "1407/1406 [==============================] - 77s 55ms/step - loss: 1.3704 - accuracy: 0.0961\n",
            "Epoch 4/10\n",
            "1407/1406 [==============================] - 77s 55ms/step - loss: 1.3051 - accuracy: 0.0959\n",
            "Epoch 5/10\n",
            "1407/1406 [==============================] - 77s 55ms/step - loss: 1.2509 - accuracy: 0.0965\n",
            "Epoch 6/10\n",
            "1407/1406 [==============================] - 77s 55ms/step - loss: 1.2006 - accuracy: 0.0973\n",
            "Epoch 7/10\n",
            "1407/1406 [==============================] - 77s 55ms/step - loss: 1.1533 - accuracy: 0.0973\n",
            "Epoch 8/10\n",
            "1407/1406 [==============================] - 77s 55ms/step - loss: 1.1135 - accuracy: 0.0974\n",
            "Epoch 9/10\n",
            "1407/1406 [==============================] - 79s 56ms/step - loss: 1.0852 - accuracy: 0.0971\n",
            "Epoch 10/10\n",
            "1407/1406 [==============================] - 77s 55ms/step - loss: 1.0574 - accuracy: 0.0976\n"
          ],
          "name": "stdout"
        },
        {
          "output_type": "execute_result",
          "data": {
            "text/plain": [
              "<tensorflow.python.keras.callbacks.History at 0x7f5ec3a45ba8>"
            ]
          },
          "metadata": {
            "tags": []
          },
          "execution_count": 32
        }
      ]
    },
    {
      "cell_type": "code",
      "metadata": {
        "id": "4RXHTxjSI11e",
        "colab_type": "code",
        "colab": {}
      },
      "source": [
        ""
      ],
      "execution_count": null,
      "outputs": []
    }
  ]
}
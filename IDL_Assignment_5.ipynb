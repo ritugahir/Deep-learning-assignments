{
  "nbformat": 4,
  "nbformat_minor": 0,
  "metadata": {
    "colab": {
      "name": "IDL_Assignment_5.ipynb",
      "provenance": [],
      "collapsed_sections": []
    },
    "kernelspec": {
      "name": "python3",
      "display_name": "Python 3"
    },
    "accelerator": "GPU"
  },
  "cells": [
    {
      "cell_type": "markdown",
      "metadata": {
        "id": "-Kqr0uPHGt6-",
        "colab_type": "text"
      },
      "source": [
        "\n",
        "Team Members\n",
        "\n",
        "*   Libin Kutty - Group 2\n",
        "*   Ritu Gahir - Group 3\n",
        "*   Viju Sudhi - Group 10"
      ]
    },
    {
      "cell_type": "code",
      "metadata": {
        "id": "_0wtVsr0TYMS",
        "colab_type": "code",
        "colab": {}
      },
      "source": [
        "%tensorflow_version 2.x"
      ],
      "execution_count": 0,
      "outputs": []
    },
    {
      "cell_type": "code",
      "metadata": {
        "id": "5Pzi_NuGGrfK",
        "colab_type": "code",
        "colab": {}
      },
      "source": [
        "import tensorflow as tf\n",
        "import numpy as np\n",
        "import matplotlib.pyplot as plt\n",
        "import time\n",
        "import os"
      ],
      "execution_count": 0,
      "outputs": []
    },
    {
      "cell_type": "code",
      "metadata": {
        "id": "aPkiVFSfGyYv",
        "colab_type": "code",
        "colab": {
          "base_uri": "https://localhost:8080/",
          "height": 122
        },
        "outputId": "75588756-95a1-4754-e1a7-74894e6c511b"
      },
      "source": [
        "from google.colab import drive\n",
        "drive.mount('/content/drive')"
      ],
      "execution_count": 3,
      "outputs": [
        {
          "output_type": "stream",
          "text": [
            "Go to this URL in a browser: https://accounts.google.com/o/oauth2/auth?client_id=947318989803-6bn6qk8qdgf4n4g3pfee6491hc0brc4i.apps.googleusercontent.com&redirect_uri=urn%3aietf%3awg%3aoauth%3a2.0%3aoob&response_type=code&scope=email%20https%3a%2f%2fwww.googleapis.com%2fauth%2fdocs.test%20https%3a%2f%2fwww.googleapis.com%2fauth%2fdrive%20https%3a%2f%2fwww.googleapis.com%2fauth%2fdrive.photos.readonly%20https%3a%2f%2fwww.googleapis.com%2fauth%2fpeopleapi.readonly\n",
            "\n",
            "Enter your authorization code:\n",
            "··········\n",
            "Mounted at /content/drive\n"
          ],
          "name": "stdout"
        }
      ]
    },
    {
      "cell_type": "code",
      "metadata": {
        "id": "VCDdEuhJG-S5",
        "colab_type": "code",
        "colab": {
          "base_uri": "https://localhost:8080/",
          "height": 51
        },
        "outputId": "0b56afbc-7001-4261-a849-50fa40562c5d"
      },
      "source": [
        "print(os.getcwd())\n",
        "os.chdir(\"/content/drive/My Drive/Colab Notebook/IDL/\")\n",
        "print(os.getcwd())"
      ],
      "execution_count": 4,
      "outputs": [
        {
          "output_type": "stream",
          "text": [
            "/content\n",
            "/content/drive/My Drive/Colab Notebook/IDL\n"
          ],
          "name": "stdout"
        }
      ]
    },
    {
      "cell_type": "code",
      "metadata": {
        "id": "7ndBOtcfHNsW",
        "colab_type": "code",
        "colab": {
          "base_uri": "https://localhost:8080/",
          "height": 1000
        },
        "outputId": "4d011f4f-3704-4ecc-87d6-1ba199d8435c"
      },
      "source": [
        "!python prepare_data.py shakespeare_input.txt skp"
      ],
      "execution_count": 5,
      "outputs": [
        {
          "output_type": "stream",
          "text": [
            "2020-05-26 06:43:07.661102: I tensorflow/stream_executor/platform/default/dso_loader.cc:44] Successfully opened dynamic library libcudart.so.10.1\n",
            "Split input into 22981 sequences...\n",
            "Serialized 100 sequences...\n",
            "Serialized 200 sequences...\n",
            "Serialized 300 sequences...\n",
            "Serialized 400 sequences...\n",
            "Serialized 500 sequences...\n",
            "Serialized 600 sequences...\n",
            "Serialized 700 sequences...\n",
            "Serialized 800 sequences...\n",
            "Serialized 900 sequences...\n",
            "Serialized 1000 sequences...\n",
            "Serialized 1100 sequences...\n",
            "Serialized 1200 sequences...\n",
            "Serialized 1300 sequences...\n",
            "Serialized 1400 sequences...\n",
            "Serialized 1500 sequences...\n",
            "Serialized 1600 sequences...\n",
            "Serialized 1700 sequences...\n",
            "Serialized 1800 sequences...\n",
            "Serialized 1900 sequences...\n",
            "Serialized 2000 sequences...\n",
            "Serialized 2100 sequences...\n",
            "Serialized 2200 sequences...\n",
            "Serialized 2300 sequences...\n",
            "Serialized 2400 sequences...\n",
            "Serialized 2500 sequences...\n",
            "Serialized 2600 sequences...\n",
            "Serialized 2700 sequences...\n",
            "Serialized 2800 sequences...\n",
            "Serialized 2900 sequences...\n",
            "Serialized 3000 sequences...\n",
            "Serialized 3100 sequences...\n",
            "Serialized 3200 sequences...\n",
            "Serialized 3300 sequences...\n",
            "Serialized 3400 sequences...\n",
            "Serialized 3500 sequences...\n",
            "Serialized 3600 sequences...\n",
            "Serialized 3700 sequences...\n",
            "Serialized 3800 sequences...\n",
            "Serialized 3900 sequences...\n",
            "Serialized 4000 sequences...\n",
            "Serialized 4100 sequences...\n",
            "Serialized 4200 sequences...\n",
            "Serialized 4300 sequences...\n",
            "Serialized 4400 sequences...\n",
            "Serialized 4500 sequences...\n",
            "Serialized 4600 sequences...\n",
            "Serialized 4700 sequences...\n",
            "Serialized 4800 sequences...\n",
            "Serialized 4900 sequences...\n",
            "Serialized 5000 sequences...\n",
            "Serialized 5100 sequences...\n",
            "Serialized 5200 sequences...\n",
            "Serialized 5300 sequences...\n",
            "Serialized 5400 sequences...\n",
            "Serialized 5500 sequences...\n",
            "Serialized 5600 sequences...\n",
            "Serialized 5700 sequences...\n",
            "Serialized 5800 sequences...\n",
            "Serialized 5900 sequences...\n",
            "Serialized 6000 sequences...\n",
            "Serialized 6100 sequences...\n",
            "Serialized 6200 sequences...\n",
            "Serialized 6300 sequences...\n",
            "Serialized 6400 sequences...\n",
            "Serialized 6500 sequences...\n",
            "Serialized 6600 sequences...\n",
            "Serialized 6700 sequences...\n",
            "Serialized 6800 sequences...\n",
            "Serialized 6900 sequences...\n",
            "Serialized 7000 sequences...\n",
            "Serialized 7100 sequences...\n",
            "Serialized 7200 sequences...\n",
            "Serialized 7300 sequences...\n",
            "Serialized 7400 sequences...\n",
            "Serialized 7500 sequences...\n",
            "Serialized 7600 sequences...\n",
            "Serialized 7700 sequences...\n",
            "Serialized 7800 sequences...\n",
            "Serialized 7900 sequences...\n",
            "Serialized 8000 sequences...\n",
            "Serialized 8100 sequences...\n",
            "Serialized 8200 sequences...\n",
            "Serialized 8300 sequences...\n",
            "Serialized 8400 sequences...\n",
            "Serialized 8500 sequences...\n",
            "Serialized 8600 sequences...\n",
            "Serialized 8700 sequences...\n",
            "Serialized 8800 sequences...\n",
            "Serialized 8900 sequences...\n",
            "Serialized 9000 sequences...\n",
            "Serialized 9100 sequences...\n",
            "Serialized 9200 sequences...\n",
            "Serialized 9300 sequences...\n",
            "Serialized 9400 sequences...\n",
            "Serialized 9500 sequences...\n",
            "Serialized 9600 sequences...\n",
            "Serialized 9700 sequences...\n",
            "Serialized 9800 sequences...\n",
            "Serialized 9900 sequences...\n",
            "Serialized 10000 sequences...\n",
            "Serialized 10100 sequences...\n",
            "Serialized 10200 sequences...\n",
            "Serialized 10300 sequences...\n",
            "Serialized 10400 sequences...\n",
            "Serialized 10500 sequences...\n",
            "Serialized 10600 sequences...\n",
            "Serialized 10700 sequences...\n",
            "Serialized 10800 sequences...\n",
            "Serialized 10900 sequences...\n",
            "Serialized 11000 sequences...\n",
            "Serialized 11100 sequences...\n",
            "Serialized 11200 sequences...\n",
            "Serialized 11300 sequences...\n",
            "Serialized 11400 sequences...\n",
            "Serialized 11500 sequences...\n",
            "Serialized 11600 sequences...\n",
            "Serialized 11700 sequences...\n",
            "Serialized 11800 sequences...\n",
            "Serialized 11900 sequences...\n",
            "Serialized 12000 sequences...\n",
            "Serialized 12100 sequences...\n",
            "Serialized 12200 sequences...\n",
            "Serialized 12300 sequences...\n",
            "Serialized 12400 sequences...\n",
            "Serialized 12500 sequences...\n",
            "Serialized 12600 sequences...\n",
            "Serialized 12700 sequences...\n",
            "Serialized 12800 sequences...\n",
            "Serialized 12900 sequences...\n",
            "Serialized 13000 sequences...\n",
            "Serialized 13100 sequences...\n",
            "Serialized 13200 sequences...\n",
            "Serialized 13300 sequences...\n",
            "Serialized 13400 sequences...\n",
            "Serialized 13500 sequences...\n",
            "Serialized 13600 sequences...\n",
            "Serialized 13700 sequences...\n",
            "Serialized 13800 sequences...\n",
            "Serialized 13900 sequences...\n",
            "Serialized 14000 sequences...\n",
            "Serialized 14100 sequences...\n",
            "Serialized 14200 sequences...\n",
            "Serialized 14300 sequences...\n",
            "Serialized 14400 sequences...\n",
            "Serialized 14500 sequences...\n",
            "Serialized 14600 sequences...\n",
            "Serialized 14700 sequences...\n",
            "Serialized 14800 sequences...\n",
            "Serialized 14900 sequences...\n",
            "Serialized 15000 sequences...\n",
            "Serialized 15100 sequences...\n",
            "Serialized 15200 sequences...\n",
            "Serialized 15300 sequences...\n",
            "Serialized 15400 sequences...\n",
            "Serialized 15500 sequences...\n",
            "Serialized 15600 sequences...\n",
            "Serialized 15700 sequences...\n",
            "Serialized 15800 sequences...\n",
            "Serialized 15900 sequences...\n",
            "Serialized 16000 sequences...\n",
            "Serialized 16100 sequences...\n",
            "Serialized 16200 sequences...\n",
            "Serialized 16300 sequences...\n",
            "Serialized 16400 sequences...\n",
            "Serialized 16500 sequences...\n",
            "Serialized 16600 sequences...\n",
            "Serialized 16700 sequences...\n",
            "Serialized 16800 sequences...\n",
            "Serialized 16900 sequences...\n",
            "Serialized 17000 sequences...\n",
            "Serialized 17100 sequences...\n",
            "Serialized 17200 sequences...\n",
            "Serialized 17300 sequences...\n",
            "Serialized 17400 sequences...\n",
            "Serialized 17500 sequences...\n",
            "Serialized 17600 sequences...\n",
            "Serialized 17700 sequences...\n",
            "Serialized 17800 sequences...\n",
            "Serialized 17900 sequences...\n",
            "Serialized 18000 sequences...\n",
            "Serialized 18100 sequences...\n",
            "Serialized 18200 sequences...\n",
            "Serialized 18300 sequences...\n",
            "Serialized 18400 sequences...\n",
            "Serialized 18500 sequences...\n",
            "Serialized 18600 sequences...\n",
            "Serialized 18700 sequences...\n",
            "Serialized 18800 sequences...\n",
            "Serialized 18900 sequences...\n",
            "Serialized 19000 sequences...\n",
            "Serialized 19100 sequences...\n",
            "Serialized 19200 sequences...\n",
            "Serialized 19300 sequences...\n",
            "Serialized 19400 sequences...\n",
            "Serialized 19500 sequences...\n",
            "Serialized 19600 sequences...\n",
            "Serialized 19700 sequences...\n",
            "Serialized 19800 sequences...\n",
            "Serialized 19900 sequences...\n",
            "Serialized 20000 sequences...\n",
            "Serialized 20100 sequences...\n",
            "Serialized 20200 sequences...\n",
            "Serialized 20300 sequences...\n",
            "Serialized 20400 sequences...\n",
            "Serialized 20500 sequences...\n",
            "Serialized 20600 sequences...\n",
            "Serialized 20700 sequences...\n",
            "Serialized 20800 sequences...\n",
            "Serialized 20900 sequences...\n",
            "Serialized 21000 sequences...\n",
            "Serialized 21100 sequences...\n",
            "Serialized 21200 sequences...\n",
            "Serialized 21300 sequences...\n",
            "Serialized 21400 sequences...\n",
            "Serialized 21500 sequences...\n",
            "Serialized 21600 sequences...\n",
            "Serialized 21700 sequences...\n",
            "Serialized 21800 sequences...\n",
            "Serialized 21900 sequences...\n",
            "Serialized 22000 sequences...\n",
            "Serialized 22100 sequences...\n",
            "Serialized 22200 sequences...\n",
            "Serialized 22300 sequences...\n",
            "Serialized 22400 sequences...\n",
            "Serialized 22500 sequences...\n",
            "Serialized 22600 sequences...\n",
            "Serialized 22700 sequences...\n",
            "Serialized 22800 sequences...\n",
            "Serialized 22900 sequences...\n"
          ],
          "name": "stdout"
        }
      ]
    },
    {
      "cell_type": "code",
      "metadata": {
        "id": "wAn1rHE-HbUj",
        "colab_type": "code",
        "colab": {
          "base_uri": "https://localhost:8080/",
          "height": 71
        },
        "outputId": "f3878262-c46b-47f5-9063-a9ca3a795a40"
      },
      "source": [
        "from prepare_data import parse_seq\n",
        "import pickle\n",
        "\n",
        "# this is just a datasets of \"bytes\" (not understandable)\n",
        "data = tf.data.TFRecordDataset(\"skp.tfrecords\")\n",
        "\n",
        "# this maps a parser function that properly interprets the bytes over the dataset\n",
        "# (with fixed sequence length 200)\n",
        "# if you change the sequence length in preprocessing you also need to change it here\n",
        "data = data.map(lambda x: parse_seq(x, 200))\n",
        "\n",
        "# a map from characters to indices\n",
        "vocab = pickle.load(open(\"skp_vocab\", mode=\"rb\"))\n",
        "vocab_size = len(vocab)\n",
        "# inverse mapping: indices to characters\n",
        "ind_to_ch = {ind: ch for (ch, ind) in vocab.items()}\n",
        "\n",
        "print(vocab)\n",
        "print(vocab_size)"
      ],
      "execution_count": 6,
      "outputs": [
        {
          "output_type": "stream",
          "text": [
            "{'p': 1, 'O': 2, '-': 3, 'h': 4, ' ': 5, 'Q': 6, ',': 7, 'G': 8, 'f': 9, 'C': 10, 'J': 11, 'w': 12, '3': 13, 'k': 14, '$': 15, ':': 16, 'l': 17, 'P': 18, 's': 19, 'r': 20, 'o': 21, ']': 22, 'x': 23, 'v': 24, 'B': 25, '?': 26, 'b': 27, 'V': 28, 'c': 29, 'g': 30, '.': 31, '&': 32, 'A': 33, 'I': 34, 'X': 35, 't': 36, 'F': 37, 'H': 38, 'i': 39, 'u': 40, 'M': 41, 'L': 42, 'E': 43, 'D': 44, 'U': 45, 'R': 46, '[': 47, 'K': 48, 'n': 49, 'd': 50, 'W': 51, 'Z': 52, 'a': 53, 'z': 54, '\\n': 55, ';': 56, \"'\": 57, 'm': 58, 'T': 59, 'y': 60, 'q': 61, 'j': 62, 'e': 63, 'Y': 64, 'N': 65, 'S': 66, '!': 67, '<S>': 0}\n",
            "68\n"
          ],
          "name": "stdout"
        }
      ]
    },
    {
      "cell_type": "code",
      "metadata": {
        "id": "vfkLwdrmEKh2",
        "colab_type": "code",
        "colab": {}
      },
      "source": [
        "@tf.function\n",
        "def loss_fn(logits, labels):\n",
        "  return tf.reduce_mean(tf.nn.softmax_cross_entropy_with_logits(\n",
        "            logits=logits, labels=labels))"
      ],
      "execution_count": 0,
      "outputs": []
    },
    {
      "cell_type": "code",
      "metadata": {
        "id": "QV4WjRDGHtzH",
        "colab_type": "code",
        "colab": {}
      },
      "source": [
        "class RNN():\n",
        "  def __init__(self, hidden_size, vocab_size):\n",
        "    \n",
        "    self.hidden_size = hidden_size\n",
        "    self.vocab_size = vocab_size\n",
        "    self.Wxh = tf.Variable(tf.random.uniform(shape=[vocab_size,hidden_size], minval=-0.01, maxval=0.01, dtype=np.float32)) # input to hidden\n",
        "    self.Whh = tf.Variable(tf.random.uniform(shape=[hidden_size,hidden_size], minval=-0.01, maxval=0.01, dtype=np.float32)) # hidden to hidden\n",
        "    self.Why = tf.Variable(tf.random.uniform(shape=[hidden_size, vocab_size], minval=-0.01, maxval=0.01, dtype=np.float32)) # hidden to output\n",
        "    self.bh = tf.Variable(np.zeros((1, hidden_size), dtype=np.float32)) # hidden bias\n",
        "    self.by = tf.Variable(np.zeros((1, vocab_size), dtype=np.float32)) # output bias\n",
        "    self.prev_h = tf.Variable(np.zeros((200, hidden_size), dtype=np.float32)) #Initial hidden output\n",
        "    self.loss = 0.0\n",
        "    self.opt = tf.optimizers.Adam()\n",
        "  \n",
        "  #@tf.function\n",
        "  def train(self, inputs):\n",
        "\n",
        "    #tf.TensorArray(tf.float32, size=0, dynamic_size=True)\n",
        "    n_time_step = 128 #len(inputs)\n",
        "\n",
        "    loss_ts = tf.TensorArray(tf.float32, size=128, dynamic_size=True)\n",
        "    #loss_ts = []\n",
        "    self.prev_h = tf.Variable(np.zeros((128, hidden_size), dtype=np.float32))\n",
        "    ts = 0\n",
        "\n",
        "    with tf.GradientTape() as t:\n",
        "\n",
        "      for i in tf.range(n_time_step):\n",
        "\n",
        "        #for inp in inputs:\n",
        "#        for seq in range(sequence-1):\n",
        "\n",
        "        inp_curr = inputs[:,i]\n",
        "        inp_next = inputs[:,i + 1]\n",
        "\n",
        "        inp_curr = tf.one_hot(inp_curr,vocab_size)   \n",
        "        inp_next = tf.one_hot(inp_next,vocab_size) \n",
        "\n",
        "        # inp_curr = np.array(inp[i][seq])\n",
        "        # inp_curr = inp_tmp.reshape(1, vocab_size)\n",
        "        # nxt = seq + 1\n",
        "        # inp_next = np.array(inp[i][nxt])\n",
        "        # inp_next = inp_nxt.reshape(1, vocab_size)\n",
        "\n",
        "        self.prev_h = tf.matmul(inp_curr, self.Wxh) + tf.matmul(self.prev_h, self.Whh) + self.bh\n",
        "        output = tf.matmul(self.prev_h, self.Why) + self.by\n",
        "#          output = tf.nn.softmax(output)\n",
        "\n",
        "        self.loss = loss_fn(output, inp_next)\n",
        "        loss_ts = loss_ts.write(ts, self.loss)\n",
        "        #loss_ts = loss_ts.write(i, self.loss)\n",
        "        ts +=1\n",
        "        #loss_ts.append(loss_temp)\n",
        "\n",
        "      loss_ts = loss_ts.stack()\n",
        "      self.loss = tf.reduce_mean(loss_ts)\n",
        "    #loss_temp = loss_temp/count\n",
        "\n",
        "    grad = t.gradient(self.loss, [self.Why, self.by, self.Whh, self.bh, self.Wxh])\n",
        "    grad, _ = tf.clip_by_global_norm(grad,1)\n",
        "    self.opt.apply_gradients(grads_and_vars=zip(grad, [self.Why, self.by, self.Whh, self.bh, self.Wxh]))\n"
      ],
      "execution_count": 0,
      "outputs": []
    },
    {
      "cell_type": "code",
      "metadata": {
        "id": "y6XevaC7PDq-",
        "colab_type": "code",
        "colab": {
          "base_uri": "https://localhost:8080/",
          "height": 527
        },
        "outputId": "30448989-8e96-4d7c-a638-3247d79d95fd"
      },
      "source": [
        "hidden_size = 512\n",
        "n_time_step = 128\n",
        "model = RNN(hidden_size=hidden_size, vocab_size=vocab_size)\n",
        "\n",
        "#inputs = tf.one_hot(next(iter(data.batch(128))), vocab_size) #, axis=-1\n",
        "#data_temp = data.batch(128).repeat(10)\n",
        "for step in range(3000):\n",
        "  inputs = next(iter(data.batch(128)))\n",
        "  model.train(inputs)\n",
        "  if not step % 100:\n",
        "    print('Step %2d: loss=%2.5f' %\n",
        "      (step, model.loss))"
      ],
      "execution_count": 71,
      "outputs": [
        {
          "output_type": "stream",
          "text": [
            "Step  0: loss=4.21951\n",
            "Step 100: loss=2.63523\n",
            "Step 200: loss=2.18399\n",
            "Step 300: loss=2.00553\n",
            "Step 400: loss=1.89890\n",
            "Step 500: loss=1.81429\n",
            "Step 600: loss=1.75012\n",
            "Step 700: loss=1.67298\n",
            "Step 800: loss=1.60284\n",
            "Step 900: loss=1.54685\n",
            "Step 1000: loss=1.49681\n",
            "Step 1100: loss=1.44406\n",
            "Step 1200: loss=1.42836\n",
            "Step 1300: loss=1.35474\n",
            "Step 1400: loss=1.33471\n",
            "Step 1500: loss=1.29277\n",
            "Step 1600: loss=1.25375\n",
            "Step 1700: loss=1.20564\n",
            "Step 1800: loss=1.18329\n",
            "Step 1900: loss=1.19481\n",
            "Step 2000: loss=1.12396\n",
            "Step 2100: loss=1.10734\n",
            "Step 2200: loss=1.05607\n",
            "Step 2300: loss=1.07980\n",
            "Step 2400: loss=1.04818\n",
            "Step 2500: loss=1.00568\n",
            "Step 2600: loss=0.98113\n",
            "Step 2700: loss=0.94653\n",
            "Step 2800: loss=0.95744\n",
            "Step 2900: loss=0.88969\n"
          ],
          "name": "stdout"
        }
      ]
    },
    {
      "cell_type": "code",
      "metadata": {
        "id": "KQJAHmGPWdGL",
        "colab_type": "code",
        "colab": {}
      },
      "source": [
        "def sample(length, model):\n",
        "\n",
        "  hprev = tf.Variable(np.zeros((1, hidden_size), dtype=np.float32))\n",
        "\n",
        "  #x = np.zeros((1, vocab_size), dtype=np.float32)\n",
        "  x = [0]\n",
        "  \n",
        "  ixes = []\n",
        "  for i in range(length):\n",
        "    input_c = tf.one_hot(x[-1:],depth=model.vocab_size)\n",
        "    hprev = tf.matmul(input_c, model.Wxh) + tf.matmul(hprev, model.Whh) + model.bh\n",
        "    y = tf.matmul(hprev, model.Why) + model.by\n",
        "    output = tf.nn.softmax(y)\n",
        "\n",
        "    ix = np.random.choice(range(vocab_size), p=np.ravel(output))\n",
        "    #x = np.zeros((1, vocab_size), dtype=np.float32)\n",
        "    #x[ix] = 1\n",
        "    x.append(ix)\n",
        "    \n",
        "    ixes.append(ix)\n",
        "\n",
        "  return ixes"
      ],
      "execution_count": 0,
      "outputs": []
    },
    {
      "cell_type": "code",
      "metadata": {
        "id": "XMoFX1rOagno",
        "colab_type": "code",
        "colab": {
          "base_uri": "https://localhost:8080/",
          "height": 442
        },
        "outputId": "489db1a0-505c-4b7c-dd3e-dbf9b85cad54"
      },
      "source": [
        "sample_ix = sample(500, model)\n",
        "txt = ''.join(ind_to_ch[ix] for ix in sample_ix)\n",
        "print(txt)"
      ],
      "execution_count": 124,
      "outputs": [
        {
          "output_type": "stream",
          "text": [
            " wish the whs,\n",
            "Thay do dimeno thond? what.\n",
            "\n",
            "Ar,: To Maveigs moik. :\n",
            "'Cwaliold ypideis ghon go he! Pratcerny\n",
            "hee: A wis lvy gema;\n",
            "They'l hey. Sheagom pbaf Roman'e whim ssicis\n",
            "Thian patprecusiay wa chiup tirid, O, bry dinge\n",
            "whil feampelfige powareaf.\n",
            "Th yous Marsiug breccesim semane wo'l.\n",
            "\n",
            "BRUTUS:\n",
            "The piang atw, wore piof edow aScranselp cconde:\n",
            "Thing hes offelind: Let ius,\n",
            "Whor\n",
            "ExcA l'me bavy, big ikele bace.\n",
            "\n",
            "VOLUMTIS:\n",
            "TMegSiuTShYe!\n",
            "\n",
            "MpNwer'sw: Th Suip\n",
            "OrIN the'd doa. Ye pe: Thbuur?\n",
            "\n",
            "ALERIAlS:\n",
            "O\n"
          ],
          "name": "stdout"
        }
      ]
    },
    {
      "cell_type": "code",
      "metadata": {
        "id": "ET8tLScSfRah",
        "colab_type": "code",
        "colab": {}
      },
      "source": [
        ""
      ],
      "execution_count": 0,
      "outputs": []
    }
  ]
}
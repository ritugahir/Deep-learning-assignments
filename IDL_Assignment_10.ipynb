{
  "nbformat": 4,
  "nbformat_minor": 0,
  "metadata": {
    "colab": {
      "name": "IDL_Assignment_10.ipynb",
      "provenance": [],
      "collapsed_sections": []
    },
    "kernelspec": {
      "name": "python3",
      "display_name": "Python 3"
    }
  },
  "cells": [
    {
      "cell_type": "markdown",
      "metadata": {
        "id": "zyRzmeNqEy3L",
        "colab_type": "text"
      },
      "source": [
        "Team Members\n",
        "\n",
        "*   Libin Kutty - Group 2\n",
        "*   Ritu Gahir - Group 3\n",
        "*   Viju Sudhi - Group 10"
      ]
    },
    {
      "cell_type": "code",
      "metadata": {
        "id": "NIeECRQvEnHz",
        "colab_type": "code",
        "colab": {}
      },
      "source": [
        "%tensorflow_version 2.x"
      ],
      "execution_count": 1,
      "outputs": []
    },
    {
      "cell_type": "code",
      "metadata": {
        "id": "AtD-mes-E2cz",
        "colab_type": "code",
        "colab": {}
      },
      "source": [
        "import tensorflow as tf\n",
        "import numpy as np\n",
        "import matplotlib.pyplot as plt\n",
        "from tensorflow.keras.models import Sequential\n",
        "from tensorflow.keras.layers import Dense, Dropout, Activation, Flatten\n",
        "from tensorflow.keras.layers import Conv2D, MaxPooling2D\n",
        "from tensorflow.keras.utils import to_categorical\n",
        "from tensorflow.keras.callbacks import TensorBoard\n",
        "from sklearn.model_selection import train_test_split"
      ],
      "execution_count": 2,
      "outputs": []
    },
    {
      "cell_type": "code",
      "metadata": {
        "id": "HNIBmfMtE4u5",
        "colab_type": "code",
        "colab": {}
      },
      "source": [
        "def model():\n",
        "  model = Sequential()\n",
        "\n",
        "  model.add(Conv2D(32, (3, 3), input_shape=(32,32,3)))\n",
        "  model.add(Activation('relu'))\n",
        "  model.add(MaxPooling2D(pool_size=(2, 2)))\n",
        "\n",
        "  model.add(Conv2D(64, (3, 3)))\n",
        "  model.add(Activation('relu'))\n",
        "  model.add(MaxPooling2D(pool_size=(2, 2)))\n",
        "\n",
        "  model.add(Conv2D(128, (3, 3)))\n",
        "  model.add(Activation('relu'))\n",
        "  model.add(MaxPooling2D(pool_size=(2, 2)))\n",
        "\n",
        "  model.add(Flatten())  # this converts our 3D feature maps to 1D feature vectors\n",
        "\n",
        "  model.add(Dense(64))\n",
        "  #model.add(Activation('relu'))\n",
        "\n",
        "  model.add(Dense(10))\n",
        "  model.add(Activation('softmax'))\n",
        "\n",
        "  return model"
      ],
      "execution_count": 11,
      "outputs": []
    },
    {
      "cell_type": "code",
      "metadata": {
        "id": "r4hl1SDtFBKw",
        "colab_type": "code",
        "colab": {}
      },
      "source": [
        "(train_imgs, train_lbls), (test_imgs, test_lbls) = tf.keras.datasets.cifar10.load_data()\n",
        "\n",
        "train_imgs = (train_imgs.astype(np.float32) / 255.).reshape((-1, 32, 32, 3))\n",
        "train_lbls = train_lbls.astype(np.int32)\n",
        "\n",
        "test_imgs = (test_imgs.astype(np.float32) / 255.).reshape((-1, 32, 32, 3))\n",
        "test_lbls = test_lbls.astype(np.int32)\n",
        "\n",
        "batch_size = 128\n",
        "\n",
        "train_data = tf.data.Dataset.from_tensor_slices((train_imgs, train_lbls))\n",
        "\n",
        "train_data = train_data.shuffle(train_imgs.shape[0])\n",
        "train_data = train_data.batch(batch_size)\n",
        "train_data = train_data.repeat(5)\n",
        "\n",
        "\n",
        "test_data = tf.data.Dataset.from_tensor_slices((test_imgs, test_lbls))\n",
        "test_data = test_data.batch(batch_size)"
      ],
      "execution_count": 17,
      "outputs": []
    },
    {
      "cell_type": "markdown",
      "metadata": {
        "id": "4xZRoYi6aXwy",
        "colab_type": "text"
      },
      "source": [
        "# Generation of Adversarial Examples\n",
        "\n",
        "    Model trained on original train data and adversarial examples is created on test data\n",
        "    Loss increases when model is tested on adversaraial data when compared to original test data"
      ]
    },
    {
      "cell_type": "code",
      "metadata": {
        "id": "t5M5QqIhGZjz",
        "colab_type": "code",
        "colab": {}
      },
      "source": [
        "cifar_model = model()"
      ],
      "execution_count": 18,
      "outputs": []
    },
    {
      "cell_type": "code",
      "metadata": {
        "id": "GXWwU_DvFUBo",
        "colab_type": "code",
        "colab": {}
      },
      "source": [
        "opt = tf.optimizers.Adam()\n",
        "\n",
        "loss_fn = tf.losses.SparseCategoricalCrossentropy(from_logits=True)"
      ],
      "execution_count": 19,
      "outputs": []
    },
    {
      "cell_type": "code",
      "metadata": {
        "id": "2ZkMN9MAFgrw",
        "colab_type": "code",
        "colab": {
          "base_uri": "https://localhost:8080/",
          "height": 357
        },
        "outputId": "d50d3e8d-fc1f-4ca4-9898-0b7133542fd8"
      },
      "source": [
        "train_acc_metric = tf.keras.metrics.SparseCategoricalAccuracy()\n",
        "\n",
        "for step, (img_batch, lbl_batch) in enumerate(train_data):\n",
        "    #if step > train_steps:\n",
        "    #    break\n",
        "\n",
        "    with tf.GradientTape() as tape:\n",
        "        logits = cifar_model(img_batch)\n",
        "        xent = loss_fn(lbl_batch, logits)\n",
        "\n",
        "    varis = cifar_model.trainable_variables\n",
        "    grads = tape.gradient(xent, varis)\n",
        "\n",
        "    opt.apply_gradients(zip(grads, varis))\n",
        "    \n",
        "    train_acc_metric(lbl_batch, logits)\n",
        "    \n",
        "    if not step % 100:\n",
        "        print(\"Loss: {} Accuracy: {}\".format(xent, train_acc_metric.result()))\n",
        "        train_acc_metric.reset_states()"
      ],
      "execution_count": 20,
      "outputs": [
        {
          "output_type": "stream",
          "text": [
            "Loss: 2.306267023086548 Accuracy: 0.0859375\n",
            "Loss: 2.1663479804992676 Accuracy: 0.24124999344348907\n",
            "Loss: 2.143115758895874 Accuracy: 0.3323437571525574\n",
            "Loss: 2.035195827484131 Accuracy: 0.3675781190395355\n",
            "Loss: 2.0309062004089355 Accuracy: 0.3872333765029907\n",
            "Loss: 1.9798495769500732 Accuracy: 0.40617188811302185\n",
            "Loss: 2.0523767471313477 Accuracy: 0.4378906190395355\n",
            "Loss: 2.000171661376953 Accuracy: 0.46773436665534973\n",
            "Loss: 1.959603190422058 Accuracy: 0.4875313639640808\n",
            "Loss: 1.9461708068847656 Accuracy: 0.5075781345367432\n",
            "Loss: 1.9544520378112793 Accuracy: 0.5232031345367432\n",
            "Loss: 1.8927922248840332 Accuracy: 0.5376562476158142\n",
            "Loss: 1.849780797958374 Accuracy: 0.5403074026107788\n",
            "Loss: 1.859367847442627 Accuracy: 0.5589843988418579\n",
            "Loss: 1.9148237705230713 Accuracy: 0.5661718845367432\n",
            "Loss: 1.961467981338501 Accuracy: 0.5739843845367432\n",
            "Loss: 1.893547773361206 Accuracy: 0.585476815700531\n",
            "Loss: 1.925924301147461 Accuracy: 0.6006249785423279\n",
            "Loss: 1.9186731576919556 Accuracy: 0.602343738079071\n",
            "Loss: 1.853712558746338 Accuracy: 0.5996875166893005\n"
          ],
          "name": "stdout"
        }
      ]
    },
    {
      "cell_type": "code",
      "metadata": {
        "id": "TCOt2qoJGTHU",
        "colab_type": "code",
        "colab": {}
      },
      "source": [
        "for step, (imgt_batch, lblt_batch) in enumerate(test_data):\n",
        "\n",
        "  with tf.GradientTape() as tape:\n",
        "    tape.watch(imgt_batch)      \n",
        "    logits = cifar_model(imgt_batch)\n",
        "    xent = loss_fn(lblt_batch, logits)\n",
        "\n",
        "  # Get the gradients of the loss w.r.t to the input image.\n",
        "  gradient = tape.gradient(xent, imgt_batch)\n",
        "  # Get the sign of the gradients to create the perturbation\n",
        "  signed_grad = tf.math.sign(gradient)\n",
        "  \n",
        "  break"
      ],
      "execution_count": 23,
      "outputs": []
    },
    {
      "cell_type": "code",
      "metadata": {
        "id": "pmX8cg2jK1rG",
        "colab_type": "code",
        "colab": {
          "base_uri": "https://localhost:8080/",
          "height": 867
        },
        "outputId": "073e0211-79d4-44ce-e5d2-f9087ed97dc3"
      },
      "source": [
        "signed_grad[0]"
      ],
      "execution_count": 25,
      "outputs": [
        {
          "output_type": "execute_result",
          "data": {
            "text/plain": [
              "<tf.Tensor: shape=(32, 32, 3), dtype=float32, numpy=\n",
              "array([[[-1., -1., -1.],\n",
              "        [-1.,  1.,  1.],\n",
              "        [-1., -1.,  1.],\n",
              "        ...,\n",
              "        [ 1.,  1., -1.],\n",
              "        [ 0.,  0.,  0.],\n",
              "        [ 0.,  0.,  0.]],\n",
              "\n",
              "       [[-1., -1., -1.],\n",
              "        [-1., -1., -1.],\n",
              "        [-1.,  1., -1.],\n",
              "        ...,\n",
              "        [ 1., -1., -1.],\n",
              "        [ 0.,  0.,  0.],\n",
              "        [ 0.,  0.,  0.]],\n",
              "\n",
              "       [[ 1., -1., -1.],\n",
              "        [-1., -1., -1.],\n",
              "        [ 1.,  1., -1.],\n",
              "        ...,\n",
              "        [ 1., -1., -1.],\n",
              "        [ 0.,  0.,  0.],\n",
              "        [ 0.,  0.,  0.]],\n",
              "\n",
              "       ...,\n",
              "\n",
              "       [[ 1.,  1.,  1.],\n",
              "        [-1.,  1., -1.],\n",
              "        [ 1., -1.,  1.],\n",
              "        ...,\n",
              "        [ 1.,  1.,  1.],\n",
              "        [ 0.,  0.,  0.],\n",
              "        [ 0.,  0.,  0.]],\n",
              "\n",
              "       [[ 0.,  0.,  0.],\n",
              "        [ 0.,  0.,  0.],\n",
              "        [ 0.,  0.,  0.],\n",
              "        ...,\n",
              "        [ 0.,  0.,  0.],\n",
              "        [ 0.,  0.,  0.],\n",
              "        [ 0.,  0.,  0.]],\n",
              "\n",
              "       [[ 0.,  0.,  0.],\n",
              "        [ 0.,  0.,  0.],\n",
              "        [ 0.,  0.,  0.],\n",
              "        ...,\n",
              "        [ 0.,  0.,  0.],\n",
              "        [ 0.,  0.,  0.],\n",
              "        [ 0.,  0.,  0.]]], dtype=float32)>"
            ]
          },
          "metadata": {
            "tags": []
          },
          "execution_count": 25
        }
      ]
    },
    {
      "cell_type": "code",
      "metadata": {
        "id": "FksVkyrpLU2r",
        "colab_type": "code",
        "colab": {
          "base_uri": "https://localhost:8080/",
          "height": 283
        },
        "outputId": "5611a871-7451-4cf4-8e21-dbc7e3058c6d"
      },
      "source": [
        "plt.imshow(signed_grad[0]*0.5+0.5)"
      ],
      "execution_count": 26,
      "outputs": [
        {
          "output_type": "execute_result",
          "data": {
            "text/plain": [
              "<matplotlib.image.AxesImage at 0x7f4d53ffb7b8>"
            ]
          },
          "metadata": {
            "tags": []
          },
          "execution_count": 26
        },
        {
          "output_type": "display_data",
          "data": {
            "image/png": "[encoded data removed]",
            "text/plain": [
              "<Figure size 432x288 with 1 Axes>"
            ]
          },
          "metadata": {
            "tags": [],
            "needs_background": "light"
          }
        }
      ]
    },
    {
      "cell_type": "code",
      "metadata": {
        "id": "YzbRnG7rLfjF",
        "colab_type": "code",
        "colab": {
          "base_uri": "https://localhost:8080/",
          "height": 283
        },
        "outputId": "491cdd7f-dbaa-48e3-b33d-bd0935e8c41e"
      },
      "source": [
        "plt.imshow(imgt_batch[0])"
      ],
      "execution_count": 27,
      "outputs": [
        {
          "output_type": "execute_result",
          "data": {
            "text/plain": [
              "<matplotlib.image.AxesImage at 0x7f4d53b4f908>"
            ]
          },
          "metadata": {
            "tags": []
          },
          "execution_count": 27
        },
        {
          "output_type": "display_data",
          "data": {
            "image/png": "[encoded data removed]",
            "text/plain": [
              "<Figure size 432x288 with 1 Axes>"
            ]
          },
          "metadata": {
            "tags": [],
            "needs_background": "light"
          }
        }
      ]
    },
    {
      "cell_type": "code",
      "metadata": {
        "id": "o1dsOFU_LjiI",
        "colab_type": "code",
        "colab": {
          "base_uri": "https://localhost:8080/",
          "height": 300
        },
        "outputId": "e6666c2e-531a-4f2d-de66-e06613acf681"
      },
      "source": [
        "adv_exp = imgt_batch[0] + 0.01*signed_grad[0]\n",
        "plt.imshow(adv_exp)"
      ],
      "execution_count": 46,
      "outputs": [
        {
          "output_type": "stream",
          "text": [
            "Clipping input data to the valid range for imshow with RGB data ([0..1] for floats or [0..255] for integers).\n"
          ],
          "name": "stderr"
        },
        {
          "output_type": "execute_result",
          "data": {
            "text/plain": [
              "<matplotlib.image.AxesImage at 0x7f4d53650e10>"
            ]
          },
          "metadata": {
            "tags": []
          },
          "execution_count": 46
        },
        {
          "output_type": "display_data",
          "data": {
            "image/png": "[encoded data removed]",
            "text/plain": [
              "<Figure size 432x288 with 1 Axes>"
            ]
          },
          "metadata": {
            "tags": [],
            "needs_background": "light"
          }
        }
      ]
    },
    {
      "cell_type": "code",
      "metadata": {
        "id": "DfEhPcdHMBII",
        "colab_type": "code",
        "colab": {
          "base_uri": "https://localhost:8080/",
          "height": 34
        },
        "outputId": "3f7399be-0f57-47da-dc16-664fa08b8fe6"
      },
      "source": [
        "pred = cifar_model(imgt_batch)\n",
        "loss_pred = loss_fn(lblt_batch, pred)\n",
        "\n",
        "print(loss_pred)"
      ],
      "execution_count": 47,
      "outputs": [
        {
          "output_type": "stream",
          "text": [
            "tf.Tensor(1.828654, shape=(), dtype=float32)\n"
          ],
          "name": "stdout"
        }
      ]
    },
    {
      "cell_type": "code",
      "metadata": {
        "id": "NbAjPZ96MwKJ",
        "colab_type": "code",
        "colab": {}
      },
      "source": [
        "adv_exp_batch = imgt_batch + 0.01*signed_grad"
      ],
      "execution_count": 48,
      "outputs": []
    },
    {
      "cell_type": "code",
      "metadata": {
        "id": "tHJ6ZpiqNgH2",
        "colab_type": "code",
        "colab": {
          "base_uri": "https://localhost:8080/",
          "height": 34
        },
        "outputId": "577bff36-71f4-4866-a2eb-48b192857e31"
      },
      "source": [
        "adv_pred = cifar_model(adv_exp_batch)\n",
        "loss_pred = loss_fn(lblt_batch, adv_pred)\n",
        "\n",
        "print(loss_pred)"
      ],
      "execution_count": 49,
      "outputs": [
        {
          "output_type": "stream",
          "text": [
            "tf.Tensor(2.1082363, shape=(), dtype=float32)\n"
          ],
          "name": "stdout"
        }
      ]
    },
    {
      "cell_type": "markdown",
      "metadata": {
        "id": "xdDlEs6UZTNf",
        "colab_type": "text"
      },
      "source": [
        "# Adversarial Training\n",
        "\n",
        "With double batch training - On original and generated adversairal examples and tested on only adversarail  example\n",
        "\n",
        "\n",
        "---\n",
        "\n",
        "Adversarail training affects the performance of the original data but the loss of test data(adversarial data) has decrease a little when compared with model which was not trained with generated examples"
      ]
    },
    {
      "cell_type": "code",
      "metadata": {
        "id": "Quik2sYgN3VW",
        "colab_type": "code",
        "colab": {}
      },
      "source": [
        "adv_train_model = model()"
      ],
      "execution_count": 61,
      "outputs": []
    },
    {
      "cell_type": "code",
      "metadata": {
        "id": "jKuHSfROPE9J",
        "colab_type": "code",
        "colab": {
          "base_uri": "https://localhost:8080/",
          "height": 1000
        },
        "outputId": "20ed38da-86da-48b7-cb4e-cda20ad05556"
      },
      "source": [
        "for step, (img_batch, lbl_batch) in enumerate(train_data):\n",
        "\n",
        "#First trrain with actual image\n",
        "  with tf.GradientTape() as tape:\n",
        "      logits = adv_train_model(img_batch)\n",
        "      xent = loss_fn(lbl_batch, logits)\n",
        "\n",
        "  varis = adv_train_model.trainable_variables\n",
        "  grads = tape.gradient(xent, varis)\n",
        "\n",
        "  opt.apply_gradients(zip(grads, varis))\n",
        "#--------------------------------\n",
        "\n",
        "  train_acc_metric(lbl_batch, logits)\n",
        "\n",
        "  if not step % 100:\n",
        "    print('Without Adversarail Examples')\n",
        "    print(\"Loss: {} Accuracy: {}\".format(xent, train_acc_metric.result()))\n",
        "    train_acc_metric.reset_states()\n",
        "\n",
        "#Generate Adversarial Example\n",
        "  with tf.GradientTape() as tape1:\n",
        "    tape1.watch(img_batch)      \n",
        "    logits = adv_train_model(img_batch)\n",
        "    xent = loss_fn(lbl_batch, logits)\n",
        "\n",
        "  gradient = tape1.gradient(xent, img_batch)\n",
        "  signed_grad = tf.math.sign(gradient)    \n",
        "\n",
        "  train_adv_batch = img_batch + 0.01*signed_grad\n",
        "#---------------------------------\n",
        "\n",
        "#Second train with adversarial example\n",
        "  with tf.GradientTape() as tape2:\n",
        "    logits = adv_train_model(train_adv_batch)\n",
        "    xent = loss_fn(lbl_batch, logits)\n",
        "\n",
        "  varis = adv_train_model.trainable_variables\n",
        "  grads = tape2.gradient(xent, varis)\n",
        "\n",
        "  opt.apply_gradients(zip(grads, varis))\n",
        "#---------------------------------\n",
        "\n",
        "  train_acc_metric(lbl_batch, logits)\n",
        "\n",
        "  if not step % 100:\n",
        "    print('With Adversarial Examples')\n",
        "    print(\"Loss: {} Accuracy: {}\".format(xent, train_acc_metric.result()))\n",
        "    train_acc_metric.reset_states()"
      ],
      "execution_count": 62,
      "outputs": [
        {
          "output_type": "stream",
          "text": [
            "Without Adversarail Examples\n",
            "Loss: 2.302178382873535 Accuracy: 0.0992838516831398\n",
            "With Adversarial Examples\n",
            "Loss: 2.2936441898345947 Accuracy: 0.1328125\n",
            "Without Adversarail Examples\n",
            "Loss: 2.2337164878845215 Accuracy: 0.20999528467655182\n",
            "With Adversarial Examples\n",
            "Loss: 2.284864664077759 Accuracy: 0.140625\n",
            "Without Adversarail Examples\n",
            "Loss: 2.163830280303955 Accuracy: 0.26452574133872986\n",
            "With Adversarial Examples\n",
            "Loss: 2.2401692867279053 Accuracy: 0.1953125\n",
            "Without Adversarail Examples\n",
            "Loss: 2.039684772491455 Accuracy: 0.31312814354896545\n",
            "With Adversarial Examples\n",
            "Loss: 2.128347158432007 Accuracy: 0.3125\n",
            "Without Adversarail Examples\n",
            "Loss: 2.056955099105835 Accuracy: 0.342291921377182\n",
            "With Adversarial Examples\n",
            "Loss: 2.1797077655792236 Accuracy: 0.28125\n",
            "Without Adversarail Examples\n",
            "Loss: 1.9517382383346558 Accuracy: 0.3642430901527405\n",
            "With Adversarial Examples\n",
            "Loss: 2.0921273231506348 Accuracy: 0.34375\n",
            "Without Adversarail Examples\n",
            "Loss: 2.0290210247039795 Accuracy: 0.3698963522911072\n",
            "With Adversarial Examples\n",
            "Loss: 2.1331963539123535 Accuracy: 0.328125\n",
            "Without Adversarail Examples\n",
            "Loss: 2.0494933128356934 Accuracy: 0.37782663106918335\n",
            "With Adversarial Examples\n",
            "Loss: 2.1270813941955566 Accuracy: 0.3203125\n",
            "Without Adversarail Examples\n",
            "Loss: 2.045710802078247 Accuracy: 0.3849700391292572\n",
            "With Adversarial Examples\n",
            "Loss: 2.1142578125 Accuracy: 0.3359375\n",
            "Without Adversarail Examples\n",
            "Loss: 1.9680278301239014 Accuracy: 0.3932946026325226\n",
            "With Adversarial Examples\n",
            "Loss: 2.0939688682556152 Accuracy: 0.3671875\n",
            "Without Adversarail Examples\n",
            "Loss: 2.022200584411621 Accuracy: 0.4054648280143738\n",
            "With Adversarial Examples\n",
            "Loss: 2.131610631942749 Accuracy: 0.3203125\n",
            "Without Adversarail Examples\n",
            "Loss: 2.033613920211792 Accuracy: 0.4180668890476227\n",
            "With Adversarial Examples\n",
            "Loss: 2.17556095123291 Accuracy: 0.3046875\n",
            "Without Adversarail Examples\n",
            "Loss: 1.988189935684204 Accuracy: 0.4096784293651581\n",
            "With Adversarial Examples\n",
            "Loss: 2.1204874515533447 Accuracy: 0.3359375\n",
            "Without Adversarail Examples\n",
            "Loss: 1.9219346046447754 Accuracy: 0.43380966782569885\n",
            "With Adversarial Examples\n",
            "Loss: 2.0498502254486084 Accuracy: 0.4140625\n",
            "Without Adversarail Examples\n",
            "Loss: 1.9005887508392334 Accuracy: 0.42988380789756775\n",
            "With Adversarial Examples\n",
            "Loss: 2.064730405807495 Accuracy: 0.375\n",
            "Without Adversarail Examples\n",
            "Loss: 1.9254679679870605 Accuracy: 0.4327104389667511\n",
            "With Adversarial Examples\n",
            "Loss: 2.064208984375 Accuracy: 0.40625\n",
            "Without Adversarail Examples\n",
            "Loss: 2.0333504676818848 Accuracy: 0.434150367975235\n",
            "With Adversarial Examples\n",
            "Loss: 2.175596237182617 Accuracy: 0.265625\n",
            "Without Adversarail Examples\n",
            "Loss: 1.9512417316436768 Accuracy: 0.4426428973674774\n",
            "With Adversarial Examples\n",
            "Loss: 2.082853317260742 Accuracy: 0.3828125\n",
            "Without Adversarail Examples\n",
            "Loss: 1.864485502243042 Accuracy: 0.4488458037376404\n",
            "With Adversarial Examples\n",
            "Loss: 2.0090672969818115 Accuracy: 0.4609375\n",
            "Without Adversarail Examples\n",
            "Loss: 1.9087021350860596 Accuracy: 0.44503769278526306\n",
            "With Adversarial Examples\n",
            "Loss: 2.0390472412109375 Accuracy: 0.4140625\n"
          ],
          "name": "stdout"
        }
      ]
    },
    {
      "cell_type": "code",
      "metadata": {
        "id": "duuAwqoaRfjT",
        "colab_type": "code",
        "colab": {
          "base_uri": "https://localhost:8080/",
          "height": 34
        },
        "outputId": "84c673d9-88eb-4d52-c5e6-5df23e1aa439"
      },
      "source": [
        "adv_pred = adv_train_model(adv_exp_batch)\n",
        "loss_pred = loss_fn(lblt_batch, adv_pred)\n",
        "\n",
        "print(loss_pred)"
      ],
      "execution_count": 63,
      "outputs": [
        {
          "output_type": "stream",
          "text": [
            "tf.Tensor(1.9150372, shape=(), dtype=float32)\n"
          ],
          "name": "stdout"
        }
      ]
    },
    {
      "cell_type": "code",
      "metadata": {
        "id": "65fk-bSbZQdZ",
        "colab_type": "code",
        "colab": {}
      },
      "source": [
        ""
      ],
      "execution_count": null,
      "outputs": []
    }
  ]
}